{
 "cells": [
  {
   "cell_type": "markdown",
   "metadata": {},
   "source": [
    "# Assignment 3"
   ]
  },
  {
   "cell_type": "code",
   "execution_count": 1,
   "metadata": {},
   "outputs": [],
   "source": [
    "import gzip\n",
    "import json\n",
    "import pandas as pd\n",
    "import numpy as np\n",
    "from scipy.sparse import coo_matrix\n",
    "\n",
    "import torch\n",
    "from torch import tensor\n",
    "from torch_geometric.data import Data\n",
    "from torch_geometric.transforms import RandomNodeSplit\n",
    "\n",
    "import torch.nn as nn\n",
    "from torch_geometric.nn import GCNConv\n",
    "from torch_geometric.nn import GATConv\n",
    "import torch.nn.functional as F\n",
    "\n",
    "import torch.optim as optim\n",
    "from tqdm import tqdm\n",
    "import matplotlib.pyplot as plt\n",
    "import seaborn as sns"
   ]
  },
  {
   "cell_type": "code",
   "execution_count": 2,
   "metadata": {},
   "outputs": [],
   "source": [
    "with gzip.open('xbar/1/xbar.json.gz','rb') as f:\n",
    "    design = json.loads(f.read().decode('utf-8'))\n",
    "    \n",
    "instances = pd.DataFrame(design['instances'])\n",
    "nets = pd.DataFrame(design['nets'])\n",
    "\n",
    "conn=np.load('xbar/1/xbar_connectivity.npz')\n",
    "A = coo_matrix((conn['data'], (conn['row'], conn['col'])), shape=conn['shape'])\n",
    "A = A.__mul__(A.T)\n",
    "\n",
    "def buildBST(array,start=0,finish=-1):\n",
    "    if finish<0:\n",
    "        finish = len(array)\n",
    "    mid = (start + finish) // 2\n",
    "    if mid-start==1:\n",
    "        ltl=start\n",
    "    else:\n",
    "        ltl=buildBST(array,start,mid)\n",
    "    \n",
    "    if finish-mid==1:\n",
    "        gtl=mid\n",
    "    else:\n",
    "        gtl=buildBST(array,mid,finish)\n",
    "        \n",
    "    return((array[mid],ltl,gtl))\n",
    "\n",
    "congestion_data = np.load('xbar/1/xbar_congestion.npz')\n",
    "xbst=buildBST(congestion_data['xBoundaryList'])\n",
    "ybst=buildBST(congestion_data['yBoundaryList'])\n",
    "demand = np.zeros(shape = [instances.shape[0],])\n",
    "\n",
    "\n",
    "def getGRCIndex(x,y,xbst,ybst):\n",
    "    while (type(xbst)==tuple):\n",
    "        if x < xbst[0]:\n",
    "            xbst=xbst[1]\n",
    "        else:\n",
    "            xbst=xbst[2]\n",
    "            \n",
    "    while (type(ybst)==tuple):\n",
    "        if y < ybst[0]:\n",
    "            ybst=ybst[1]\n",
    "        else:\n",
    "            ybst=ybst[2]\n",
    "            \n",
    "    return ybst, xbst\n",
    "\n",
    "\n",
    "for k in range(instances.shape[0]):\n",
    "    #print(k)\n",
    "    xloc = instances.iloc[k]['xloc']; yloc = instances.iloc[k]['yloc']\n",
    "    i,j=getGRCIndex(xloc,yloc,xbst,ybst)\n",
    "    d = 0 \n",
    "    for l in list(congestion_data['layerList']): \n",
    "        lyr=list(congestion_data['layerList']).index(l)\n",
    "        d += congestion_data['demand'][lyr][i][j]\n",
    "    demand[k] = d\n",
    "        \n",
    "instances['routing_demand'] = demand"
   ]
  },
  {
   "cell_type": "code",
   "execution_count": 3,
   "metadata": {},
   "outputs": [
    {
     "data": {
      "text/html": [
       "<div>\n",
       "<style scoped>\n",
       "    .dataframe tbody tr th:only-of-type {\n",
       "        vertical-align: middle;\n",
       "    }\n",
       "\n",
       "    .dataframe tbody tr th {\n",
       "        vertical-align: top;\n",
       "    }\n",
       "\n",
       "    .dataframe thead th {\n",
       "        text-align: right;\n",
       "    }\n",
       "</style>\n",
       "<table border=\"1\" class=\"dataframe\">\n",
       "  <thead>\n",
       "    <tr style=\"text-align: right;\">\n",
       "      <th></th>\n",
       "      <th>name</th>\n",
       "      <th>id</th>\n",
       "      <th>xloc</th>\n",
       "      <th>yloc</th>\n",
       "      <th>cell</th>\n",
       "      <th>orient</th>\n",
       "      <th>routing_demand</th>\n",
       "    </tr>\n",
       "  </thead>\n",
       "  <tbody>\n",
       "    <tr>\n",
       "      <th>0</th>\n",
       "      <td>clk_gate_out_reg/latch</td>\n",
       "      <td>0</td>\n",
       "      <td>41984</td>\n",
       "      <td>44544</td>\n",
       "      <td>23</td>\n",
       "      <td>0</td>\n",
       "      <td>20.0</td>\n",
       "    </tr>\n",
       "    <tr>\n",
       "      <th>1</th>\n",
       "      <td>clk_gate_out_reg_0/latch</td>\n",
       "      <td>1</td>\n",
       "      <td>41984</td>\n",
       "      <td>47616</td>\n",
       "      <td>23</td>\n",
       "      <td>6</td>\n",
       "      <td>23.0</td>\n",
       "    </tr>\n",
       "    <tr>\n",
       "      <th>2</th>\n",
       "      <td>clk_gate_out_reg_1/latch</td>\n",
       "      <td>2</td>\n",
       "      <td>44160</td>\n",
       "      <td>44544</td>\n",
       "      <td>23</td>\n",
       "      <td>0</td>\n",
       "      <td>23.0</td>\n",
       "    </tr>\n",
       "    <tr>\n",
       "      <th>3</th>\n",
       "      <td>clk_gate_out_reg_2/latch</td>\n",
       "      <td>3</td>\n",
       "      <td>44160</td>\n",
       "      <td>47616</td>\n",
       "      <td>23</td>\n",
       "      <td>0</td>\n",
       "      <td>22.0</td>\n",
       "    </tr>\n",
       "    <tr>\n",
       "      <th>4</th>\n",
       "      <td>clk_gate_out_reg_3/latch</td>\n",
       "      <td>4</td>\n",
       "      <td>46336</td>\n",
       "      <td>47616</td>\n",
       "      <td>23</td>\n",
       "      <td>0</td>\n",
       "      <td>21.0</td>\n",
       "    </tr>\n",
       "  </tbody>\n",
       "</table>\n",
       "</div>"
      ],
      "text/plain": [
       "                       name  id   xloc   yloc  cell  orient  routing_demand\n",
       "0    clk_gate_out_reg/latch   0  41984  44544    23       0            20.0\n",
       "1  clk_gate_out_reg_0/latch   1  41984  47616    23       6            23.0\n",
       "2  clk_gate_out_reg_1/latch   2  44160  44544    23       0            23.0\n",
       "3  clk_gate_out_reg_2/latch   3  44160  47616    23       0            22.0\n",
       "4  clk_gate_out_reg_3/latch   4  46336  47616    23       0            21.0"
      ]
     },
     "execution_count": 3,
     "metadata": {},
     "output_type": "execute_result"
    }
   ],
   "source": [
    "instances.head()"
   ]
  },
  {
   "cell_type": "code",
   "execution_count": 4,
   "metadata": {
    "scrolled": true
   },
   "outputs": [
    {
     "name": "stderr",
     "output_type": "stream",
     "text": [
      "/var/folders/rg/mvn599q51g5_76hcm5b9cjgw0000gn/T/ipykernel_20109/4092076974.py:5: UserWarning: Creating a tensor from a list of numpy.ndarrays is extremely slow. Please consider converting the list to a single numpy.ndarray with numpy.array() before converting to a tensor. (Triggered internally at /Users/runner/work/_temp/anaconda/conda-bld/pytorch_1682343668887/work/torch/csrc/utils/tensor_new.cpp:248.)\n",
      "  edge_index = torch.tensor([A.tocoo().row, A.tocoo().col])\n"
     ]
    },
    {
     "data": {
      "text/plain": [
       "Data(edge_index=[2, 141472], y=[3952], X=[3952, 4])"
      ]
     },
     "execution_count": 4,
     "metadata": {},
     "output_type": "execute_result"
    }
   ],
   "source": [
    "# Data Preprocessing\n",
    "data = Data(\n",
    "    X = tensor(instances.drop(columns=['id', 'name', 'routing_demand']).values).float(),\n",
    "    y = tensor(demand).float(),\n",
    "    edge_index = torch.tensor([A.tocoo().row, A.tocoo().col])\n",
    ")\n",
    "data"
   ]
  },
  {
   "cell_type": "markdown",
   "metadata": {},
   "source": [
    "## 1.a"
   ]
  },
  {
   "cell_type": "code",
   "execution_count": 5,
   "metadata": {},
   "outputs": [
    {
     "name": "stderr",
     "output_type": "stream",
     "text": [
      "/Users/twshen/anaconda3/lib/python3.11/site-packages/torch_geometric/data/storage.py:327: UserWarning: Unable to accurately infer 'num_nodes' from the attribute set '{'y', 'edge_index', 'X'}'. Please explicitly set 'num_nodes' as an attribute of 'data' to suppress this warning\n",
      "  warnings.warn(\n"
     ]
    }
   ],
   "source": [
    "# Split data into training and testing sets\n",
    "seed = 19\n",
    "torch.manual_seed(seed)\n",
    "split = RandomNodeSplit(num_splits=1, num_val=0.0, num_test=0.3)\n",
    "split_data = split(data)\n",
    "split_data.train_mask.shape\n",
    "\n",
    "X_train, y_train = data.X[split_data.train_mask], data.y[split_data.train_mask]\n",
    "train_indices = torch.argwhere(split_data.train_mask)\n",
    "edge_index_train_mask = torch.isin(data.edge_index.t(), train_indices).sum(dim=1) == 2\n",
    "edge_index_train = data.edge_index.t()[edge_index_train_mask].t()\n",
    "train_instances = instances[split_data.train_mask.numpy()].reset_index(drop=True)\n",
    "edge_index_train = edge_index_train.apply_(lambda x: train_instances[train_instances.id==x].index.values[0])\n",
    "\n",
    "X_test, y_test = data.X[split_data.test_mask], data.y[split_data.test_mask]\n",
    "test_indices = torch.argwhere(split_data.test_mask)\n",
    "edge_index_test_mask = torch.isin(data.edge_index.t(), test_indices).sum(dim=1) == 2\n",
    "edge_index_test = data.edge_index.t()[edge_index_test_mask].t()\n",
    "test_instances = instances[split_data.test_mask.numpy()].reset_index(drop=True)\n",
    "edge_index_test = edge_index_test.apply_(lambda x: test_instances[test_instances.id==x].index.values[0])\n",
    "\n",
    "train_data = Data(X=X_train, y=y_train, edge_index=edge_index_train)\n",
    "test_data = Data(X=X_test, y=y_test, edge_index=edge_index_test)"
   ]
  },
  {
   "cell_type": "code",
   "execution_count": 6,
   "metadata": {},
   "outputs": [],
   "source": [
    "# Network Architecture\n",
    "class GCN(nn.Module):\n",
    "    def __init__(self, input_size, hidden_channels, hidden_layers):\n",
    "        super(GCN, self).__init__()\n",
    "        self.input_size = input_size\n",
    "        self.hidden_channels = hidden_channels\n",
    "        self.hidden_layers = hidden_layers\n",
    "        \n",
    "        self.layers = nn.ModuleList()\n",
    "        self.layers.append(GCNConv(self.input_size, self.hidden_channels))\n",
    "        for _ in range(self.hidden_layers):\n",
    "            self.layers.append(GCNConv(self.hidden_channels, self.hidden_channels))\n",
    "        self.layers.append(nn.Linear(self.hidden_channels, 1))\n",
    "    \n",
    "    def forward(self, data):\n",
    "        x, edge_index = data.X, data.edge_index\n",
    "        \n",
    "        for i, layer in enumerate(self.layers):\n",
    "            if i <= self.hidden_layers:\n",
    "                x = layer(x, edge_index)\n",
    "                x = F.relu(x)\n",
    "            else:\n",
    "                x = layer(x)\n",
    "        return x"
   ]
  },
  {
   "cell_type": "code",
   "execution_count": 7,
   "metadata": {},
   "outputs": [],
   "source": [
    "# Train\n",
    "def train(mdl, epochs=5000):\n",
    "    criterion = nn.MSELoss()\n",
    "    optimizer = torch.optim.Adam(mdl.parameters(), lr=0.002, weight_decay=5e-6)\n",
    "    \n",
    "    train_losses = np.array([])\n",
    "    for epoch in tqdm(range(epochs)):\n",
    "        optimizer.zero_grad()\n",
    "        output = mdl(train_data)\n",
    "        \n",
    "        loss = criterion(output, train_data.y)\n",
    "        train_losses = np.append(train_losses, loss.detach().numpy())\n",
    "        loss.backward()\n",
    "        optimizer.step()\n",
    "        \n",
    "        #if epoch % 500 == 0:\n",
    "            #print(f'Epoch {epoch} Loss: {loss}')\n",
    "    return loss"
   ]
  },
  {
   "cell_type": "code",
   "execution_count": 8,
   "metadata": {
    "scrolled": false
   },
   "outputs": [
    {
     "name": "stdout",
     "output_type": "stream",
     "text": [
      "Training model with 1 layer(s)\n"
     ]
    },
    {
     "name": "stderr",
     "output_type": "stream",
     "text": [
      "  0%|                                                  | 0/5000 [00:00<?, ?it/s]/Users/twshen/anaconda3/lib/python3.11/site-packages/torch/nn/modules/loss.py:536: UserWarning: Using a target size (torch.Size([2766])) that is different to the input size (torch.Size([2766, 1])). This will likely lead to incorrect results due to broadcasting. Please ensure they have the same size.\n",
      "  return F.mse_loss(input, target, reduction=self.reduction)\n",
      "100%|███████████████████████████████████████| 5000/5000 [01:43<00:00, 48.38it/s]\n",
      "/Users/twshen/anaconda3/lib/python3.11/site-packages/torch/nn/modules/loss.py:536: UserWarning: Using a target size (torch.Size([1186])) that is different to the input size (torch.Size([1186, 1])). This will likely lead to incorrect results due to broadcasting. Please ensure they have the same size.\n",
      "  return F.mse_loss(input, target, reduction=self.reduction)\n"
     ]
    },
    {
     "name": "stdout",
     "output_type": "stream",
     "text": [
      "1-layer Testing Loss: 210.19895935058594\n",
      "Training model with 2 layer(s)\n"
     ]
    },
    {
     "name": "stderr",
     "output_type": "stream",
     "text": [
      "100%|███████████████████████████████████████| 5000/5000 [02:21<00:00, 35.33it/s]\n"
     ]
    },
    {
     "name": "stdout",
     "output_type": "stream",
     "text": [
      "2-layer Testing Loss: 132.0433807373047\n",
      "Training model with 3 layer(s)\n"
     ]
    },
    {
     "name": "stderr",
     "output_type": "stream",
     "text": [
      "100%|███████████████████████████████████████| 5000/5000 [02:59<00:00, 27.93it/s]\n"
     ]
    },
    {
     "name": "stdout",
     "output_type": "stream",
     "text": [
      "3-layer Testing Loss: 1070.0345458984375\n",
      "Training model with 4 layer(s)\n"
     ]
    },
    {
     "name": "stderr",
     "output_type": "stream",
     "text": [
      "100%|███████████████████████████████████████| 5000/5000 [03:39<00:00, 22.76it/s]\n"
     ]
    },
    {
     "name": "stdout",
     "output_type": "stream",
     "text": [
      "4-layer Testing Loss: 365.4933776855469\n",
      "Training model with 5 layer(s)\n"
     ]
    },
    {
     "name": "stderr",
     "output_type": "stream",
     "text": [
      "100%|███████████████████████████████████████| 5000/5000 [04:19<00:00, 19.30it/s]"
     ]
    },
    {
     "name": "stdout",
     "output_type": "stream",
     "text": [
      "5-layer Testing Loss: 15532.548828125\n"
     ]
    },
    {
     "name": "stderr",
     "output_type": "stream",
     "text": [
      "\n"
     ]
    }
   ],
   "source": [
    "# Train 1-5 hidden layer GCNs\n",
    "input_size = 4\n",
    "hidden_channels = 48\n",
    "criterion = nn.MSELoss()\n",
    "\n",
    "test_losses = np.array([])\n",
    "\n",
    "for i in range(1,6):\n",
    "    print(f'Training model with {i} layer(s)')\n",
    "    \n",
    "    mdl = GCN(input_size=input_size, hidden_channels=hidden_channels, hidden_layers=i)\n",
    "    mdl.train()\n",
    "    train(mdl)\n",
    "    mdl.eval()\n",
    "    with torch.no_grad():\n",
    "        test_loss = criterion(mdl(test_data), test_data.y)\n",
    "        print(f'{i}-layer Testing Loss: {test_loss}')\n",
    "        test_losses = np.append(test_losses, test_loss.detach().numpy())"
   ]
  },
  {
   "cell_type": "code",
   "execution_count": 9,
   "metadata": {},
   "outputs": [
    {
     "data": {
      "text/plain": [
       "<Axes: >"
      ]
     },
     "execution_count": 9,
     "metadata": {},
     "output_type": "execute_result"
    },
    {
     "data": {
      "image/png": "[encoded data removed]",
      "text/plain": [
       "<Figure size 640x480 with 1 Axes>"
      ]
     },
     "metadata": {},
     "output_type": "display_data"
    }
   ],
   "source": [
    "sns.lineplot(x=range(len(test_losses)), y=test_losses)"
   ]
  },
  {
   "cell_type": "markdown",
   "metadata": {},
   "source": [
    "## 1.b"
   ]
  },
  {
   "cell_type": "code",
   "execution_count": 12,
   "metadata": {},
   "outputs": [],
   "source": [
    "class GAT(nn.Module):\n",
    "    def __init__(self, input_size, hidden_channels, hidden_layers):\n",
    "        super(GAT, self).__init__()\n",
    "        self.input_size = input_size\n",
    "        self.hidden_channels = hidden_channels\n",
    "        self.hidden_layers = hidden_layers\n",
    "        \n",
    "        self.layers = nn.ModuleList()\n",
    "        self.layers.append(GATConv(input_size, hidden_channels))\n",
    "        for _ in range(self.hidden_layers):\n",
    "            self.layers.append(GATConv(hidden_channels, hidden_channels))\n",
    "        self.layers.append(nn.Linear(self.hidden_channels, 1))\n",
    "    \n",
    "    def forward(self, data):\n",
    "        x, edge_index = data.X, data.edge_index\n",
    "        \n",
    "        for i, layer in enumerate(self.layers):\n",
    "            if i <= self.hidden_layers:\n",
    "                x = layer(x, edge_index)\n",
    "                x = F.relu(x)\n",
    "            else:\n",
    "                x = layer(x)\n",
    "        return x"
   ]
  },
  {
   "cell_type": "code",
   "execution_count": 13,
   "metadata": {},
   "outputs": [
    {
     "name": "stdout",
     "output_type": "stream",
     "text": [
      "Training model with 1 layer(s)\n"
     ]
    },
    {
     "name": "stderr",
     "output_type": "stream",
     "text": [
      "  0%|                                                  | 0/5000 [00:00<?, ?it/s]/Users/twshen/anaconda3/lib/python3.11/site-packages/torch/nn/modules/loss.py:536: UserWarning: Using a target size (torch.Size([2766])) that is different to the input size (torch.Size([2766, 1])). This will likely lead to incorrect results due to broadcasting. Please ensure they have the same size.\n",
      "  return F.mse_loss(input, target, reduction=self.reduction)\n",
      "100%|███████████████████████████████████████| 5000/5000 [03:13<00:00, 25.86it/s]\n",
      "/Users/twshen/anaconda3/lib/python3.11/site-packages/torch/nn/modules/loss.py:536: UserWarning: Using a target size (torch.Size([1186])) that is different to the input size (torch.Size([1186, 1])). This will likely lead to incorrect results due to broadcasting. Please ensure they have the same size.\n",
      "  return F.mse_loss(input, target, reduction=self.reduction)\n"
     ]
    },
    {
     "name": "stdout",
     "output_type": "stream",
     "text": [
      "1-layer Testing Loss: 201.61083984375\n",
      "Training model with 2 layer(s)\n"
     ]
    },
    {
     "name": "stderr",
     "output_type": "stream",
     "text": [
      "100%|███████████████████████████████████████| 5000/5000 [04:41<00:00, 17.79it/s]\n"
     ]
    },
    {
     "name": "stdout",
     "output_type": "stream",
     "text": [
      "2-layer Testing Loss: 224.01876831054688\n",
      "Training model with 3 layer(s)\n"
     ]
    },
    {
     "name": "stderr",
     "output_type": "stream",
     "text": [
      "100%|███████████████████████████████████████| 5000/5000 [26:23<00:00,  3.16it/s]\n"
     ]
    },
    {
     "name": "stdout",
     "output_type": "stream",
     "text": [
      "3-layer Testing Loss: 340.8153076171875\n",
      "Training model with 4 layer(s)\n"
     ]
    },
    {
     "name": "stderr",
     "output_type": "stream",
     "text": [
      "100%|███████████████████████████████████████| 5000/5000 [22:49<00:00,  3.65it/s]\n"
     ]
    },
    {
     "name": "stdout",
     "output_type": "stream",
     "text": [
      "4-layer Testing Loss: 568.5868530273438\n",
      "Training model with 5 layer(s)\n"
     ]
    },
    {
     "name": "stderr",
     "output_type": "stream",
     "text": [
      "100%|███████████████████████████████████████| 5000/5000 [26:14<00:00,  3.18it/s]"
     ]
    },
    {
     "name": "stdout",
     "output_type": "stream",
     "text": [
      "5-layer Testing Loss: 84.68852996826172\n"
     ]
    },
    {
     "name": "stderr",
     "output_type": "stream",
     "text": [
      "\n"
     ]
    }
   ],
   "source": [
    "input_size = 4\n",
    "hidden_channels = 48\n",
    "criterion = nn.MSELoss()\n",
    "\n",
    "test_losses = np.array([])\n",
    "\n",
    "for i in range(1,6):\n",
    "    print(f'Training model with {i} layer(s)')\n",
    "    \n",
    "    mdl = GAT(input_size=input_size, hidden_channels=hidden_channels, hidden_layers=i)\n",
    "    mdl.train()\n",
    "    train(mdl)\n",
    "    mdl.eval()\n",
    "    with torch.no_grad():\n",
    "        test_loss = criterion(mdl(test_data), test_data.y)\n",
    "        print(f'{i}-layer Testing Loss: {test_loss}')\n",
    "        test_losses = np.append(test_losses, test_loss.detach().numpy())"
   ]
  },
  {
   "cell_type": "code",
   "execution_count": 14,
   "metadata": {},
   "outputs": [
    {
     "data": {
      "text/plain": [
       "<Axes: >"
      ]
     },
     "execution_count": 14,
     "metadata": {},
     "output_type": "execute_result"
    },
    {
     "data": {
      "image/png": "[encoded data removed]",
      "text/plain": [
       "<Figure size 640x480 with 1 Axes>"
      ]
     },
     "metadata": {},
     "output_type": "display_data"
    }
   ],
   "source": [
    "sns.lineplot(x=range(len(test_losses)), y=test_losses)"
   ]
  },
  {
   "cell_type": "markdown",
   "metadata": {},
   "source": [
    "## 2.a"
   ]
  },
  {
   "cell_type": "code",
   "execution_count": 16,
   "metadata": {},
   "outputs": [],
   "source": [
    "seed = 19\n",
    "\n",
    "def load_xbar(i):\n",
    "    with gzip.open(f'xbar/{i}/xbar.json.gz','rb') as f:\n",
    "        design = json.loads(f.read().decode('utf-8'))\n",
    "\n",
    "    instances = pd.DataFrame(design['instances'])\n",
    "    nets = pd.DataFrame(design['nets'])\n",
    "\n",
    "    conn=np.load(f'xbar/{i}/xbar_connectivity.npz')\n",
    "    A = coo_matrix((conn['data'], (conn['row'], conn['col'])), shape=conn['shape'])\n",
    "    A = A.__mul__(A.T)\n",
    "\n",
    "    def buildBST(array,start=0,finish=-1):\n",
    "        if finish<0:\n",
    "            finish = len(array)\n",
    "        mid = (start + finish) // 2\n",
    "        if mid-start==1:\n",
    "            ltl=start\n",
    "        else:\n",
    "            ltl=buildBST(array,start,mid)\n",
    "\n",
    "        if finish-mid==1:\n",
    "            gtl=mid\n",
    "        else:\n",
    "            gtl=buildBST(array,mid,finish)\n",
    "\n",
    "        return((array[mid],ltl,gtl))\n",
    "\n",
    "    congestion_data = np.load(f'xbar/{i}/xbar_congestion.npz')\n",
    "    xbst=buildBST(congestion_data['xBoundaryList'])\n",
    "    ybst=buildBST(congestion_data['yBoundaryList'])\n",
    "    demand = np.zeros(shape = [instances.shape[0],])\n",
    "\n",
    "\n",
    "    def getGRCIndex(x,y,xbst,ybst):\n",
    "        while (type(xbst)==tuple):\n",
    "            if x < xbst[0]:\n",
    "                xbst=xbst[1]\n",
    "            else:\n",
    "                xbst=xbst[2]\n",
    "\n",
    "        while (type(ybst)==tuple):\n",
    "            if y < ybst[0]:\n",
    "                ybst=ybst[1]\n",
    "            else:\n",
    "                ybst=ybst[2]\n",
    "\n",
    "        return ybst, xbst\n",
    "\n",
    "\n",
    "    for k in range(instances.shape[0]):\n",
    "        #print(k)\n",
    "        xloc = instances.iloc[k]['xloc']; yloc = instances.iloc[k]['yloc']\n",
    "        i,j=getGRCIndex(xloc,yloc,xbst,ybst)\n",
    "        d = 0 \n",
    "        for l in list(congestion_data['layerList']): \n",
    "            lyr=list(congestion_data['layerList']).index(l)\n",
    "            d += congestion_data['demand'][lyr][i][j]\n",
    "        demand[k] = d\n",
    "\n",
    "    instances['routing_demand'] = demand\n",
    "    \n",
    "    data = Data(\n",
    "        X = tensor(instances.drop(columns=['id', 'name', 'routing_demand']).values).float(),\n",
    "        y = tensor(demand).float(),\n",
    "        edge_index = torch.tensor([A.tocoo().row, A.tocoo().col])\n",
    "    )\n",
    "    \n",
    "    return data"
   ]
  },
  {
   "cell_type": "code",
   "execution_count": 24,
   "metadata": {
    "scrolled": true
   },
   "outputs": [
    {
     "name": "stderr",
     "output_type": "stream",
     "text": [
      "  0%|                                                   | 0/500 [00:00<?, ?it/s]/Users/twshen/anaconda3/lib/python3.11/site-packages/torch/nn/modules/loss.py:536: UserWarning: Using a target size (torch.Size([3952])) that is different to the input size (torch.Size([3952, 1])). This will likely lead to incorrect results due to broadcasting. Please ensure they have the same size.\n",
      "  return F.mse_loss(input, target, reduction=self.reduction)\n",
      "100%|█████████████████████████████████████████| 500/500 [00:17<00:00, 28.92it/s]\n",
      "  0%|                                                   | 0/500 [00:00<?, ?it/s]/Users/twshen/anaconda3/lib/python3.11/site-packages/torch/nn/modules/loss.py:536: UserWarning: Using a target size (torch.Size([6872])) that is different to the input size (torch.Size([6872, 1])). This will likely lead to incorrect results due to broadcasting. Please ensure they have the same size.\n",
      "  return F.mse_loss(input, target, reduction=self.reduction)\n",
      "100%|█████████████████████████████████████████| 500/500 [00:29<00:00, 16.70it/s]\n",
      "  0%|                                                   | 0/500 [00:00<?, ?it/s]/Users/twshen/anaconda3/lib/python3.11/site-packages/torch/nn/modules/loss.py:536: UserWarning: Using a target size (torch.Size([6913])) that is different to the input size (torch.Size([6913, 1])). This will likely lead to incorrect results due to broadcasting. Please ensure they have the same size.\n",
      "  return F.mse_loss(input, target, reduction=self.reduction)\n",
      "100%|█████████████████████████████████████████| 500/500 [00:30<00:00, 16.19it/s]\n",
      "  0%|                                                   | 0/500 [00:00<?, ?it/s]/Users/twshen/anaconda3/lib/python3.11/site-packages/torch/nn/modules/loss.py:536: UserWarning: Using a target size (torch.Size([7323])) that is different to the input size (torch.Size([7323, 1])). This will likely lead to incorrect results due to broadcasting. Please ensure they have the same size.\n",
      "  return F.mse_loss(input, target, reduction=self.reduction)\n",
      "100%|█████████████████████████████████████████| 500/500 [00:32<00:00, 15.55it/s]\n",
      "  0%|                                                   | 0/500 [00:00<?, ?it/s]/Users/twshen/anaconda3/lib/python3.11/site-packages/torch/nn/modules/loss.py:536: UserWarning: Using a target size (torch.Size([7258])) that is different to the input size (torch.Size([7258, 1])). This will likely lead to incorrect results due to broadcasting. Please ensure they have the same size.\n",
      "  return F.mse_loss(input, target, reduction=self.reduction)\n",
      "100%|█████████████████████████████████████████| 500/500 [00:31<00:00, 15.64it/s]\n",
      "/Users/twshen/anaconda3/lib/python3.11/site-packages/torch/nn/modules/loss.py:536: UserWarning: Using a target size (torch.Size([3952])) that is different to the input size (torch.Size([3952, 1])). This will likely lead to incorrect results due to broadcasting. Please ensure they have the same size.\n",
      "  return F.mse_loss(input, target, reduction=self.reduction)\n",
      "  0%|                                                   | 0/500 [00:00<?, ?it/s]/Users/twshen/anaconda3/lib/python3.11/site-packages/torch/nn/modules/loss.py:536: UserWarning: Using a target size (torch.Size([3952])) that is different to the input size (torch.Size([3952, 1])). This will likely lead to incorrect results due to broadcasting. Please ensure they have the same size.\n",
      "  return F.mse_loss(input, target, reduction=self.reduction)\n",
      "100%|█████████████████████████████████████████| 500/500 [00:17<00:00, 28.89it/s]\n",
      "  0%|                                                   | 0/500 [00:00<?, ?it/s]/Users/twshen/anaconda3/lib/python3.11/site-packages/torch/nn/modules/loss.py:536: UserWarning: Using a target size (torch.Size([6872])) that is different to the input size (torch.Size([6872, 1])). This will likely lead to incorrect results due to broadcasting. Please ensure they have the same size.\n",
      "  return F.mse_loss(input, target, reduction=self.reduction)\n",
      "100%|█████████████████████████████████████████| 500/500 [00:29<00:00, 16.67it/s]\n",
      "  0%|                                                   | 0/500 [00:00<?, ?it/s]/Users/twshen/anaconda3/lib/python3.11/site-packages/torch/nn/modules/loss.py:536: UserWarning: Using a target size (torch.Size([6913])) that is different to the input size (torch.Size([6913, 1])). This will likely lead to incorrect results due to broadcasting. Please ensure they have the same size.\n",
      "  return F.mse_loss(input, target, reduction=self.reduction)\n",
      "100%|█████████████████████████████████████████| 500/500 [00:31<00:00, 16.13it/s]\n",
      "  0%|                                                   | 0/500 [00:00<?, ?it/s]/Users/twshen/anaconda3/lib/python3.11/site-packages/torch/nn/modules/loss.py:536: UserWarning: Using a target size (torch.Size([7323])) that is different to the input size (torch.Size([7323, 1])). This will likely lead to incorrect results due to broadcasting. Please ensure they have the same size.\n",
      "  return F.mse_loss(input, target, reduction=self.reduction)\n",
      "100%|█████████████████████████████████████████| 500/500 [00:31<00:00, 15.64it/s]\n",
      "  0%|                                                   | 0/500 [00:00<?, ?it/s]/Users/twshen/anaconda3/lib/python3.11/site-packages/torch/nn/modules/loss.py:536: UserWarning: Using a target size (torch.Size([7258])) that is different to the input size (torch.Size([7258, 1])). This will likely lead to incorrect results due to broadcasting. Please ensure they have the same size.\n",
      "  return F.mse_loss(input, target, reduction=self.reduction)\n",
      "100%|█████████████████████████████████████████| 500/500 [00:31<00:00, 15.76it/s]\n",
      "/Users/twshen/anaconda3/lib/python3.11/site-packages/torch/nn/modules/loss.py:536: UserWarning: Using a target size (torch.Size([6872])) that is different to the input size (torch.Size([6872, 1])). This will likely lead to incorrect results due to broadcasting. Please ensure they have the same size.\n",
      "  return F.mse_loss(input, target, reduction=self.reduction)\n",
      "  0%|                                                   | 0/500 [00:00<?, ?it/s]/Users/twshen/anaconda3/lib/python3.11/site-packages/torch/nn/modules/loss.py:536: UserWarning: Using a target size (torch.Size([3952])) that is different to the input size (torch.Size([3952, 1])). This will likely lead to incorrect results due to broadcasting. Please ensure they have the same size.\n",
      "  return F.mse_loss(input, target, reduction=self.reduction)\n",
      "100%|█████████████████████████████████████████| 500/500 [00:17<00:00, 28.59it/s]\n",
      "  0%|                                                   | 0/500 [00:00<?, ?it/s]/Users/twshen/anaconda3/lib/python3.11/site-packages/torch/nn/modules/loss.py:536: UserWarning: Using a target size (torch.Size([6872])) that is different to the input size (torch.Size([6872, 1])). This will likely lead to incorrect results due to broadcasting. Please ensure they have the same size.\n",
      "  return F.mse_loss(input, target, reduction=self.reduction)\n",
      "100%|█████████████████████████████████████████| 500/500 [00:30<00:00, 16.62it/s]\n",
      "  0%|                                                   | 0/500 [00:00<?, ?it/s]/Users/twshen/anaconda3/lib/python3.11/site-packages/torch/nn/modules/loss.py:536: UserWarning: Using a target size (torch.Size([6913])) that is different to the input size (torch.Size([6913, 1])). This will likely lead to incorrect results due to broadcasting. Please ensure they have the same size.\n",
      "  return F.mse_loss(input, target, reduction=self.reduction)\n",
      "100%|█████████████████████████████████████████| 500/500 [00:30<00:00, 16.14it/s]\n",
      "  0%|                                                   | 0/500 [00:00<?, ?it/s]/Users/twshen/anaconda3/lib/python3.11/site-packages/torch/nn/modules/loss.py:536: UserWarning: Using a target size (torch.Size([7323])) that is different to the input size (torch.Size([7323, 1])). This will likely lead to incorrect results due to broadcasting. Please ensure they have the same size.\n",
      "  return F.mse_loss(input, target, reduction=self.reduction)\n",
      "100%|█████████████████████████████████████████| 500/500 [00:32<00:00, 15.48it/s]\n",
      "  0%|                                                   | 0/500 [00:00<?, ?it/s]/Users/twshen/anaconda3/lib/python3.11/site-packages/torch/nn/modules/loss.py:536: UserWarning: Using a target size (torch.Size([7258])) that is different to the input size (torch.Size([7258, 1])). This will likely lead to incorrect results due to broadcasting. Please ensure they have the same size.\n",
      "  return F.mse_loss(input, target, reduction=self.reduction)\n"
     ]
    },
    {
     "name": "stderr",
     "output_type": "stream",
     "text": [
      "100%|█████████████████████████████████████████| 500/500 [00:31<00:00, 15.72it/s]\n",
      "/Users/twshen/anaconda3/lib/python3.11/site-packages/torch/nn/modules/loss.py:536: UserWarning: Using a target size (torch.Size([6913])) that is different to the input size (torch.Size([6913, 1])). This will likely lead to incorrect results due to broadcasting. Please ensure they have the same size.\n",
      "  return F.mse_loss(input, target, reduction=self.reduction)\n",
      "  0%|                                                   | 0/500 [00:00<?, ?it/s]/Users/twshen/anaconda3/lib/python3.11/site-packages/torch/nn/modules/loss.py:536: UserWarning: Using a target size (torch.Size([3952])) that is different to the input size (torch.Size([3952, 1])). This will likely lead to incorrect results due to broadcasting. Please ensure they have the same size.\n",
      "  return F.mse_loss(input, target, reduction=self.reduction)\n",
      "100%|█████████████████████████████████████████| 500/500 [00:17<00:00, 28.93it/s]\n",
      "  0%|                                                   | 0/500 [00:00<?, ?it/s]/Users/twshen/anaconda3/lib/python3.11/site-packages/torch/nn/modules/loss.py:536: UserWarning: Using a target size (torch.Size([6872])) that is different to the input size (torch.Size([6872, 1])). This will likely lead to incorrect results due to broadcasting. Please ensure they have the same size.\n",
      "  return F.mse_loss(input, target, reduction=self.reduction)\n",
      "100%|█████████████████████████████████████████| 500/500 [00:30<00:00, 16.63it/s]\n",
      "  0%|                                                   | 0/500 [00:00<?, ?it/s]/Users/twshen/anaconda3/lib/python3.11/site-packages/torch/nn/modules/loss.py:536: UserWarning: Using a target size (torch.Size([6913])) that is different to the input size (torch.Size([6913, 1])). This will likely lead to incorrect results due to broadcasting. Please ensure they have the same size.\n",
      "  return F.mse_loss(input, target, reduction=self.reduction)\n",
      "100%|█████████████████████████████████████████| 500/500 [00:30<00:00, 16.17it/s]\n",
      "  0%|                                                   | 0/500 [00:00<?, ?it/s]/Users/twshen/anaconda3/lib/python3.11/site-packages/torch/nn/modules/loss.py:536: UserWarning: Using a target size (torch.Size([7323])) that is different to the input size (torch.Size([7323, 1])). This will likely lead to incorrect results due to broadcasting. Please ensure they have the same size.\n",
      "  return F.mse_loss(input, target, reduction=self.reduction)\n",
      "100%|█████████████████████████████████████████| 500/500 [00:32<00:00, 15.53it/s]\n",
      "  0%|                                                   | 0/500 [00:00<?, ?it/s]/Users/twshen/anaconda3/lib/python3.11/site-packages/torch/nn/modules/loss.py:536: UserWarning: Using a target size (torch.Size([7258])) that is different to the input size (torch.Size([7258, 1])). This will likely lead to incorrect results due to broadcasting. Please ensure they have the same size.\n",
      "  return F.mse_loss(input, target, reduction=self.reduction)\n",
      "100%|█████████████████████████████████████████| 500/500 [00:31<00:00, 15.66it/s]\n",
      "/Users/twshen/anaconda3/lib/python3.11/site-packages/torch/nn/modules/loss.py:536: UserWarning: Using a target size (torch.Size([7323])) that is different to the input size (torch.Size([7323, 1])). This will likely lead to incorrect results due to broadcasting. Please ensure they have the same size.\n",
      "  return F.mse_loss(input, target, reduction=self.reduction)\n",
      "  0%|                                                   | 0/500 [00:00<?, ?it/s]/Users/twshen/anaconda3/lib/python3.11/site-packages/torch/nn/modules/loss.py:536: UserWarning: Using a target size (torch.Size([3952])) that is different to the input size (torch.Size([3952, 1])). This will likely lead to incorrect results due to broadcasting. Please ensure they have the same size.\n",
      "  return F.mse_loss(input, target, reduction=self.reduction)\n",
      "100%|█████████████████████████████████████████| 500/500 [00:17<00:00, 28.82it/s]\n",
      "  0%|                                                   | 0/500 [00:00<?, ?it/s]/Users/twshen/anaconda3/lib/python3.11/site-packages/torch/nn/modules/loss.py:536: UserWarning: Using a target size (torch.Size([6872])) that is different to the input size (torch.Size([6872, 1])). This will likely lead to incorrect results due to broadcasting. Please ensure they have the same size.\n",
      "  return F.mse_loss(input, target, reduction=self.reduction)\n",
      "100%|█████████████████████████████████████████| 500/500 [00:30<00:00, 16.63it/s]\n",
      "  0%|                                                   | 0/500 [00:00<?, ?it/s]/Users/twshen/anaconda3/lib/python3.11/site-packages/torch/nn/modules/loss.py:536: UserWarning: Using a target size (torch.Size([6913])) that is different to the input size (torch.Size([6913, 1])). This will likely lead to incorrect results due to broadcasting. Please ensure they have the same size.\n",
      "  return F.mse_loss(input, target, reduction=self.reduction)\n",
      "100%|█████████████████████████████████████████| 500/500 [00:31<00:00, 16.10it/s]\n",
      "  0%|                                                   | 0/500 [00:00<?, ?it/s]/Users/twshen/anaconda3/lib/python3.11/site-packages/torch/nn/modules/loss.py:536: UserWarning: Using a target size (torch.Size([7323])) that is different to the input size (torch.Size([7323, 1])). This will likely lead to incorrect results due to broadcasting. Please ensure they have the same size.\n",
      "  return F.mse_loss(input, target, reduction=self.reduction)\n",
      "100%|█████████████████████████████████████████| 500/500 [00:32<00:00, 15.55it/s]\n",
      "  0%|                                                   | 0/500 [00:00<?, ?it/s]/Users/twshen/anaconda3/lib/python3.11/site-packages/torch/nn/modules/loss.py:536: UserWarning: Using a target size (torch.Size([7258])) that is different to the input size (torch.Size([7258, 1])). This will likely lead to incorrect results due to broadcasting. Please ensure they have the same size.\n",
      "  return F.mse_loss(input, target, reduction=self.reduction)\n",
      "100%|█████████████████████████████████████████| 500/500 [00:32<00:00, 15.44it/s]\n",
      "/Users/twshen/anaconda3/lib/python3.11/site-packages/torch/nn/modules/loss.py:536: UserWarning: Using a target size (torch.Size([7258])) that is different to the input size (torch.Size([7258, 1])). This will likely lead to incorrect results due to broadcasting. Please ensure they have the same size.\n",
      "  return F.mse_loss(input, target, reduction=self.reduction)\n"
     ]
    }
   ],
   "source": [
    "training_losses = np.array([])\n",
    "testing_losses = np.array([])\n",
    "\n",
    "input_size=4\n",
    "hidden_channels=8\n",
    "hidden_layers=2\n",
    "criterion = nn.MSELoss()\n",
    "\n",
    "for i in range(1,5):\n",
    "    mdl = GCN(input_size, hidden_channels, hidden_layers)\n",
    "    training_loss_it = np.array([])\n",
    "    mdl.train()\n",
    "    for j in range(1,5):\n",
    "        if i==j:\n",
    "            pass\n",
    "        train_data = load_xbar(j)\n",
    "        train_loss = train(mdl, 500)\n",
    "        training_loss_it = np.append(training_loss_it, train_loss.detach().numpy())\n",
    "    test_data = load_xbar(i)\n",
    "    mdl.eval()\n",
    "    with torch.no_grad():\n",
    "        test_loss = criterion(mdl(test_data), test_data.y)\n",
    "        testing_losses = np.append(testing_losses, test_loss.detach().numpy())\n",
    "        training_losses = np.append(training_losses, training_loss_it.mean())"
   ]
  },
  {
   "cell_type": "code",
   "execution_count": 25,
   "metadata": {},
   "outputs": [
    {
     "data": {
      "text/plain": [
       "array([162.35744019, 123.80272827, 101.94646683,  62.10348701,\n",
       "        55.33110924])"
      ]
     },
     "execution_count": 25,
     "metadata": {},
     "output_type": "execute_result"
    }
   ],
   "source": [
    "training_losses"
   ]
  },
  {
   "cell_type": "code",
   "execution_count": 26,
   "metadata": {},
   "outputs": [
    {
     "data": {
      "text/plain": [
       "array([ 93.37306976, 270.30410767,  93.46062469,  57.09708786,\n",
       "        53.86576462])"
      ]
     },
     "execution_count": 26,
     "metadata": {},
     "output_type": "execute_result"
    }
   ],
   "source": [
    "testing_losses"
   ]
  },
  {
   "cell_type": "code",
   "execution_count": null,
   "metadata": {},
   "outputs": [],
   "source": []
  }
 ],
 "metadata": {
  "kernelspec": {
   "display_name": "Python 3 (ipykernel)",
   "language": "python",
   "name": "python3"
  },
  "language_info": {
   "codemirror_mode": {
    "name": "ipython",
    "version": 3
   },
   "file_extension": ".py",
   "mimetype": "text/x-python",
   "name": "python",
   "nbconvert_exporter": "python",
   "pygments_lexer": "ipython3",
   "version": "3.11.5"
  }
 },
 "nbformat": 4,
 "nbformat_minor": 2
}
