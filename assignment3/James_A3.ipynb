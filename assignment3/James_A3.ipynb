{
 "cells": [
  {
   "cell_type": "code",
   "execution_count": 1,
   "id": "7fe22e87",
   "metadata": {},
   "outputs": [],
   "source": [
    "import gzip\n",
    "import json\n",
    "import pandas as pd\n",
    "import numpy as np\n",
    "from scipy.sparse import coo_matrix\n",
    "from torch_geometric.utils.convert import from_scipy_sparse_matrix\n",
    "from torch_geometric.data import Data\n",
    "from torch_geometric.transforms import RandomNodeSplit\n",
    "\n",
    "import torch\n",
    "import torch.nn as nn\n",
    "import torch.nn.functional as F\n",
    "import torch_geometric\n",
    "from torch_geometric.nn import GCNConv \n",
    "import torch.optim as optim\n",
    "\n",
    "import matplotlib.pyplot as plt\n",
    "from tqdm import tqdm"
   ]
  },
  {
   "cell_type": "code",
   "execution_count": 2,
   "id": "7575a546",
   "metadata": {},
   "outputs": [],
   "source": [
    "with gzip.open('NCSU-DigIC-GraphData-2023-07-25/xbar/1/xbar.json.gz','rb') as f:\n",
    "    design = json.loads(f.read().decode('utf-8'))"
   ]
  },
  {
   "cell_type": "code",
   "execution_count": 3,
   "id": "23c7d6ba",
   "metadata": {},
   "outputs": [],
   "source": [
    "instances = pd.DataFrame(design['instances'])\n",
    "nets = pd.DataFrame(design['nets'])"
   ]
  },
  {
   "cell_type": "code",
   "execution_count": 4,
   "id": "97bdda40",
   "metadata": {},
   "outputs": [],
   "source": [
    "conn=np.load('NCSU-DigIC-GraphData-2023-07-25/xbar/1/xbar_connectivity.npz')\n",
    "A = coo_matrix((conn['data'], (conn['row'], conn['col'])), shape=conn['shape'])\n",
    "A = A.__mul__(A.T)"
   ]
  },
  {
   "cell_type": "code",
   "execution_count": 5,
   "id": "621337ae",
   "metadata": {},
   "outputs": [],
   "source": [
    "def buildBST(array,start=0,finish=-1):\n",
    "    if finish<0:\n",
    "        finish = len(array)\n",
    "    mid = (start + finish) // 2\n",
    "    if mid-start==1:\n",
    "        ltl=start\n",
    "    else:\n",
    "        ltl=buildBST(array,start,mid)\n",
    "    \n",
    "    if finish-mid==1:\n",
    "        gtl=mid\n",
    "    else:\n",
    "        gtl=buildBST(array,mid,finish)\n",
    "        \n",
    "    return((array[mid],ltl,gtl))"
   ]
  },
  {
   "cell_type": "code",
   "execution_count": 6,
   "id": "16d5f4fd",
   "metadata": {},
   "outputs": [],
   "source": [
    "congestion_data = np.load('NCSU-DigIC-GraphData-2023-07-25/xbar/1/xbar_congestion.npz')\n",
    "xbst=buildBST(congestion_data['xBoundaryList'])\n",
    "ybst=buildBST(congestion_data['yBoundaryList'])\n",
    "demand = np.zeros(shape = [instances.shape[0],])"
   ]
  },
  {
   "cell_type": "code",
   "execution_count": 7,
   "id": "a9bae2eb",
   "metadata": {},
   "outputs": [],
   "source": [
    "def getGRCIndex(x,y,xbst,ybst):\n",
    "    while (type(xbst)==tuple):\n",
    "        if x < xbst[0]:\n",
    "            xbst=xbst[1]\n",
    "        else:\n",
    "            xbst=xbst[2]\n",
    "            \n",
    "    while (type(ybst)==tuple):\n",
    "        if y < ybst[0]:\n",
    "            ybst=ybst[1]\n",
    "        else:\n",
    "            ybst=ybst[2]\n",
    "            \n",
    "    return ybst, xbst"
   ]
  },
  {
   "cell_type": "code",
   "execution_count": 8,
   "id": "ff9cb0e6",
   "metadata": {},
   "outputs": [],
   "source": [
    "for k in range(instances.shape[0]):\n",
    "    #print(k)\n",
    "    xloc = instances.iloc[k]['xloc']; yloc = instances.iloc[k]['yloc']\n",
    "    i,j=getGRCIndex(xloc,yloc,xbst,ybst)\n",
    "    d = 0 \n",
    "    for l in list(congestion_data['layerList']): \n",
    "        lyr=list(congestion_data['layerList']).index(l)\n",
    "        d += congestion_data['demand'][lyr][i][j]\n",
    "    demand[k] = d\n",
    "        \n",
    "instances['routing_demand'] = demand"
   ]
  },
  {
   "cell_type": "code",
   "execution_count": 9,
   "id": "3b0e7909",
   "metadata": {},
   "outputs": [
    {
     "data": {
      "text/html": [
       "<div>\n",
       "<style scoped>\n",
       "    .dataframe tbody tr th:only-of-type {\n",
       "        vertical-align: middle;\n",
       "    }\n",
       "\n",
       "    .dataframe tbody tr th {\n",
       "        vertical-align: top;\n",
       "    }\n",
       "\n",
       "    .dataframe thead th {\n",
       "        text-align: right;\n",
       "    }\n",
       "</style>\n",
       "<table border=\"1\" class=\"dataframe\">\n",
       "  <thead>\n",
       "    <tr style=\"text-align: right;\">\n",
       "      <th></th>\n",
       "      <th>name</th>\n",
       "      <th>id</th>\n",
       "      <th>xloc</th>\n",
       "      <th>yloc</th>\n",
       "      <th>cell</th>\n",
       "      <th>orient</th>\n",
       "      <th>routing_demand</th>\n",
       "    </tr>\n",
       "  </thead>\n",
       "  <tbody>\n",
       "    <tr>\n",
       "      <th>0</th>\n",
       "      <td>clk_gate_out_reg/latch</td>\n",
       "      <td>0</td>\n",
       "      <td>41984</td>\n",
       "      <td>44544</td>\n",
       "      <td>23</td>\n",
       "      <td>0</td>\n",
       "      <td>20.0</td>\n",
       "    </tr>\n",
       "    <tr>\n",
       "      <th>1</th>\n",
       "      <td>clk_gate_out_reg_0/latch</td>\n",
       "      <td>1</td>\n",
       "      <td>41984</td>\n",
       "      <td>47616</td>\n",
       "      <td>23</td>\n",
       "      <td>6</td>\n",
       "      <td>23.0</td>\n",
       "    </tr>\n",
       "    <tr>\n",
       "      <th>2</th>\n",
       "      <td>clk_gate_out_reg_1/latch</td>\n",
       "      <td>2</td>\n",
       "      <td>44160</td>\n",
       "      <td>44544</td>\n",
       "      <td>23</td>\n",
       "      <td>0</td>\n",
       "      <td>23.0</td>\n",
       "    </tr>\n",
       "    <tr>\n",
       "      <th>3</th>\n",
       "      <td>clk_gate_out_reg_2/latch</td>\n",
       "      <td>3</td>\n",
       "      <td>44160</td>\n",
       "      <td>47616</td>\n",
       "      <td>23</td>\n",
       "      <td>0</td>\n",
       "      <td>22.0</td>\n",
       "    </tr>\n",
       "    <tr>\n",
       "      <th>4</th>\n",
       "      <td>clk_gate_out_reg_3/latch</td>\n",
       "      <td>4</td>\n",
       "      <td>46336</td>\n",
       "      <td>47616</td>\n",
       "      <td>23</td>\n",
       "      <td>0</td>\n",
       "      <td>21.0</td>\n",
       "    </tr>\n",
       "  </tbody>\n",
       "</table>\n",
       "</div>"
      ],
      "text/plain": [
       "                       name  id   xloc   yloc  cell  orient  routing_demand\n",
       "0    clk_gate_out_reg/latch   0  41984  44544    23       0            20.0\n",
       "1  clk_gate_out_reg_0/latch   1  41984  47616    23       6            23.0\n",
       "2  clk_gate_out_reg_1/latch   2  44160  44544    23       0            23.0\n",
       "3  clk_gate_out_reg_2/latch   3  44160  47616    23       0            22.0\n",
       "4  clk_gate_out_reg_3/latch   4  46336  47616    23       0            21.0"
      ]
     },
     "execution_count": 9,
     "metadata": {},
     "output_type": "execute_result"
    }
   ],
   "source": [
    "instances.head()"
   ]
  },
  {
   "cell_type": "code",
   "execution_count": null,
   "id": "608eb39b",
   "metadata": {},
   "outputs": [],
   "source": []
  },
  {
   "cell_type": "code",
   "execution_count": 10,
   "id": "5420c0ce",
   "metadata": {},
   "outputs": [],
   "source": [
    "np.random.seed(42)"
   ]
  },
  {
   "cell_type": "code",
   "execution_count": 11,
   "id": "2308dd58",
   "metadata": {},
   "outputs": [
    {
     "data": {
      "text/plain": [
       "<torch._C.Generator at 0x7f71f0c730f0>"
      ]
     },
     "execution_count": 11,
     "metadata": {},
     "output_type": "execute_result"
    }
   ],
   "source": [
    "torch.manual_seed(42)"
   ]
  },
  {
   "cell_type": "code",
   "execution_count": 12,
   "id": "15c031dc",
   "metadata": {},
   "outputs": [],
   "source": [
    "device = torch.device('cuda' if torch.cuda.is_available() else 'cpu')"
   ]
  },
  {
   "cell_type": "markdown",
   "id": "aa9abe02",
   "metadata": {},
   "source": [
    "# 1."
   ]
  },
  {
   "cell_type": "code",
   "execution_count": 88,
   "id": "437c4240",
   "metadata": {},
   "outputs": [],
   "source": [
    "# my model training got worse when I utilized GPU instead of CPU? "
   ]
  },
  {
   "cell_type": "markdown",
   "id": "129c6e98",
   "metadata": {},
   "source": [
    "a)"
   ]
  },
  {
   "cell_type": "code",
   "execution_count": 73,
   "id": "d609ce4c",
   "metadata": {},
   "outputs": [],
   "source": [
    "def graph_data_split(instances, A, create_test_data=True):\n",
    "    '''\n",
    "    Preprocesses graph data.\n",
    "    \n",
    "    Parameters:\n",
    "    - instances: Pandas DataFrame, node instances of design\n",
    "    - A: Sparse matrix, adjacency matrix of graph edge connections\n",
    "    '''\n",
    "    # get X, y, edge indices\n",
    "    X = torch.tensor(instances[['xloc', 'yloc', 'cell', 'orient']].values)\n",
    "    y = torch.tensor(instances['routing_demand'].values)\n",
    "    edge_index = from_scipy_sparse_matrix(A)[0]\n",
    "    \n",
    "    # use Data object\n",
    "    data = Data(x=X, edge_index=edge_index, y=y)\n",
    "    # use .7 train .3 test split\n",
    "    random_split = RandomNodeSplit(num_val=0.0, num_test=0.3)\n",
    "    # splits Data object\n",
    "    data_split = random_split(data)\n",
    "    \n",
    "    # split into train test\n",
    "    X_train = data_split.x[data_split.train_mask].float()\n",
    "    y_train = data_split.y[data_split.train_mask].float()\n",
    "    X_test = data_split.x[data_split.test_mask].float()\n",
    "    y_test = data_split.y[data_split.test_mask].float()\n",
    "    \n",
    "    # indices in train nodes\n",
    "    train_indices = set(torch.argwhere(data_split.train_mask).squeeze().tolist())\n",
    "    # reset edge indices\n",
    "    train_map = {old: new for old, new in zip(train_indices, range(len(train_indices)))}\n",
    "    train_edges = torch.tensor([(train_map[src.item()], train_map[dst.item()]) for src, dst in zip(data_split.edge_index[0], data_split.edge_index[1]) if src.item() in train_indices and dst.item() in train_indices]).T\n",
    "    # indices in test nodes\n",
    "    test_indices = set(torch.argwhere(data_split.test_mask).squeeze().tolist())\n",
    "    # reset edge indices\n",
    "    test_map = {old: new for old, new in zip(test_indices, range(len(test_indices)))}\n",
    "    test_edges = torch.tensor([(test_map[src.item()], test_map[dst.item()]) for src, dst in zip(data_split.edge_index[0], data_split.edge_index[1]) if src.item() in test_indices and dst.item() in test_indices]).T\n",
    "    \n",
    "    # create train test Data objects\n",
    "    train_data = Data(x=X_train, y=y_train, edge_index=train_edges)\n",
    "    test_data = Data(x=X_test, y=y_test, edge_index=test_edges)\n",
    "    \n",
    "    return train_data, test_data"
   ]
  },
  {
   "cell_type": "code",
   "execution_count": 74,
   "id": "a0978e55",
   "metadata": {},
   "outputs": [],
   "source": [
    "split_data = graph_data_split(instances=instances, A=A)\n",
    "train_data = split_data[0]\n",
    "test_data = split_data[1]"
   ]
  },
  {
   "cell_type": "code",
   "execution_count": 75,
   "id": "9c98077e",
   "metadata": {},
   "outputs": [],
   "source": [
    "class GCN(nn.Module):\n",
    "    def __init__(self, hidden_dim, hidden_layers):\n",
    "        super().__init__()\n",
    "        self.conv1 = GCNConv(4, hidden_dim)\n",
    "        self.hidden = nn.ModuleList([GCNConv(hidden_dim, hidden_dim) for _ in range(hidden_layers)])\n",
    "        self.linear = nn.Linear(hidden_dim, 1)\n",
    "        \n",
    "    def forward(self, x, edge_index):\n",
    "        \n",
    "        x = F.relu(self.conv1(x, edge_index))\n",
    "        for layer in self.hidden:\n",
    "            x = F.relu(layer(x, edge_index))\n",
    "        x = self.linear(x)\n",
    "        \n",
    "        return x"
   ]
  },
  {
   "cell_type": "code",
   "execution_count": 76,
   "id": "c2078dfe",
   "metadata": {},
   "outputs": [],
   "source": [
    "def train(model, data):\n",
    "    \n",
    "    num_epochs = 2000\n",
    "    \n",
    "    criterion = nn.MSELoss()\n",
    "    optimizer = optim.Adam(model.parameters(), lr=0.01)\n",
    "    \n",
    "    model.to(device)\n",
    "    \n",
    "    for epoch in tqdm(range(num_epochs)):\n",
    "            \n",
    "            optimizer.zero_grad()\n",
    "            inputs = data.x.to(device)\n",
    "            labels = data.y.to(device)\n",
    "            edge_index = data.edge_index.to(device)\n",
    "            output = model(inputs, edge_index)\n",
    "\n",
    "            loss = criterion(output, labels)\n",
    "            loss.backward()\n",
    "            optimizer.step()\n",
    "            \n",
    "#             if epoch % 10 == 0:\n",
    "#                 print(f'Epoch {epoch}, Loss: {loss:.2f}')\n",
    "#     print('Finished Training')\n",
    "    return loss"
   ]
  },
  {
   "cell_type": "code",
   "execution_count": 83,
   "id": "e69a58ea",
   "metadata": {},
   "outputs": [
    {
     "name": "stderr",
     "output_type": "stream",
     "text": [
      "100%|██████████| 2000/2000 [00:15<00:00, 131.65it/s]\n",
      "100%|██████████| 2000/2000 [00:27<00:00, 72.64it/s]\n",
      "100%|██████████| 2000/2000 [00:39<00:00, 50.29it/s]\n",
      "100%|██████████| 2000/2000 [00:51<00:00, 38.47it/s]\n",
      "100%|██████████| 2000/2000 [01:04<00:00, 30.87it/s]\n"
     ]
    }
   ],
   "source": [
    "ks = list(range(0, 5)) # 0 to 4 hidden layers\n",
    "hidden_layer_dim = 512\n",
    "train_losses = []\n",
    "test_losses = []\n",
    "for k in ks:\n",
    "    model = GCN(hidden_layer_dim, k)\n",
    "    loss = train(model, train_data)\n",
    "    train_losses.append(loss.item())\n",
    "    test_loss = ((model(test_data.x.to(device), test_data.edge_index.to(device)) - test_data.y.to(device))**2).mean()\n",
    "    test_losses.append(test_loss.item())"
   ]
  },
  {
   "cell_type": "code",
   "execution_count": 84,
   "id": "4cdbada5",
   "metadata": {},
   "outputs": [
    {
     "data": {
      "image/png": "[encoded data removed]",
      "text/plain": [
       "<Figure size 432x288 with 1 Axes>"
      ]
     },
     "metadata": {
      "needs_background": "light"
     },
     "output_type": "display_data"
    }
   ],
   "source": [
    "plt.figure(figsize=(6,4))\n",
    "train_plot = plt.plot(ks, train_losses, label='Train Loss')\n",
    "test_plot = plt.plot(ks, test_losses, label='Test Loss')\n",
    "plt.xticks(ks, np.array(ks) + 1)\n",
    "plt.xlabel('GCN Layers')\n",
    "plt.ylabel('Loss')\n",
    "plt.title('Model Performance by #GCN Layers')\n",
    "plt.legend(prop={'size': 12})\n",
    "plt.show()"
   ]
  },
  {
   "cell_type": "code",
   "execution_count": null,
   "id": "3e56a611",
   "metadata": {},
   "outputs": [],
   "source": []
  },
  {
   "cell_type": "code",
   "execution_count": 85,
   "id": "c7eaa77a",
   "metadata": {},
   "outputs": [],
   "source": [
    "class GCN_attention(nn.Module):\n",
    "    def __init__(self, hidden_dim, hidden_layers):\n",
    "        super().__init__()\n",
    "        self.conv1 = GCNConv(4, hidden_dim)\n",
    "        self.hidden = nn.ModuleList([GCNConv(hidden_dim, hidden_dim) for _ in range(hidden_layers)])\n",
    "        self.linear = nn.Linear(hidden_dim, 1)\n",
    "        \n",
    "        self.attention = nn.Linear(2 * hidden_dim, 1)\n",
    "        self.softmax = nn.Softmax(dim=1)\n",
    "        \n",
    "    def forward(self, x, edge_index):\n",
    "        x = F.relu(self.conv1(x, edge_index))\n",
    "        # concat then linear\n",
    "        attention_weights = torch.cat((x, x), dim=1)\n",
    "        attention_weights = self.attention(attention_weights)\n",
    "        attention_weights = self.softmax(attention_weights)\n",
    "        x = x * attention_weights\n",
    "    \n",
    "        for layer in self.hidden:\n",
    "            x = layer(x, edge_index)\n",
    "            x = F.relu(x)\n",
    "        \n",
    "        x = self.linear(x)\n",
    "        \n",
    "        return x"
   ]
  },
  {
   "cell_type": "code",
   "execution_count": 86,
   "id": "543dbcb7",
   "metadata": {},
   "outputs": [
    {
     "name": "stderr",
     "output_type": "stream",
     "text": [
      "100%|██████████| 2000/2000 [00:16<00:00, 121.90it/s]\n",
      "100%|██████████| 2000/2000 [00:29<00:00, 68.45it/s]\n",
      "100%|██████████| 2000/2000 [00:42<00:00, 47.58it/s]\n",
      "100%|██████████| 2000/2000 [00:54<00:00, 36.87it/s]\n",
      "100%|██████████| 2000/2000 [01:06<00:00, 30.30it/s]\n"
     ]
    }
   ],
   "source": [
    "hidden_layer_dim = 512\n",
    "train_losses = []\n",
    "test_losses = []\n",
    "for k in ks:\n",
    "    # create model\n",
    "    model_attention = GCN_attention(hidden_dim=hidden_layer_dim, hidden_layers=k)\n",
    "    # train model\n",
    "    loss = train(model_attention, train_data)\n",
    "    train_losses.append(loss.item())\n",
    "    test_loss = ((model_attention(test_data.x.to(device), test_data.edge_index.to(device)) - test_data.y.to(device))**2).mean()\n",
    "    test_losses.append(test_loss.item())"
   ]
  },
  {
   "cell_type": "code",
   "execution_count": 87,
   "id": "e2fbbb87",
   "metadata": {},
   "outputs": [
    {
     "data": {
      "image/png": "[encoded data removed]",
      "text/plain": [
       "<Figure size 432x288 with 1 Axes>"
      ]
     },
     "metadata": {
      "needs_background": "light"
     },
     "output_type": "display_data"
    }
   ],
   "source": [
    "plt.figure(figsize=(6,4))\n",
    "train_plot = plt.plot(ks, train_losses, label='Train Loss')\n",
    "test_plot = plt.plot(ks, test_losses, label='Test Loss')\n",
    "plt.xticks(ks, np.array(ks) + 1)\n",
    "plt.xlabel('GCN Layers')\n",
    "plt.ylabel('Loss')\n",
    "plt.title('Attention Model by #GCN Layers')\n",
    "plt.legend(prop={'size': 12})\n",
    "plt.show()"
   ]
  },
  {
   "cell_type": "markdown",
   "id": "e83459d4",
   "metadata": {},
   "source": [
    "# 2."
   ]
  },
  {
   "cell_type": "markdown",
   "id": "4650c613",
   "metadata": {},
   "source": [
    "a."
   ]
  },
  {
   "cell_type": "code",
   "execution_count": 22,
   "id": "ce91c8e1",
   "metadata": {},
   "outputs": [],
   "source": [
    "# train with 1 to 12\n",
    "leave_ins = range(1, 13)\n",
    "# test with 13\n",
    "leave_out = 13"
   ]
  },
  {
   "cell_type": "markdown",
   "id": "061c82c9",
   "metadata": {},
   "source": [
    "Initialize train data of xbar/1 to xbar/12"
   ]
  },
  {
   "cell_type": "code",
   "execution_count": 23,
   "id": "a5af40ab",
   "metadata": {},
   "outputs": [
    {
     "name": "stdout",
     "output_type": "stream",
     "text": [
      "1\n",
      "2\n",
      "3\n",
      "4\n",
      "5\n",
      "6\n",
      "7\n",
      "8\n",
      "9\n",
      "10\n",
      "11\n",
      "12\n"
     ]
    }
   ],
   "source": [
    "train_instances = []\n",
    "adjacency_matrices = []\n",
    "\n",
    "for i in leave_ins:\n",
    "    print(i)\n",
    "    with gzip.open(f'NCSU-DigIC-GraphData-2023-07-25/xbar/{i}/xbar.json.gz', 'rb') as f:\n",
    "        design = json.loads(f.read().decode('utf-8'))\n",
    "        \n",
    "    instances = pd.DataFrame(design['instances'])\n",
    "    nets = pd.DataFrame(design['nets'])\n",
    "    \n",
    "    conn=np.load(f'NCSU-DigIC-GraphData-2023-07-25/xbar/{i}/xbar_connectivity.npz')\n",
    "    A = coo_matrix((conn['data'], (conn['row'], conn['col'])), shape=conn['shape'])\n",
    "    A = A.__mul__(A.T)\n",
    "    adjacency_matrices.append(A)\n",
    "    \n",
    "    congestion_data = np.load(f'NCSU-DigIC-GraphData-2023-07-25/xbar/{i}/xbar_congestion.npz')\n",
    "    xbst = buildBST(congestion_data['xBoundaryList'])\n",
    "    ybst = buildBST(congestion_data['yBoundaryList'])\n",
    "    demand = np.zeros(shape=[instances.shape[0], ])\n",
    "    \n",
    "    for k in range(instances.shape[0]):\n",
    "        xloc = instances.iloc[k]['xloc']\n",
    "        yloc = instances.iloc[k]['yloc']\n",
    "        i, j = getGRCIndex(xloc, yloc, xbst, ybst)\n",
    "        d = 0\n",
    "        for l in list(congestion_data['layerList']):\n",
    "            lyr = list(congestion_data['layerList']).index(l)\n",
    "            d += congestion_data['demand'][lyr][i][j]\n",
    "        demand[k] = d\n",
    "        \n",
    "    instances['routing_demand'] = demand\n",
    "    train_instances.append(np.array(instances))"
   ]
  },
  {
   "cell_type": "code",
   "execution_count": 53,
   "id": "cc6ff5d0",
   "metadata": {},
   "outputs": [],
   "source": [
    "train_data_list = []\n",
    "for instance, A in zip(train_instances, adjacency_matrices):\n",
    "    # get X, y, edge indices\n",
    "    X = torch.tensor(instance[:,2:6].astype(float))\n",
    "    y = torch.tensor(instance[:,-1].astype(float))\n",
    "    edge_index = from_scipy_sparse_matrix(A)[0]\n",
    "\n",
    "    # use Data object\n",
    "    data = Data(x=X, edge_index=edge_index, y=y)\n",
    "    train_data_list.append(train_data)"
   ]
  },
  {
   "cell_type": "markdown",
   "id": "d6906138",
   "metadata": {},
   "source": [
    "Initialize test data of xbar/13"
   ]
  },
  {
   "cell_type": "code",
   "execution_count": 55,
   "id": "065055bb",
   "metadata": {},
   "outputs": [],
   "source": [
    "with gzip.open(f'NCSU-DigIC-GraphData-2023-07-25/xbar/{leave_out}/xbar.json.gz', 'rb') as f:\n",
    "        design = json.loads(f.read().decode('utf-8'))\n",
    "        \n",
    "instances_test = pd.DataFrame(design['instances'])\n",
    "nets = pd.DataFrame(design['nets'])\n",
    "\n",
    "conn=np.load(f'NCSU-DigIC-GraphData-2023-07-25/xbar/{leave_out}/xbar_connectivity.npz')\n",
    "A_test = coo_matrix((conn['data'], (conn['row'], conn['col'])), shape=conn['shape'])\n",
    "A_test = A_test.__mul__(A_test.T)\n",
    "\n",
    "congestion_data = np.load(f'NCSU-DigIC-GraphData-2023-07-25/xbar/{leave_out}/xbar_congestion.npz')\n",
    "xbst = buildBST(congestion_data['xBoundaryList'])\n",
    "ybst = buildBST(congestion_data['yBoundaryList'])\n",
    "demand = np.zeros(shape=[instances_test.shape[0], ])\n",
    "\n",
    "for k in range(instances_test.shape[0]):\n",
    "    xloc = instances_test.iloc[k]['xloc']\n",
    "    yloc = instances_test.iloc[k]['yloc']\n",
    "    i, j = getGRCIndex(xloc, yloc, xbst, ybst)\n",
    "    d = 0\n",
    "    for l in list(congestion_data['layerList']):\n",
    "        lyr = list(congestion_data['layerList']).index(l)\n",
    "        d += congestion_data['demand'][lyr][i][j]\n",
    "    demand[k] = d\n",
    "\n",
    "instances_test['routing_demand'] = demand"
   ]
  },
  {
   "cell_type": "code",
   "execution_count": 64,
   "id": "d4d2c2e9",
   "metadata": {},
   "outputs": [],
   "source": [
    "# get X, y, edge indices\n",
    "X = torch.tensor(instances_test[['xloc', 'yloc', 'cell', 'orient']].values).float()\n",
    "y = torch.tensor(instances_test['routing_demand'].values).float()\n",
    "edge_index = from_scipy_sparse_matrix(A_test)[0]\n",
    "\n",
    "# use Data object\n",
    "data = Data(x=X, edge_index=edge_index, y=y)\n",
    "# create train test Data objects\n",
    "test_data = Data(x=X, y=y, edge_index=edge_index)"
   ]
  },
  {
   "cell_type": "markdown",
   "id": "a5012a28",
   "metadata": {},
   "source": [
    "Trainer"
   ]
  },
  {
   "cell_type": "code",
   "execution_count": 59,
   "id": "6864926f",
   "metadata": {},
   "outputs": [],
   "source": [
    "def train_lists(model, data):\n",
    "    \n",
    "    # epochs divided by # xbar samples\n",
    "    num_epochs = 2000 // 12\n",
    "    \n",
    "    criterion = nn.MSELoss()\n",
    "    optimizer = optim.Adam(model.parameters(), lr=0.01)\n",
    "    \n",
    "    model.to(device)\n",
    "    \n",
    "    for epoch in tqdm(range(num_epochs)):\n",
    "            \n",
    "            optimizer.zero_grad()\n",
    "            inputs = data.x.to(device)\n",
    "            labels = data.y.to(device)\n",
    "            edge_index = data.edge_index.to(device)\n",
    "            output = model(inputs, edge_index)\n",
    "\n",
    "            loss = criterion(output, labels)\n",
    "            loss.backward()\n",
    "            optimizer.step()\n",
    "            \n",
    "#             if epoch % 10 == 0:\n",
    "#                 print(f'Epoch {epoch}, Loss: {loss:.2f}')\n",
    "#     print('Finished Training')\n",
    "    return loss"
   ]
  },
  {
   "cell_type": "code",
   "execution_count": 60,
   "id": "f89c61e7",
   "metadata": {},
   "outputs": [
    {
     "name": "stderr",
     "output_type": "stream",
     "text": [
      "100%|██████████| 166/166 [00:05<00:00, 28.75it/s]\n",
      "100%|██████████| 166/166 [00:05<00:00, 28.95it/s]\n",
      "100%|██████████| 166/166 [00:05<00:00, 29.06it/s]\n",
      "100%|██████████| 166/166 [00:05<00:00, 28.87it/s]\n",
      "100%|██████████| 166/166 [00:05<00:00, 28.79it/s]\n",
      "100%|██████████| 166/166 [00:05<00:00, 28.91it/s]\n",
      "100%|██████████| 166/166 [00:05<00:00, 28.86it/s]\n",
      "100%|██████████| 166/166 [00:05<00:00, 28.62it/s]\n",
      "100%|██████████| 166/166 [00:05<00:00, 28.75it/s]\n",
      "100%|██████████| 166/166 [00:05<00:00, 28.80it/s]\n",
      "100%|██████████| 166/166 [00:05<00:00, 28.64it/s]\n",
      "100%|██████████| 166/166 [00:05<00:00, 28.85it/s]\n"
     ]
    }
   ],
   "source": [
    "hidden_layer_dim = 512\n",
    "model_attention = GCN_attention(hidden_layer_dim, 4)\n",
    "for train_data in train_data_list:\n",
    "    loss = train_lists(model_attention, train_data)"
   ]
  },
  {
   "cell_type": "code",
   "execution_count": 65,
   "id": "c308d306",
   "metadata": {},
   "outputs": [],
   "source": [
    "test_loss = ((model_attention(test_data.x.to(device), test_data.edge_index.to(device)) - test_data.y.to(device))**2).mean()"
   ]
  },
  {
   "cell_type": "code",
   "execution_count": 69,
   "id": "da5a4a3c",
   "metadata": {},
   "outputs": [
    {
     "data": {
      "text/plain": [
       "tensor(117.0607, device='cuda:0', grad_fn=<MeanBackward0>)"
      ]
     },
     "execution_count": 69,
     "metadata": {},
     "output_type": "execute_result"
    }
   ],
   "source": [
    "test_loss"
   ]
  },
  {
   "cell_type": "code",
   "execution_count": 71,
   "id": "a85f341a",
   "metadata": {},
   "outputs": [
    {
     "data": {
      "image/png": "[encoded data removed]",
      "text/plain": [
       "<Figure size 432x288 with 1 Axes>"
      ]
     },
     "metadata": {
      "needs_background": "light"
     },
     "output_type": "display_data"
    }
   ],
   "source": [
    "plt.figure(figsize=(6,4))\n",
    "labels = ['Train Loss', 'Test Loss']\n",
    "loss_values = [loss.item(), test_loss.item()]\n",
    "plt.bar(labels, loss_values)\n",
    "plt.xlabel('Loss Type')\n",
    "plt.ylabel('Loss Value')\n",
    "plt.title('Leave One Out Performance')\n",
    "plt.show()"
   ]
  },
  {
   "cell_type": "code",
   "execution_count": null,
   "id": "c70d1ff8",
   "metadata": {},
   "outputs": [],
   "source": []
  }
 ],
 "metadata": {
  "kernelspec": {
   "display_name": "Python 3 (ipykernel)",
   "language": "python",
   "name": "python3"
  },
  "language_info": {
   "codemirror_mode": {
    "name": "ipython",
    "version": 3
   },
   "file_extension": ".py",
   "mimetype": "text/x-python",
   "name": "python",
   "nbconvert_exporter": "python",
   "pygments_lexer": "ipython3",
   "version": "3.9.5"
  }
 },
 "nbformat": 4,
 "nbformat_minor": 5
}
