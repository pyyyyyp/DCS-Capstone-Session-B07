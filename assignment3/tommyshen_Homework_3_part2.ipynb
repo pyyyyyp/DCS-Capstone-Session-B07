{
 "cells": [
  {
   "cell_type": "markdown",
   "metadata": {
    "id": "kPt5q27L5557"
   },
   "source": [
    "## node2vec"
   ]
  },
  {
   "cell_type": "markdown",
   "metadata": {
    "id": "p0-YhEpP_Ds-"
   },
   "source": [
    "### Setup"
   ]
  },
  {
   "cell_type": "markdown",
   "metadata": {
    "id": "82kmj9fIVlq0"
   },
   "source": [
    "First of all, we install and import necessary libraries such as the node2vec.\n",
    "\n",
    "If you are curious to learn how to implement fast random walks on graphs, I recommend you to [read the blog post](https://urldefense.com/v3/__https://www.singlelunch.com/2019/08/01/700x-faster-node2vec-models-fastest-random-walks-on-a-graph/__;!!Mih3wA!EheRRprg2zHlFiJ3LaUeWFoGMSkdkmQ4Ewl7qbwWrfAlxh82la0UNZ1FAnenW0CqNaiKQSwnlc1J6nfuCDCh$ ) which explains some of the design choices behind this library."
   ]
  },
  {
   "cell_type": "code",
   "execution_count": 1,
   "metadata": {
    "id": "QiIPtudrGlTf"
   },
   "outputs": [],
   "source": [
    "from node2vec import Node2Vec\n",
    "import networkx as nx"
   ]
  },
  {
   "cell_type": "markdown",
   "metadata": {
    "id": "qwtlO4_m_LbQ"
   },
   "source": [
    "Lastly, let's import some of the common libraries needed for our task."
   ]
  },
  {
   "cell_type": "code",
   "execution_count": 2,
   "metadata": {
    "id": "twk-K-jilWK7"
   },
   "outputs": [],
   "source": [
    "import pandas as pd\n",
    "import numpy as np\n",
    "import matplotlib.pyplot as plt\n",
    "%matplotlib inline"
   ]
  },
  {
   "cell_type": "markdown",
   "metadata": {
    "id": "kAYRX2PMm0L6"
   },
   "source": [
    "### Example"
   ]
  },
  {
   "cell_type": "code",
   "execution_count": 3,
   "metadata": {},
   "outputs": [
    {
     "name": "stderr",
     "output_type": "stream",
     "text": [
      "/var/folders/rg/mvn599q51g5_76hcm5b9cjgw0000gn/T/ipykernel_54522/282083699.py:3: DeprecationWarning: info is deprecated and will be removed in version 3.0.\n",
      "\n",
      "  nx.info(KCG)\n"
     ]
    },
    {
     "data": {
      "text/plain": [
       "'Graph named \"Zachary\\'s Karate Club\" with 34 nodes and 78 edges'"
      ]
     },
     "execution_count": 3,
     "metadata": {},
     "output_type": "execute_result"
    }
   ],
   "source": [
    "# Load the Zachary's Karate Club as a NetworkX Graph object\n",
    "KCG = nx.karate_club_graph()\n",
    "nx.info(KCG)"
   ]
  },
  {
   "cell_type": "code",
   "execution_count": 4,
   "metadata": {
    "id": "2PsVt5f2CsmP"
   },
   "outputs": [
    {
     "data": {
      "application/vnd.jupyter.widget-view+json": {
       "model_id": "5e1799c679de4a9184597b024e75289f",
       "version_major": 2,
       "version_minor": 0
      },
      "text/plain": [
       "Computing transition probabilities:   0%|          | 0/34 [00:00<?, ?it/s]"
      ]
     },
     "metadata": {},
     "output_type": "display_data"
    },
    {
     "name": "stderr",
     "output_type": "stream",
     "text": [
      "\r",
      "Generating walks (CPU: 1):   0%|          | 0/50 [00:00<?, ?it/s]\r",
      "Generating walks (CPU: 2):   0%|          | 0/50 [00:00<?, ?it/s]\r",
      "Generating walks (CPU: 1): 100%|██████████| 50/50 [00:00<00:00, 580.10it/s]\n",
      "\r",
      "Generating walks (CPU: 2): 100%|██████████| 50/50 [00:00<00:00, 579.86it/s]\n"
     ]
    }
   ],
   "source": [
    "# Fit embedding model to the Karate Club graph\n",
    "node2vec = Node2Vec(KCG, dimensions=128, walk_length=40, num_walks=100, workers=2)\n",
    "n2v = node2vec.fit(window=10, min_count=1)\n"
   ]
  },
  {
   "cell_type": "markdown",
   "metadata": {},
   "source": [
    "### Your Task"
   ]
  },
  {
   "cell_type": "markdown",
   "metadata": {},
   "source": [
    "Create a small wrapper class which will expose only the few hyperparameters you will need to tune the Node2Vec"
   ]
  },
  {
   "cell_type": "code",
   "execution_count": 5,
   "metadata": {},
   "outputs": [],
   "source": [
    "class N2VWrapper:\n",
    "    def __init__(self, dimensions=128, walk_length=40, num_walks=100, workers=2):\n",
    "        self.dimensions = dimensions\n",
    "        self.walk_length = walk_length\n",
    "        self.num_walks = num_walks\n",
    "        self.workers = workers\n",
    "        self.model = None\n",
    "\n",
    "    def fit(self, graph):\n",
    "        node2vec = Node2Vec(graph, dimensions=self.dimensions, walk_length=self.walk_length,\n",
    "                            num_walks=self.num_walks, workers=2)\n",
    "        self.model = node2vec.fit(window=10, min_count=1)"
   ]
  },
  {
   "cell_type": "code",
   "execution_count": 6,
   "metadata": {
    "scrolled": true
   },
   "outputs": [
    {
     "data": {
      "application/vnd.jupyter.widget-view+json": {
       "model_id": "ac2cafde9f6449fe898bce656ddff94e",
       "version_major": 2,
       "version_minor": 0
      },
      "text/plain": [
       "Computing transition probabilities:   0%|          | 0/34 [00:00<?, ?it/s]"
      ]
     },
     "metadata": {},
     "output_type": "display_data"
    },
    {
     "name": "stderr",
     "output_type": "stream",
     "text": [
      "\r",
      "Generating walks (CPU: 1):   0%|          | 0/50 [00:00<?, ?it/s]\r",
      "Generating walks (CPU: 2):   0%|          | 0/50 [00:00<?, ?it/s]\r",
      "Generating walks (CPU: 1): 100%|██████████| 50/50 [00:00<00:00, 581.62it/s]\n",
      "\r",
      "Generating walks (CPU: 2): 100%|██████████| 50/50 [00:00<00:00, 588.38it/s]\n"
     ]
    }
   ],
   "source": [
    "n = N2VWrapper(dimensions=2)\n",
    "n.fit(KCG)"
   ]
  },
  {
   "cell_type": "markdown",
   "metadata": {},
   "source": [
    "Construct a pandas dataframe with the 2D embeddings from node2vec, plus the club name that each node belongs to after the split."
   ]
  },
  {
   "cell_type": "code",
   "execution_count": 7,
   "metadata": {
    "id": "ZEjzhwEiC1HD",
    "scrolled": true
   },
   "outputs": [
    {
     "data": {
      "text/html": [
       "<div>\n",
       "<style scoped>\n",
       "    .dataframe tbody tr th:only-of-type {\n",
       "        vertical-align: middle;\n",
       "    }\n",
       "\n",
       "    .dataframe tbody tr th {\n",
       "        vertical-align: top;\n",
       "    }\n",
       "\n",
       "    .dataframe thead th {\n",
       "        text-align: right;\n",
       "    }\n",
       "</style>\n",
       "<table border=\"1\" class=\"dataframe\">\n",
       "  <thead>\n",
       "    <tr style=\"text-align: right;\">\n",
       "      <th></th>\n",
       "      <th>x</th>\n",
       "      <th>y</th>\n",
       "      <th>club</th>\n",
       "      <th>color</th>\n",
       "    </tr>\n",
       "  </thead>\n",
       "  <tbody>\n",
       "    <tr>\n",
       "      <th>0</th>\n",
       "      <td>-0.091024</td>\n",
       "      <td>1.131020</td>\n",
       "      <td>Mr. Hi</td>\n",
       "      <td>red</td>\n",
       "    </tr>\n",
       "    <tr>\n",
       "      <th>1</th>\n",
       "      <td>-0.285237</td>\n",
       "      <td>0.856420</td>\n",
       "      <td>Mr. Hi</td>\n",
       "      <td>red</td>\n",
       "    </tr>\n",
       "    <tr>\n",
       "      <th>2</th>\n",
       "      <td>-0.395774</td>\n",
       "      <td>0.730229</td>\n",
       "      <td>Mr. Hi</td>\n",
       "      <td>red</td>\n",
       "    </tr>\n",
       "    <tr>\n",
       "      <th>3</th>\n",
       "      <td>-0.279947</td>\n",
       "      <td>0.872584</td>\n",
       "      <td>Mr. Hi</td>\n",
       "      <td>red</td>\n",
       "    </tr>\n",
       "    <tr>\n",
       "      <th>4</th>\n",
       "      <td>0.102997</td>\n",
       "      <td>1.451556</td>\n",
       "      <td>Mr. Hi</td>\n",
       "      <td>red</td>\n",
       "    </tr>\n",
       "    <tr>\n",
       "      <th>5</th>\n",
       "      <td>0.191833</td>\n",
       "      <td>1.582831</td>\n",
       "      <td>Mr. Hi</td>\n",
       "      <td>red</td>\n",
       "    </tr>\n",
       "    <tr>\n",
       "      <th>6</th>\n",
       "      <td>0.181345</td>\n",
       "      <td>1.572889</td>\n",
       "      <td>Mr. Hi</td>\n",
       "      <td>red</td>\n",
       "    </tr>\n",
       "    <tr>\n",
       "      <th>7</th>\n",
       "      <td>-0.264398</td>\n",
       "      <td>0.877481</td>\n",
       "      <td>Mr. Hi</td>\n",
       "      <td>red</td>\n",
       "    </tr>\n",
       "    <tr>\n",
       "      <th>8</th>\n",
       "      <td>-0.619611</td>\n",
       "      <td>0.478545</td>\n",
       "      <td>Mr. Hi</td>\n",
       "      <td>red</td>\n",
       "    </tr>\n",
       "    <tr>\n",
       "      <th>9</th>\n",
       "      <td>-0.757910</td>\n",
       "      <td>0.342465</td>\n",
       "      <td>Officer</td>\n",
       "      <td>blue</td>\n",
       "    </tr>\n",
       "    <tr>\n",
       "      <th>10</th>\n",
       "      <td>0.131901</td>\n",
       "      <td>1.497854</td>\n",
       "      <td>Mr. Hi</td>\n",
       "      <td>red</td>\n",
       "    </tr>\n",
       "    <tr>\n",
       "      <th>11</th>\n",
       "      <td>-0.126993</td>\n",
       "      <td>1.086636</td>\n",
       "      <td>Mr. Hi</td>\n",
       "      <td>red</td>\n",
       "    </tr>\n",
       "    <tr>\n",
       "      <th>12</th>\n",
       "      <td>-0.206408</td>\n",
       "      <td>0.964110</td>\n",
       "      <td>Mr. Hi</td>\n",
       "      <td>red</td>\n",
       "    </tr>\n",
       "    <tr>\n",
       "      <th>13</th>\n",
       "      <td>-0.355748</td>\n",
       "      <td>0.774232</td>\n",
       "      <td>Mr. Hi</td>\n",
       "      <td>red</td>\n",
       "    </tr>\n",
       "    <tr>\n",
       "      <th>14</th>\n",
       "      <td>-0.975740</td>\n",
       "      <td>0.151969</td>\n",
       "      <td>Officer</td>\n",
       "      <td>blue</td>\n",
       "    </tr>\n",
       "    <tr>\n",
       "      <th>15</th>\n",
       "      <td>-0.974890</td>\n",
       "      <td>0.158290</td>\n",
       "      <td>Officer</td>\n",
       "      <td>blue</td>\n",
       "    </tr>\n",
       "    <tr>\n",
       "      <th>16</th>\n",
       "      <td>0.284884</td>\n",
       "      <td>1.737114</td>\n",
       "      <td>Mr. Hi</td>\n",
       "      <td>red</td>\n",
       "    </tr>\n",
       "    <tr>\n",
       "      <th>17</th>\n",
       "      <td>-0.146778</td>\n",
       "      <td>1.020571</td>\n",
       "      <td>Mr. Hi</td>\n",
       "      <td>red</td>\n",
       "    </tr>\n",
       "    <tr>\n",
       "      <th>18</th>\n",
       "      <td>-0.948227</td>\n",
       "      <td>0.179539</td>\n",
       "      <td>Officer</td>\n",
       "      <td>blue</td>\n",
       "    </tr>\n",
       "    <tr>\n",
       "      <th>19</th>\n",
       "      <td>-0.297950</td>\n",
       "      <td>0.847995</td>\n",
       "      <td>Mr. Hi</td>\n",
       "      <td>red</td>\n",
       "    </tr>\n",
       "    <tr>\n",
       "      <th>20</th>\n",
       "      <td>-1.030348</td>\n",
       "      <td>0.097402</td>\n",
       "      <td>Officer</td>\n",
       "      <td>blue</td>\n",
       "    </tr>\n",
       "    <tr>\n",
       "      <th>21</th>\n",
       "      <td>-0.181180</td>\n",
       "      <td>0.995801</td>\n",
       "      <td>Mr. Hi</td>\n",
       "      <td>red</td>\n",
       "    </tr>\n",
       "    <tr>\n",
       "      <th>22</th>\n",
       "      <td>-0.958228</td>\n",
       "      <td>0.169565</td>\n",
       "      <td>Officer</td>\n",
       "      <td>blue</td>\n",
       "    </tr>\n",
       "    <tr>\n",
       "      <th>23</th>\n",
       "      <td>-1.046233</td>\n",
       "      <td>0.088103</td>\n",
       "      <td>Officer</td>\n",
       "      <td>blue</td>\n",
       "    </tr>\n",
       "    <tr>\n",
       "      <th>24</th>\n",
       "      <td>-1.037395</td>\n",
       "      <td>0.095709</td>\n",
       "      <td>Officer</td>\n",
       "      <td>blue</td>\n",
       "    </tr>\n",
       "    <tr>\n",
       "      <th>25</th>\n",
       "      <td>-1.145172</td>\n",
       "      <td>0.024164</td>\n",
       "      <td>Officer</td>\n",
       "      <td>blue</td>\n",
       "    </tr>\n",
       "    <tr>\n",
       "      <th>26</th>\n",
       "      <td>-1.107543</td>\n",
       "      <td>0.057232</td>\n",
       "      <td>Officer</td>\n",
       "      <td>blue</td>\n",
       "    </tr>\n",
       "    <tr>\n",
       "      <th>27</th>\n",
       "      <td>-0.890075</td>\n",
       "      <td>0.230965</td>\n",
       "      <td>Officer</td>\n",
       "      <td>blue</td>\n",
       "    </tr>\n",
       "    <tr>\n",
       "      <th>28</th>\n",
       "      <td>-0.719594</td>\n",
       "      <td>0.389773</td>\n",
       "      <td>Officer</td>\n",
       "      <td>blue</td>\n",
       "    </tr>\n",
       "    <tr>\n",
       "      <th>29</th>\n",
       "      <td>-1.133872</td>\n",
       "      <td>0.030418</td>\n",
       "      <td>Officer</td>\n",
       "      <td>blue</td>\n",
       "    </tr>\n",
       "    <tr>\n",
       "      <th>30</th>\n",
       "      <td>-0.739194</td>\n",
       "      <td>0.365713</td>\n",
       "      <td>Officer</td>\n",
       "      <td>blue</td>\n",
       "    </tr>\n",
       "    <tr>\n",
       "      <th>31</th>\n",
       "      <td>-0.930674</td>\n",
       "      <td>0.197202</td>\n",
       "      <td>Officer</td>\n",
       "      <td>blue</td>\n",
       "    </tr>\n",
       "    <tr>\n",
       "      <th>32</th>\n",
       "      <td>-0.976470</td>\n",
       "      <td>0.161175</td>\n",
       "      <td>Officer</td>\n",
       "      <td>blue</td>\n",
       "    </tr>\n",
       "    <tr>\n",
       "      <th>33</th>\n",
       "      <td>-0.934352</td>\n",
       "      <td>0.200816</td>\n",
       "      <td>Officer</td>\n",
       "      <td>blue</td>\n",
       "    </tr>\n",
       "  </tbody>\n",
       "</table>\n",
       "</div>"
      ],
      "text/plain": [
       "           x         y     club color\n",
       "0  -0.091024  1.131020   Mr. Hi   red\n",
       "1  -0.285237  0.856420   Mr. Hi   red\n",
       "2  -0.395774  0.730229   Mr. Hi   red\n",
       "3  -0.279947  0.872584   Mr. Hi   red\n",
       "4   0.102997  1.451556   Mr. Hi   red\n",
       "5   0.191833  1.582831   Mr. Hi   red\n",
       "6   0.181345  1.572889   Mr. Hi   red\n",
       "7  -0.264398  0.877481   Mr. Hi   red\n",
       "8  -0.619611  0.478545   Mr. Hi   red\n",
       "9  -0.757910  0.342465  Officer  blue\n",
       "10  0.131901  1.497854   Mr. Hi   red\n",
       "11 -0.126993  1.086636   Mr. Hi   red\n",
       "12 -0.206408  0.964110   Mr. Hi   red\n",
       "13 -0.355748  0.774232   Mr. Hi   red\n",
       "14 -0.975740  0.151969  Officer  blue\n",
       "15 -0.974890  0.158290  Officer  blue\n",
       "16  0.284884  1.737114   Mr. Hi   red\n",
       "17 -0.146778  1.020571   Mr. Hi   red\n",
       "18 -0.948227  0.179539  Officer  blue\n",
       "19 -0.297950  0.847995   Mr. Hi   red\n",
       "20 -1.030348  0.097402  Officer  blue\n",
       "21 -0.181180  0.995801   Mr. Hi   red\n",
       "22 -0.958228  0.169565  Officer  blue\n",
       "23 -1.046233  0.088103  Officer  blue\n",
       "24 -1.037395  0.095709  Officer  blue\n",
       "25 -1.145172  0.024164  Officer  blue\n",
       "26 -1.107543  0.057232  Officer  blue\n",
       "27 -0.890075  0.230965  Officer  blue\n",
       "28 -0.719594  0.389773  Officer  blue\n",
       "29 -1.133872  0.030418  Officer  blue\n",
       "30 -0.739194  0.365713  Officer  blue\n",
       "31 -0.930674  0.197202  Officer  blue\n",
       "32 -0.976470  0.161175  Officer  blue\n",
       "33 -0.934352  0.200816  Officer  blue"
      ]
     },
     "execution_count": 7,
     "metadata": {},
     "output_type": "execute_result"
    }
   ],
   "source": [
    "# YOUR CODE HERE\n",
    "embeddings = [n.model.wv[str(i)] for i in KCG.nodes]\n",
    "df = pd.DataFrame(embeddings, columns=['x', 'y'])\n",
    "df['club'] = [KCG.nodes[i]['club'] for i in KCG.nodes]\n",
    "df['color'] = df['club'].apply(lambda x: 'red' if x=='Mr. Hi' else 'blue')\n",
    "df"
   ]
  },
  {
   "cell_type": "markdown",
   "metadata": {},
   "source": [
    "Nodes who stayed with the Mr. Hi will be plotted in red, while nodes who moved with the Officer will be plotted in blue"
   ]
  },
  {
   "cell_type": "code",
   "execution_count": 8,
   "metadata": {
    "id": "fJBTilMGLInb"
   },
   "outputs": [
    {
     "data": {
      "image/png": "[encoded data removed]",
      "text/plain": [
       "<Figure size 640x480 with 1 Axes>"
      ]
     },
     "metadata": {},
     "output_type": "display_data"
    }
   ],
   "source": [
    "# YOUR CODE HERE\n",
    "plt.scatter(x=df['x'], y=df['y'], color=df['color'])\n",
    "plt.show()"
   ]
  },
  {
   "cell_type": "markdown",
   "metadata": {
    "id": "e6vmpmj6Ylph"
   },
   "source": [
    "If your example trained correctly, you should notice a clear separation between the blue and red nodes.  Solely from the graph structure, node2vec could predict how the Zachary's Karate Club split!\n",
    "\n",
    "Tune the hyperparameters ```p``` and ```q```, and notice how they affect the resulting embeddings."
   ]
  },
  {
   "cell_type": "markdown",
   "metadata": {
    "id": "x15OQeyys1xd"
   },
   "source": [
    "Now you will study the behavior of node2vec on [barbell graphs](https://urldefense.com/v3/__https://en.wikipedia.org/wiki/Barbell_graph).*5Cn__;JQ!!Mih3wA!EheRRprg2zHlFiJ3LaUeWFoGMSkdkmQ4Ewl7qbwWrfAlxh82la0UNZ1FAnenW0CqNaiKQSwnlc1J6tXv71Tm$ \n",
    "\n",
    "Below you can see a toy example of a barbell graph generated with NetworkX."
   ]
  },
  {
   "cell_type": "code",
   "execution_count": 9,
   "metadata": {
    "id": "xUYxs4E8aHgG"
   },
   "outputs": [
    {
     "data": {
      "image/png": "[encoded data removed]",
      "text/plain": [
       "<Figure size 640x480 with 1 Axes>"
      ]
     },
     "metadata": {},
     "output_type": "display_data"
    }
   ],
   "source": [
    "toy_barbell = nx.barbell_graph(7, 0)\n",
    "nx.draw_kamada_kawai(toy_barbell)"
   ]
  },
  {
   "cell_type": "markdown",
   "metadata": {
    "id": "G7K3-57FyD8D"
   },
   "source": [
    "\n",
    "\n",
    "\n",
    "Generate a larger barbell graph, where each complete graph has exactly 1000 nodes, and the path length between the complete graphs is equal to 1 (i.e., all the nodes in the barbell graph belong to either one of the two complete graphs, and the connecting path does not have any internal node).\n",
    "\n",
    "Then, learn node2vec embeddings on this graph, setting ```p = 1, q = 1``` and ```d = 10```."
   ]
  },
  {
   "cell_type": "code",
   "execution_count": 80,
   "metadata": {
    "id": "k_rmp-SvaIOt"
   },
   "outputs": [
    {
     "data": {
      "application/vnd.jupyter.widget-view+json": {
       "model_id": "4e6855b77f0c4aff9c1d7cf988c2935e",
       "version_major": 2,
       "version_minor": 0
      },
      "text/plain": [
       "Computing transition probabilities:   0%|          | 0/400 [00:00<?, ?it/s]"
      ]
     },
     "metadata": {},
     "output_type": "display_data"
    },
    {
     "name": "stderr",
     "output_type": "stream",
     "text": [
      "Generating walks (CPU: 1): 100%|████████████████| 10/10 [00:03<00:00,  3.22it/s]\n"
     ]
    }
   ],
   "source": [
    "# YOUR CODE HERE\n",
    "barbell_2 = nx.barbell_graph(200, 0)\n",
    "node2vec = Node2Vec(barbell_2, p=1, q=1, dimensions=10)\n",
    "n2v = node2vec.fit(window=10, min_count=1)\n",
    "#nx.draw_kamada_kawai(barbell_2)"
   ]
  },
  {
   "cell_type": "markdown",
   "metadata": {
    "id": "fyxZBVwhzLQe"
   },
   "source": [
    "Write a function that takes as input a node id ```n``` in the graph (e.g., ```5```) and returns a list containing the cosine similarity between the node2vec vector of the input node ```n``` and all the nodes in the given barbell graph (including the similarity with ```n``` itself)."
   ]
  },
  {
   "cell_type": "code",
   "execution_count": 81,
   "metadata": {
    "id": "aq7advtkjXSp"
   },
   "outputs": [],
   "source": [
    "# YOUR CODE HERE\n",
    "def most_similar(n):\n",
    "    \n",
    "    def sim(u, v):\n",
    "        return np.dot(u, v) / (np.linalg.norm(u) * np.linalg.norm(v))\n",
    "    \n",
    "    u = n2v.wv[str(n)]\n",
    "    embeddings = np.array([n2v.wv[str(i)] for i in barbell_2.nodes])\n",
    "    similarities = pd.DataFrame([sim(u, v) for v in embeddings])\n",
    "    \n",
    "    indices = similarities.sort_values(by=0, ascending=False).reset_index()['index'][1:6]\n",
    "    \n",
    "    return np.take(embeddings, indices, axis=0)"
   ]
  },
  {
   "cell_type": "code",
   "execution_count": 82,
   "metadata": {},
   "outputs": [
    {
     "data": {
      "text/plain": [
       "array([[ 0.43122727, -0.16674843,  1.2249893 ,  0.3303264 , -0.6033812 ,\n",
       "        -0.09391477, -0.21212992,  0.5848776 , -0.16905761,  0.5930796 ],\n",
       "       [ 0.46828857, -0.16723129,  1.2116897 ,  0.24758698, -0.67937917,\n",
       "        -0.12212906, -0.22536677,  0.62126523, -0.191763  ,  0.46101403],\n",
       "       [ 0.37601075, -0.15541303,  1.2581348 ,  0.33241278, -0.6764298 ,\n",
       "        -0.02879537, -0.2658162 ,  0.5777417 , -0.16049522,  0.4119974 ],\n",
       "       [ 0.38913393, -0.24992594,  1.2355906 ,  0.3414603 , -0.57165706,\n",
       "        -0.12103085, -0.3302665 ,  0.56322986, -0.13050777,  0.58195937],\n",
       "       [ 0.39799434, -0.22517878,  1.2033155 ,  0.36312503, -0.67448896,\n",
       "        -0.06419586, -0.32911068,  0.5556493 , -0.291485  ,  0.45767128]],\n",
       "      dtype=float32)"
      ]
     },
     "execution_count": 82,
     "metadata": {},
     "output_type": "execute_result"
    }
   ],
   "source": [
    "most_similar(3)"
   ]
  },
  {
   "cell_type": "markdown",
   "metadata": {
    "id": "zw1oNDDD2dZO"
   },
   "source": [
    "Generate another barbell graph, this time adding a path of length 51 between the two complete graphs. To find out how, refer to the NetworkX documentation: [https://urldefense.com/v3/__https://networkx.github.io/documentation/stable/reference/generated/networkx.generators.classic.barbell_graph.html*networkx.generators.classic.barbell_graph*(https:/*networkx.github.io/documentation/stable/reference/generated/networkx.generators.classic.barbell_graph.html*networkx.generators.classic.barbell_graph)*5Cn__;I10vIyU!!Mih3wA!EheRRprg2zHlFiJ3LaUeWFoGMSkdkmQ4Ewl7qbwWrfAlxh82la0UNZ1FAnenW0CqNaiKQSwnlc1J6oerQ6sI$ \n",
    "\n",
    "Learn the node2vec embeddings for the nodes of this new graph, using the same hyperparameters as before."
   ]
  },
  {
   "cell_type": "code",
   "execution_count": 83,
   "metadata": {
    "id": "OlPg6k6z65Gk"
   },
   "outputs": [
    {
     "data": {
      "application/vnd.jupyter.widget-view+json": {
       "model_id": "b9bd874278dd40ccbd459e615d7d7fe9",
       "version_major": 2,
       "version_minor": 0
      },
      "text/plain": [
       "Computing transition probabilities:   0%|          | 0/451 [00:00<?, ?it/s]"
      ]
     },
     "metadata": {},
     "output_type": "display_data"
    },
    {
     "name": "stderr",
     "output_type": "stream",
     "text": [
      "Generating walks (CPU: 1): 100%|████████████████| 10/10 [00:03<00:00,  3.19it/s]\n"
     ]
    }
   ],
   "source": [
    "# YOUR CODE HERE\n",
    "barbell_3 = nx.barbell_graph(200, 51)\n",
    "node2vec = Node2Vec(barbell_3, p=1, q=1, dimensions=10)\n",
    "n2v = node2vec.fit(window=10, min_count=1)\n",
    "#nx.draw_kamada_kawai(barbell_3)"
   ]
  },
  {
   "cell_type": "code",
   "execution_count": null,
   "metadata": {},
   "outputs": [],
   "source": []
  }
 ],
 "metadata": {
  "kernelspec": {
   "display_name": "Python 3 (ipykernel)",
   "language": "python",
   "name": "python3"
  },
  "language_info": {
   "codemirror_mode": {
    "name": "ipython",
    "version": 3
   },
   "file_extension": ".py",
   "mimetype": "text/x-python",
   "name": "python",
   "nbconvert_exporter": "python",
   "pygments_lexer": "ipython3",
   "version": "3.11.5"
  }
 },
 "nbformat": 4,
 "nbformat_minor": 1
}
