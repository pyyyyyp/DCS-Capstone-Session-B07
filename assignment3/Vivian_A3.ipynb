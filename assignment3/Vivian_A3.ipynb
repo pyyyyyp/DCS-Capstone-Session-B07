{
 "cells": [
  {
   "cell_type": "code",
   "execution_count": 2,
   "id": "4dbafc4b",
   "metadata": {},
   "outputs": [],
   "source": [
    "import gzip\n",
    "import json\n",
    "import pandas as pd\n",
    "import numpy as np\n",
    "from scipy.sparse import coo_matrix\n",
    "\n",
    "with gzip.open('xbar/1/xbar.json.gz','rb') as f:\n",
    "    design = json.loads(f.read().decode('utf-8'))\n",
    "    \n",
    "instances = pd.DataFrame(design['instances'])\n",
    "nets = pd.DataFrame(design['nets'])\n",
    "\n",
    "conn=np.load('xbar/1/xbar_connectivity.npz')\n",
    "A = coo_matrix((conn['data'], (conn['row'], conn['col'])), shape=conn['shape'])\n",
    "A = A.__mul__(A.T)\n",
    "\n",
    "def buildBST(array,start=0,finish=-1):\n",
    "    if finish<0:\n",
    "        finish = len(array)\n",
    "    mid = (start + finish) // 2\n",
    "    if mid-start==1:\n",
    "        ltl=start\n",
    "    else:\n",
    "        ltl=buildBST(array,start,mid)\n",
    "    \n",
    "    if finish-mid==1:\n",
    "        gtl=mid\n",
    "    else:\n",
    "        gtl=buildBST(array,mid,finish)\n",
    "        \n",
    "    return((array[mid],ltl,gtl))\n",
    "\n",
    "congestion_data = np.load('xbar/1/xbar_congestion.npz')\n",
    "xbst=buildBST(congestion_data['xBoundaryList'])\n",
    "ybst=buildBST(congestion_data['yBoundaryList'])\n",
    "demand = np.zeros(shape = [instances.shape[0],])\n",
    "\n",
    "\n",
    "def getGRCIndex(x,y,xbst,ybst):\n",
    "    while (type(xbst)==tuple):\n",
    "        if x < xbst[0]:\n",
    "            xbst=xbst[1]\n",
    "        else:\n",
    "            xbst=xbst[2]\n",
    "            \n",
    "    while (type(ybst)==tuple):\n",
    "        if y < ybst[0]:\n",
    "            ybst=ybst[1]\n",
    "        else:\n",
    "            ybst=ybst[2]\n",
    "            \n",
    "    return ybst, xbst\n",
    "\n",
    "\n",
    "for k in range(instances.shape[0]):\n",
    "    xloc = instances.iloc[k]['xloc']; yloc = instances.iloc[k]['yloc']\n",
    "    i,j=getGRCIndex(xloc,yloc,xbst,ybst)\n",
    "    d = 0 \n",
    "    for l in list(congestion_data['layerList']): \n",
    "        lyr=list(congestion_data['layerList']).index(l)\n",
    "        d += congestion_data['demand'][lyr][i][j]\n",
    "    demand[k] = d\n",
    "        \n",
    "instances['routing_demand'] = demand"
   ]
  },
  {
   "cell_type": "markdown",
   "id": "05524557",
   "metadata": {},
   "source": [
    "1a"
   ]
  },
  {
   "cell_type": "code",
   "execution_count": 3,
   "id": "b4bab751",
   "metadata": {},
   "outputs": [],
   "source": [
    "import torch.nn.functional as F\n",
    "import numpy as np\n",
    "import torch\n",
    "import torch.nn as nn\n",
    "import torch.optim as optim\n",
    "from torch.utils.data import DataLoader, TensorDataset\n",
    "from sklearn.model_selection import train_test_split\n",
    "from sklearn.preprocessing import StandardScaler\n",
    "from scipy.sparse import coo_matrix\n",
    "from sklearn.metrics import mean_squared_error, r2_score\n",
    "import scipy.sparse as sp\n",
    "\n",
    "\n",
    "seed = 42\n",
    "np.random.seed(seed)\n",
    "torch.manual_seed(seed)\n",
    "\n",
    "conn=np.load('xbar/1/xbar_connectivity.npz')\n",
    "A = coo_matrix((conn['data'], (conn['row'], conn['col'])), shape=conn['shape'])\n",
    "A = A.__mul__(A.T)\n",
    "A = torch.FloatTensor(np.array(A.todense()))\n",
    "def normalize(mx):\n",
    "    \"\"\"Row-normalize sparse matrix\"\"\"\n",
    "    rowsum = np.array(mx.sum(1))\n",
    "    r_inv = np.power(rowsum, -1).flatten()\n",
    "    r_inv[np.isinf(r_inv)] = 0.\n",
    "    r_mat_inv = sp.diags(r_inv)\n",
    "    mx = r_mat_inv.dot(mx)\n",
    "    return mx\n",
    "A = normalize(A)\n",
    "A = torch.FloatTensor(np.array(A))\n",
    "\n",
    "\n",
    "target_values = instances['routing_demand'] \n",
    "\n",
    "train_size = 0.7\n",
    "indices = np.arange(len(target_values))\n",
    "train_indices, test_indices = train_test_split(indices, train_size=train_size, random_state=seed)\n",
    "\n",
    "scaler = StandardScaler()\n",
    "features = scaler.fit_transform(instances[['xloc', 'yloc', 'cell', 'orient']]) \n",
    "\n",
    "\n",
    "features = torch.FloatTensor(features)\n",
    "targets = torch.FloatTensor(target_values)"
   ]
  },
  {
   "cell_type": "code",
   "execution_count": 4,
   "id": "ee6871b8",
   "metadata": {},
   "outputs": [],
   "source": [
    "class GCN(nn.Module):\n",
    "    def __init__(self, input_dim, hidden_dim, output_dim, num_layers):\n",
    "        super(GCN, self).__init__()\n",
    "        self.num_layers = num_layers\n",
    "        self.gcn_layers = nn.ModuleList([nn.Linear(input_dim, hidden_dim)])\n",
    "        for _ in range(self.num_layers - 2):\n",
    "            self.gcn_layers.append(nn.Linear(hidden_dim, hidden_dim))\n",
    "        self.gcn_layers.append(nn.Linear(hidden_dim, output_dim))\n",
    "\n",
    "    def forward(self, x, adj):\n",
    "        for layer in self.gcn_layers[:-1]:\n",
    "            x = F.relu(layer(torch.matmul(adj, x)))\n",
    "        x = self.gcn_layers[-1](torch.matmul(adj, x))\n",
    "        return x\n",
    "\n",
    "input_dim = features.shape[1]\n",
    "output_dim = 1  \n",
    "hidden_dim = 64\n",
    "num_epochs = 1000\n",
    "learning_rate = 0.01\n",
    "\n"
   ]
  },
  {
   "cell_type": "code",
   "execution_count": 17,
   "id": "c4c96dd8",
   "metadata": {},
   "outputs": [
    {
     "data": {
      "text/plain": [
       "torch.Size([3952, 4])"
      ]
     },
     "execution_count": 17,
     "metadata": {},
     "output_type": "execute_result"
    }
   ],
   "source": [
    "features.shape"
   ]
  },
  {
   "cell_type": "code",
   "execution_count": 18,
   "id": "512d8afe",
   "metadata": {},
   "outputs": [
    {
     "data": {
      "text/plain": [
       "torch.Size([3952, 3952])"
      ]
     },
     "execution_count": 18,
     "metadata": {},
     "output_type": "execute_result"
    }
   ],
   "source": [
    "A.shape"
   ]
  },
  {
   "cell_type": "code",
   "execution_count": 7,
   "id": "1ebb7de3",
   "metadata": {},
   "outputs": [
    {
     "name": "stdout",
     "output_type": "stream",
     "text": [
      "Layer 1, Epoch 500, Loss: 20.787513732910156\n",
      "Layer 1, Epoch 1000, Loss: 20.491809844970703\n",
      "Layer 1, Epoch 1500, Loss: 20.429702758789062\n",
      "Layer 1, Epoch 2000, Loss: 20.411352157592773\n",
      "Layer 1, Epoch 2500, Loss: 20.405345916748047\n",
      "Layer 1, Epoch 3000, Loss: 20.402992248535156\n",
      "Layer 1, Test Loss: 20.542322158813477\n",
      "Layer 2, Epoch 500, Loss: 20.755247116088867\n",
      "Layer 2, Epoch 1000, Loss: 20.457632064819336\n",
      "Layer 2, Epoch 1500, Loss: 20.413658142089844\n",
      "Layer 2, Epoch 2000, Loss: 20.406085968017578\n",
      "Layer 2, Epoch 2500, Loss: 20.404157638549805\n",
      "Layer 2, Epoch 3000, Loss: 20.403348922729492\n",
      "Layer 2, Test Loss: 20.543048858642578\n",
      "Layer 3, Epoch 500, Loss: 20.430377960205078\n",
      "Layer 3, Epoch 1000, Loss: 20.407169342041016\n",
      "Layer 3, Epoch 1500, Loss: 20.404335021972656\n",
      "Layer 3, Epoch 2000, Loss: 20.4033203125\n",
      "Layer 3, Epoch 2500, Loss: 20.40270233154297\n",
      "Layer 3, Epoch 3000, Loss: 20.402206420898438\n",
      "Layer 3, Test Loss: 20.541610717773438\n",
      "Layer 4, Epoch 500, Loss: 20.418676376342773\n",
      "Layer 4, Epoch 1000, Loss: 20.40727996826172\n",
      "Layer 4, Epoch 1500, Loss: 20.404314041137695\n",
      "Layer 4, Epoch 2000, Loss: 20.403064727783203\n",
      "Layer 4, Epoch 2500, Loss: 20.402355194091797\n",
      "Layer 4, Epoch 3000, Loss: 20.401947021484375\n",
      "Layer 4, Test Loss: 20.541385650634766\n",
      "Layer 5, Epoch 500, Loss: 20.412395477294922\n",
      "Layer 5, Epoch 1000, Loss: 20.407915115356445\n",
      "Layer 5, Epoch 1500, Loss: 20.405010223388672\n",
      "Layer 5, Epoch 2000, Loss: 20.403059005737305\n",
      "Layer 5, Epoch 2500, Loss: 20.40253257751465\n",
      "Layer 5, Epoch 3000, Loss: 20.4022274017334\n",
      "Layer 5, Test Loss: 20.541759490966797\n"
     ]
    }
   ],
   "source": [
    "for k in range(1, 6):\n",
    "    model = GCN(input_dim, hidden_dim, output_dim, num_layers=k)\n",
    "    criterion = nn.MSELoss()\n",
    "    optimizer = torch.optim.Adam(model.parameters(), lr=learning_rate)\n",
    "\n",
    "    for epoch in range(3000):\n",
    "        model.train()\n",
    "        optimizer.zero_grad()\n",
    "        outputs = model(features, A)\n",
    "        loss = criterion(outputs[train_indices], targets[train_indices])\n",
    "        loss.backward()\n",
    "        optimizer.step()\n",
    "\n",
    "        if (epoch + 1) % 500 == 0:\n",
    "            print(f\"Layer {k}, Epoch {epoch + 1}, Loss: {loss.item()}\")\n",
    "\n",
    "    model.eval()\n",
    "    with torch.no_grad():\n",
    "        test_outputs = model(features, A)\n",
    "        test_loss = criterion(outputs[test_indices], targets[test_indices])\n",
    "        print(f\"Layer {k}, Test Loss: {test_loss.item()}\")"
   ]
  },
  {
   "cell_type": "markdown",
   "id": "05e53891",
   "metadata": {},
   "source": [
    "1b"
   ]
  },
  {
   "cell_type": "code",
   "execution_count": 9,
   "id": "7375ed37",
   "metadata": {},
   "outputs": [],
   "source": [
    "class GCN(nn.Module):\n",
    "    def __init__(self, input_dim, hidden_dim, output_dim, num_layers):\n",
    "        super(GCN, self).__init__()\n",
    "        self.num_layers = num_layers\n",
    "        self.gcn_layers = nn.ModuleList([nn.Linear(input_dim, hidden_dim)])\n",
    "        self.attention_weights = nn.ModuleList([nn.Linear(hidden_dim * 2, 1)])\n",
    "        for _ in range(self.num_layers - 2):\n",
    "            self.gcn_layers.append(nn.Linear(hidden_dim, hidden_dim))\n",
    "            self.attention_weights.append(nn.Linear(hidden_dim * 2, 1))\n",
    "        self.gcn_layers.append(nn.Linear(hidden_dim, output_dim))\n",
    "\n",
    "    def forward(self, x, adj):\n",
    "        for layer in self.gcn_layers[:-1]:\n",
    "            x = F.relu(layer(torch.matmul(adj, x)))\n",
    "        for layer_idx in range(self.num_layers - 1):\n",
    "            attention_scores = self.attention_weights[layer_idx](torch.cat((x, torch.matmul(adj, x)), dim=1))\n",
    "            attention_scores = F.softmax(attention_scores, dim=0)\n",
    "            x = x * attention_scores + torch.matmul(adj, x) * (1 - attention_scores)\n",
    "        x = self.gcn_layers[-1](torch.matmul(adj, x))\n",
    "        return x\n",
    "\n",
    "\n",
    "input_dim = features.shape[1]\n",
    "output_dim = 1  \n",
    "hidden_dim = 64\n",
    "num_epochs = 1000\n",
    "learning_rate = 0.01\n",
    "\n"
   ]
  },
  {
   "cell_type": "code",
   "execution_count": 10,
   "id": "78f6db33",
   "metadata": {},
   "outputs": [
    {
     "name": "stdout",
     "output_type": "stream",
     "text": [
      "Layer 1, Epoch 500, Loss: 20.953460693359375\n",
      "Layer 1, Epoch 1000, Loss: 20.461013793945312\n",
      "Layer 1, Epoch 1500, Loss: 20.420631408691406\n",
      "Layer 1, Epoch 2000, Loss: 20.41170310974121\n",
      "Layer 1, Epoch 2500, Loss: 20.407716751098633\n",
      "Layer 1, Epoch 3000, Loss: 20.405088424682617\n",
      "Layer 1, Test Loss: 20.54477882385254\n",
      "Layer 2, Epoch 500, Loss: 20.801067352294922\n",
      "Layer 2, Epoch 1000, Loss: 20.482215881347656\n",
      "Layer 2, Epoch 1500, Loss: 20.42363739013672\n",
      "Layer 2, Epoch 2000, Loss: 20.410938262939453\n",
      "Layer 2, Epoch 2500, Loss: 20.405954360961914\n",
      "Layer 2, Epoch 3000, Loss: 20.403596878051758\n",
      "Layer 2, Test Loss: 20.54331398010254\n",
      "Layer 3, Epoch 500, Loss: 20.419748306274414\n",
      "Layer 3, Epoch 1000, Loss: 20.406352996826172\n",
      "Layer 3, Epoch 1500, Loss: 20.404333114624023\n",
      "Layer 3, Epoch 2000, Loss: 20.403358459472656\n",
      "Layer 3, Epoch 2500, Loss: 20.40251350402832\n",
      "Layer 3, Epoch 3000, Loss: 20.402193069458008\n",
      "Layer 3, Test Loss: 20.5415096282959\n",
      "Layer 4, Epoch 500, Loss: 20.41258430480957\n",
      "Layer 4, Epoch 1000, Loss: 20.407499313354492\n",
      "Layer 4, Epoch 1500, Loss: 20.405309677124023\n",
      "Layer 4, Epoch 2000, Loss: 20.403717041015625\n",
      "Layer 4, Epoch 2500, Loss: 20.402677536010742\n",
      "Layer 4, Epoch 3000, Loss: 20.40266227722168\n",
      "Layer 4, Test Loss: 20.542402267456055\n",
      "Layer 5, Epoch 500, Loss: 20.41141700744629\n",
      "Layer 5, Epoch 1000, Loss: 20.406160354614258\n",
      "Layer 5, Epoch 1500, Loss: 20.404220581054688\n",
      "Layer 5, Epoch 2000, Loss: 20.40293312072754\n",
      "Layer 5, Epoch 2500, Loss: 20.402315139770508\n",
      "Layer 5, Epoch 3000, Loss: 20.40213966369629\n",
      "Layer 5, Test Loss: 20.54127311706543\n"
     ]
    }
   ],
   "source": [
    "for k in range(1, 6):\n",
    "    model = GCN(input_dim, hidden_dim, output_dim, num_layers=k)\n",
    "    criterion = nn.MSELoss()\n",
    "    optimizer = torch.optim.Adam(model.parameters(), lr=learning_rate)\n",
    "\n",
    "    for epoch in range(3000):\n",
    "        model.train()\n",
    "        optimizer.zero_grad()\n",
    "        outputs = model(features, A)\n",
    "        loss = criterion(outputs[train_indices], targets[train_indices])\n",
    "        loss.backward()\n",
    "        optimizer.step()\n",
    "\n",
    "        if (epoch + 1) % 500 == 0:\n",
    "            print(f\"Layer {k}, Epoch {epoch + 1}, Loss: {loss.item()}\")\n",
    "\n",
    "\n",
    "    model.eval()\n",
    "    with torch.no_grad():\n",
    "        test_outputs = model(features, A)\n",
    "        test_loss = criterion(outputs[test_indices], targets[test_indices])\n",
    "        print(f\"Layer {k}, Test Loss: {test_loss.item()}\")"
   ]
  },
  {
   "cell_type": "code",
   "execution_count": null,
   "id": "157e73ad",
   "metadata": {},
   "outputs": [],
   "source": []
  },
  {
   "cell_type": "code",
   "execution_count": 11,
   "id": "886ebb67",
   "metadata": {},
   "outputs": [],
   "source": [
    "def leave_one_out_cross_validation(features, adjacency_matrix, demand):\n",
    "    num_samples = len(features)\n",
    "    test_losses = []"
   ]
  },
  {
   "cell_type": "code",
   "execution_count": 14,
   "id": "d231890b",
   "metadata": {},
   "outputs": [],
   "source": [
    "leave_one_out_cross_validation(features, A, targets)"
   ]
  },
  {
   "cell_type": "code",
   "execution_count": null,
   "id": "2445a8f1",
   "metadata": {},
   "outputs": [],
   "source": []
  }
 ],
 "metadata": {
  "kernelspec": {
   "display_name": "Python 3 (ipykernel)",
   "language": "python",
   "name": "python3"
  },
  "language_info": {
   "codemirror_mode": {
    "name": "ipython",
    "version": 3
   },
   "file_extension": ".py",
   "mimetype": "text/x-python",
   "name": "python",
   "nbconvert_exporter": "python",
   "pygments_lexer": "ipython3",
   "version": "3.9.6"
  }
 },
 "nbformat": 4,
 "nbformat_minor": 5
}
