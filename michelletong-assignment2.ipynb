{
 "cells": [
  {
   "cell_type": "code",
   "execution_count": 1,
   "metadata": {},
   "outputs": [],
   "source": [
    "import numpy as np\n",
    "# from scipy.sparse import coo_matrix\n",
    "# import gzip\n",
    "import pickle\n",
    "import json\n",
    "import pandas as pd\n",
    "import networkx as nx\n",
    "import matplotlib.pyplot as plt\n",
    "# import itertools\n",
    "import torch\n",
    "# import torch_geometric as tg\n",
    "from torch_geometric.data import Data\n"
   ]
  },
  {
   "cell_type": "code",
   "execution_count": 2,
   "metadata": {},
   "outputs": [
    {
     "data": {
      "text/plain": [
       "array([[1, 0, 0, 0, 0, 0, 0, 0, 0, 0, 0, 0],\n",
       "       [0, 1, 0, 0, 0, 0, 0, 0, 0, 0, 0, 0],\n",
       "       [0, 0, 1, 0, 0, 0, 0, 0, 0, 0, 0, 0],\n",
       "       [1, 2, 0, 3, 0, 0, 0, 0, 0, 0, 0, 0],\n",
       "       [1, 0, 0, 2, 3, 0, 0, 0, 0, 0, 0, 0],\n",
       "       [0, 2, 0, 1, 0, 3, 0, 0, 0, 0, 0, 0],\n",
       "       [0, 0, 0, 0, 1, 2, 3, 0, 0, 0, 0, 0],\n",
       "       [0, 0, 2, 0, 0, 0, 1, 3, 0, 0, 0, 0],\n",
       "       [0, 0, 0, 0, 0, 0, 1, 2, 3, 0, 0, 0],\n",
       "       [0, 0, 2, 0, 0, 0, 0, 1, 0, 3, 0, 0],\n",
       "       [0, 0, 0, 1, 0, 0, 0, 2, 0, 0, 3, 0],\n",
       "       [0, 0, 0, 0, 0, 0, 0, 0, 1, 2, 0, 3],\n",
       "       [0, 0, 0, 0, 0, 0, 0, 0, 0, 0, 1, 0],\n",
       "       [0, 0, 0, 0, 0, 0, 0, 0, 0, 0, 0, 1]])"
      ]
     },
     "execution_count": 2,
     "metadata": {},
     "output_type": "execute_result"
    }
   ],
   "source": [
    "full_addr_im = pd.read_csv('Graph - Sheet3.csv', header=None)[1:].drop(columns = [0]).astype(int)\n",
    "full_addr_im = full_addr_im.to_numpy()\n",
    "np.savetxt(\"full_addr_im.csv\", full_addr_im,fmt=\"%d\", delimiter=\",\")\n",
    "full_addr_im"
   ]
  },
  {
   "cell_type": "code",
   "execution_count": 3,
   "metadata": {},
   "outputs": [
    {
     "data": {
      "text/plain": [
       "array([[0, 0, 0, 1, 1, 0, 0, 0, 0, 0, 0, 0, 0, 0],\n",
       "       [0, 0, 0, 1, 0, 1, 0, 0, 0, 0, 0, 0, 0, 0],\n",
       "       [0, 0, 0, 0, 0, 0, 0, 1, 0, 1, 0, 0, 0, 0],\n",
       "       [1, 1, 0, 0, 1, 1, 0, 0, 0, 0, 1, 0, 0, 0],\n",
       "       [1, 0, 0, 1, 0, 1, 1, 0, 0, 0, 1, 0, 0, 0],\n",
       "       [0, 1, 0, 1, 1, 0, 1, 0, 0, 0, 1, 0, 0, 0],\n",
       "       [0, 0, 0, 0, 1, 1, 0, 1, 1, 0, 0, 0, 0, 0],\n",
       "       [0, 0, 1, 0, 0, 0, 1, 0, 1, 1, 1, 0, 0, 0],\n",
       "       [0, 0, 0, 0, 0, 0, 1, 1, 0, 1, 1, 1, 0, 0],\n",
       "       [0, 0, 1, 0, 0, 0, 0, 1, 1, 0, 1, 1, 0, 0],\n",
       "       [0, 0, 0, 1, 1, 1, 0, 1, 1, 1, 0, 0, 1, 0],\n",
       "       [0, 0, 0, 0, 0, 0, 0, 0, 1, 1, 0, 0, 0, 1],\n",
       "       [0, 0, 0, 0, 0, 0, 0, 0, 0, 0, 1, 0, 0, 0],\n",
       "       [0, 0, 0, 0, 0, 0, 0, 0, 0, 0, 0, 1, 0, 0]])"
      ]
     },
     "execution_count": 3,
     "metadata": {},
     "output_type": "execute_result"
    }
   ],
   "source": [
    "full_addr_am = np.dot(full_addr_im, full_addr_im.T)\n",
    "full_addr_am = (full_addr_am > 0).astype(int) - np.eye(full_addr_am.shape[0]).astype(int)\n",
    "np.savetxt(\"full_addr_am.csv\", full_addr_am,fmt=\"%d\", delimiter=\",\")\n",
    "full_addr_am"
   ]
  },
  {
   "cell_type": "code",
   "execution_count": 4,
   "metadata": {},
   "outputs": [
    {
     "data": {
      "image/png": "[encoded data removed]",
      "text/plain": [
       "<Figure size 432x288 with 1 Axes>"
      ]
     },
     "metadata": {},
     "output_type": "display_data"
    },
    {
     "data": {
      "text/plain": [
       "<Figure size 720x720 with 0 Axes>"
      ]
     },
     "metadata": {},
     "output_type": "display_data"
    }
   ],
   "source": [
    "G = nx.from_numpy_matrix(np.array(full_addr_am))\n",
    "\n",
    "nodes_label = {}\n",
    "for i in range(full_addr_am.shape[0]):\n",
    "    nodes_label[i] = i+1\n",
    "G = nx.relabel_nodes(G, nodes_label) \n",
    "\n",
    "nx.draw(G, with_labels=True, node_color='skyblue', node_size=800, font_size=12, font_weight='bold', width=1, edge_color='gray', arrows=True, connectionstyle='arc3,rad=0.1')\n",
    "plt.title('Full Addr')\n",
    "plt.figure(figsize=(10,10))\n",
    "plt.show()"
   ]
  },
  {
   "cell_type": "code",
   "execution_count": 5,
   "metadata": {},
   "outputs": [],
   "source": [
    "# Convert the adjacency matrix to a torch tensor\n",
    "adj_tensor = torch.tensor(full_addr_am)\n",
    "\n",
    "# Extract non-zero indices from the adjacency matrix\n",
    "edge_indices = torch.nonzero(adj_tensor, as_tuple=False).t().contiguous()\n",
    "\n",
    "# Create the torch_geometric data object\n",
    "data = Data(edge_index=edge_indices)\n",
    "\n",
    "# Optionally, you can also assign node features (x) if available\n",
    "# data.x = torch.tensor(your_node_features)\n",
    "\n",
    "# Save the torch_geometric data object to a pickle file\n",
    "with open('full_addr_data.pkl', 'wb') as f:\n",
    "    pickle.dump(data, f)\n"
   ]
  },
  {
   "cell_type": "code",
   "execution_count": 6,
   "metadata": {},
   "outputs": [],
   "source": [
    "multi_bit_adr_im = pd.read_csv('Graph - multi_im.csv', header=None)[1:].drop(columns=[0])\n",
    "multi_bit_adr_im = multi_bit_adr_im.to_numpy()\n",
    "np.savetxt(\"multi_bit_adr_im.csv\", multi_bit_adr_im,fmt=\"%d\", delimiter=\",\")"
   ]
  },
  {
   "cell_type": "code",
   "execution_count": 7,
   "metadata": {},
   "outputs": [
    {
     "data": {
      "text/plain": [
       "array([[0, 0, 0, 1, 1, 0, 1, 1, 0, 0, 0, 0, 0, 0, 0, 0],\n",
       "       [0, 0, 0, 1, 1, 0, 1, 1, 0, 0, 0, 0, 0, 0, 0, 0],\n",
       "       [0, 0, 0, 0, 0, 1, 0, 0, 0, 1, 0, 0, 0, 0, 0, 0],\n",
       "       [1, 1, 0, 0, 1, 1, 0, 0, 0, 1, 0, 0, 0, 0, 0, 0],\n",
       "       [1, 1, 0, 1, 0, 0, 0, 0, 1, 0, 0, 0, 0, 0, 0, 0],\n",
       "       [0, 0, 1, 1, 0, 0, 0, 0, 1, 1, 0, 0, 0, 0, 0, 0],\n",
       "       [1, 1, 0, 0, 0, 0, 0, 1, 0, 0, 0, 0, 1, 0, 0, 0],\n",
       "       [1, 1, 0, 0, 0, 0, 1, 0, 0, 0, 1, 1, 0, 0, 0, 0],\n",
       "       [0, 0, 0, 0, 1, 1, 0, 0, 0, 0, 1, 1, 0, 0, 0, 0],\n",
       "       [0, 0, 1, 1, 0, 1, 0, 0, 0, 0, 0, 0, 0, 0, 0, 1],\n",
       "       [0, 0, 0, 0, 0, 0, 0, 1, 1, 0, 0, 1, 1, 0, 0, 0],\n",
       "       [0, 0, 0, 0, 0, 0, 0, 1, 1, 0, 1, 0, 0, 0, 1, 0],\n",
       "       [0, 0, 0, 0, 0, 0, 1, 0, 0, 0, 1, 0, 0, 1, 0, 0],\n",
       "       [0, 0, 0, 0, 0, 0, 0, 0, 0, 0, 0, 0, 1, 0, 0, 0],\n",
       "       [0, 0, 0, 0, 0, 0, 0, 0, 0, 0, 0, 1, 0, 0, 0, 0],\n",
       "       [0, 0, 0, 0, 0, 0, 0, 0, 0, 1, 0, 0, 0, 0, 0, 0]])"
      ]
     },
     "execution_count": 7,
     "metadata": {},
     "output_type": "execute_result"
    }
   ],
   "source": [
    "multi_bit_adr_am = np.dot(multi_bit_adr_im, multi_bit_adr_im.T)\n",
    "multi_bit_adr_am = (multi_bit_adr_am > 0).astype(int) - np.eye(multi_bit_adr_am.shape[0]).astype(int)\n",
    "np.savetxt(\"multi_bit_adr_am.csv\", multi_bit_adr_am,fmt=\"%d\", delimiter=\",\")\n",
    "multi_bit_adr_am"
   ]
  },
  {
   "cell_type": "code",
   "execution_count": 8,
   "metadata": {},
   "outputs": [
    {
     "data": {
      "image/png": "[encoded data removed]",
      "text/plain": [
       "<Figure size 432x288 with 1 Axes>"
      ]
     },
     "metadata": {},
     "output_type": "display_data"
    }
   ],
   "source": [
    "G = nx.from_numpy_matrix(np.array(multi_bit_adr_am))\n",
    "\n",
    "nodes_label = {}\n",
    "for i in range(multi_bit_adr_am.shape[0]):\n",
    "    nodes_label[i] = i+1\n",
    "G = nx.relabel_nodes(G, nodes_label) \n",
    "\n",
    "nx.draw(G, with_labels=True, node_color='skyblue', node_size=500, font_size=12, font_weight='bold', width=1, edge_color='gray', arrows=True, connectionstyle='arc3,rad=0.1')\n",
    "plt.title('Multi-bit Adr')\n",
    "plt.show()"
   ]
  },
  {
   "cell_type": "code",
   "execution_count": 9,
   "metadata": {},
   "outputs": [],
   "source": [
    "# Convert the adjacency matrix to a torch tensor\n",
    "adj_tensor = torch.tensor(multi_bit_adr_am)\n",
    "\n",
    "# Extract non-zero indices from the adjacency matrix\n",
    "edge_indices = torch.nonzero(adj_tensor, as_tuple=False).t().contiguous()\n",
    "\n",
    "# Create the torch_geometric data object\n",
    "data = Data(edge_index=edge_indices)\n",
    "\n",
    "# Optionally, you can also assign node features (x) if available\n",
    "# data.x = torch.tensor(your_node_features)\n",
    "\n",
    "# Save the torch_geometric data object to a pickle file\n",
    "with open('multi_bit_adr.pkl', 'wb') as f:\n",
    "    pickle.dump(data, f)"
   ]
  },
  {
   "cell_type": "markdown",
   "metadata": {},
   "source": [
    "### Below are Task 2 Brainstorming code."
   ]
  },
  {
   "cell_type": "code",
   "execution_count": 10,
   "metadata": {},
   "outputs": [
    {
     "data": {
      "text/plain": [
       "{('x', 'a'): 3.0,\n",
       " ('x', 'b'): 1.0,\n",
       " ('a', 'c'): 3.0,\n",
       " ('b', 'c'): 5.0,\n",
       " ('b', 'd'): 4.0,\n",
       " ('c', 'y'): 2.0,\n",
       " ('d', 'e'): 2.0,\n",
       " ('e', 'y'): 3.0}"
      ]
     },
     "metadata": {},
     "output_type": "display_data"
    },
    {
     "data": {
      "image/png": "[encoded data removed]",
      "text/plain": [
       "<Figure size 432x288 with 1 Axes>"
      ]
     },
     "metadata": {},
     "output_type": "display_data"
    },
    {
     "data": {
      "text/plain": [
       "<Figure size 720x720 with 0 Axes>"
      ]
     },
     "metadata": {},
     "output_type": "display_data"
    },
    {
     "data": {
      "text/plain": [
       "{('x', 'a'): 3.0,\n",
       " ('x', 'b'): 1.0,\n",
       " ('a', 'x'): 0,\n",
       " ('a', 'c'): 3.0,\n",
       " ('b', 'x'): 0,\n",
       " ('b', 'c'): 5.0,\n",
       " ('b', 'd'): 4.0,\n",
       " ('c', 'a'): 0,\n",
       " ('c', 'b'): 0,\n",
       " ('c', 'y'): 2.0,\n",
       " ('d', 'b'): 0,\n",
       " ('d', 'e'): 2.0,\n",
       " ('e', 'd'): 0,\n",
       " ('e', 'y'): 3.0,\n",
       " ('y', 'c'): 0,\n",
       " ('y', 'e'): 0}"
      ]
     },
     "metadata": {},
     "output_type": "display_data"
    },
    {
     "data": {
      "text/plain": [
       "3.0"
      ]
     },
     "execution_count": 10,
     "metadata": {},
     "output_type": "execute_result"
    },
    {
     "data": {
      "image/png": "[encoded data removed]",
      "text/plain": [
       "<Figure size 432x288 with 1 Axes>"
      ]
     },
     "metadata": {},
     "output_type": "display_data"
    }
   ],
   "source": [
    "from networkx.algorithms.flow import edmonds_karp\n",
    "G = nx.DiGraph()\n",
    "G.add_edge(\"x\", \"a\", capacity=3.0)\n",
    "G.add_edge(\"x\", \"b\", capacity=1.0)\n",
    "G.add_edge(\"a\", \"c\", capacity=3.0)\n",
    "G.add_edge(\"b\", \"c\", capacity=5.0)\n",
    "G.add_edge(\"b\", \"d\", capacity=4.0)\n",
    "G.add_edge(\"d\", \"e\", capacity=2.0)\n",
    "G.add_edge(\"c\", \"y\", capacity=2.0)\n",
    "G.add_edge(\"e\", \"y\", capacity=3.0)\n",
    "\n",
    "R = edmonds_karp(G, \"x\", \"y\")\n",
    "\n",
    "pos = nx.spring_layout(G)\n",
    "G_labels = nx.get_edge_attributes(G,'capacity')\n",
    "display(G_labels)\n",
    "nx.draw(G, pos,  with_labels = True, node_color='skyblue', node_size=500, font_size=12, font_weight='bold', width=1, edge_color='gray', arrows=True)\n",
    "nx.draw_networkx_edge_labels(G, pos, edge_labels=G_labels)\n",
    "\n",
    "plt.title('Edmonds_Karp')\n",
    "plt.figure(figsize=(10,10))\n",
    "plt.show()\n",
    "\n",
    "R_1 = nx.MultiDiGraph(R, directed=True)\n",
    "nx.draw(R_1, pos, with_labels = True)\n",
    "R_labels = nx.get_edge_attributes(R,'capacity')\n",
    "display(R_labels)\n",
    "nx.draw_networkx_edge_labels(R, pos, edge_labels=R_labels)\n",
    "\n",
    "flow_value = nx.maximum_flow_value(G, \"x\", \"y\")\n",
    "flow_value"
   ]
  },
  {
   "cell_type": "code",
   "execution_count": 11,
   "metadata": {},
   "outputs": [
    {
     "name": "stdout",
     "output_type": "stream",
     "text": [
      "Maximum Flow: 1\n"
     ]
    },
    {
     "data": {
      "image/png": "[encoded data removed]",
      "text/plain": [
       "<Figure size 432x288 with 1 Axes>"
      ]
     },
     "metadata": {},
     "output_type": "display_data"
    }
   ],
   "source": [
    "import networkx as nx\n",
    "\n",
    "def edmonds_karp_adjacency_matrix(adj_matrix, source, sink):\n",
    "    \"\"\"\n",
    "    Compute maximum flow using Edmonds-Karp algorithm on an adjacency matrix representation of a graph.\n",
    "    \n",
    "    Parameters:\n",
    "        adj_matrix (list of lists): Adjacency matrix representing the graph.\n",
    "        source (int): Source node.\n",
    "        sink (int): Sink (target) node.\n",
    "        \n",
    "    Returns:\n",
    "        max_flow_value (int): Maximum flow value.\n",
    "    \"\"\"\n",
    "    # Convert adjacency matrix to a NetworkX graph\n",
    "    graph = nx.DiGraph()\n",
    "    num_nodes = len(adj_matrix)\n",
    "    for i in range(num_nodes):\n",
    "        for j in range(num_nodes):\n",
    "            if adj_matrix[i][j] > 0:\n",
    "                graph.add_edge(i, j, capacity=adj_matrix[i][j])\n",
    "    \n",
    "    nx.draw(graph)\n",
    "    # Compute maximum flow using Edmonds-Karp algorithm\n",
    "    max_flow_value, _ = nx.maximum_flow(graph, source, sink)\n",
    "    \n",
    "    return max_flow_value\n",
    "\n",
    "# Example usage:\n",
    "# Define an adjacency matrix representing the graph with capacities\n",
    "adj_matrix = full_addr_am\n",
    "\n",
    "source_node = 0\n",
    "sink_node = 13\n",
    "\n",
    "# Compute maximum flow using Edmonds-Karp algorithm on the adjacency matrix\n",
    "max_flow_value = edmonds_karp_adjacency_matrix(adj_matrix, source_node, sink_node)\n",
    "\n",
    "print(\"Maximum Flow:\", max_flow_value)\n",
    "\n"
   ]
  },
  {
   "cell_type": "code",
   "execution_count": 12,
   "metadata": {},
   "outputs": [],
   "source": [
    "\"\"\"\n",
    "Edmonds-Karp algorithm for maximum flow problems.\n",
    "\"\"\"\n",
    "\n",
    "import networkx as nx\n",
    "from networkx.algorithms.flow.utils import build_residual_network\n",
    "\n",
    "__all__ = [\"edmonds_karp\"]\n",
    "\n",
    "\n",
    "def edmonds_karp_core(R, s, t, cutoff):\n",
    "    \"\"\"Implementation of the Edmonds-Karp algorithm.\"\"\"\n",
    "    R_nodes = R.nodes\n",
    "    R_pred = R.pred\n",
    "    R_succ = R.succ\n",
    "\n",
    "    inf = R.graph[\"inf\"]\n",
    "\n",
    "    def augment(path):\n",
    "        \"\"\"Augment flow along a path from s to t.\"\"\"\n",
    "        # Determine the path residual capacity.\n",
    "        flow = inf\n",
    "        it = iter(path)\n",
    "        u = next(it)\n",
    "        for v in it:\n",
    "            attr = R_succ[u][v]\n",
    "            flow = min(flow, attr[\"capacity\"] - attr[\"flow\"])\n",
    "            u = v\n",
    "        if flow * 2 > inf:\n",
    "            raise nx.NetworkXUnbounded(\"Infinite capacity path, flow unbounded above.\")\n",
    "        # Augment flow along the path.\n",
    "        it = iter(path)\n",
    "        u = next(it)\n",
    "        for v in it:\n",
    "            R_succ[u][v][\"flow\"] += flow\n",
    "            R_succ[v][u][\"flow\"] -= flow\n",
    "            u = v\n",
    "        return flow\n",
    "\n",
    "    def bidirectional_bfs():\n",
    "        \"\"\"Bidirectional breadth-first search for an augmenting path.\"\"\"\n",
    "        pred = {s: None}\n",
    "        q_s = [s]\n",
    "        succ = {t: None}\n",
    "        q_t = [t]\n",
    "        while True:\n",
    "            q = []\n",
    "            if len(q_s) <= len(q_t):\n",
    "                for u in q_s:\n",
    "                    for v, attr in R_succ[u].items():\n",
    "                        if v not in pred and attr[\"flow\"] < attr[\"capacity\"]:\n",
    "                            pred[v] = u\n",
    "                            if v in succ:\n",
    "                                return v, pred, succ\n",
    "                            q.append(v)\n",
    "                if not q:\n",
    "                    return None, None, None\n",
    "                q_s = q\n",
    "            else:\n",
    "                for u in q_t:\n",
    "                    for v, attr in R_pred[u].items():\n",
    "                        if v not in succ and attr[\"flow\"] < attr[\"capacity\"]:\n",
    "                            succ[v] = u\n",
    "                            if v in pred:\n",
    "                                return v, pred, succ\n",
    "                            q.append(v)\n",
    "                if not q:\n",
    "                    return None, None, None\n",
    "                q_t = q\n",
    "\n",
    "    # Look for shortest augmenting paths using breadth-first search.\n",
    "    flow_value = 0\n",
    "    while flow_value < cutoff:\n",
    "        v, pred, succ = bidirectional_bfs()\n",
    "        if pred is None:\n",
    "            break\n",
    "        path = [v]\n",
    "        # Trace a path from s to v.\n",
    "        u = v\n",
    "        while u != s:\n",
    "            u = pred[u]\n",
    "            path.append(u)\n",
    "        path.reverse()\n",
    "        # Trace a path from v to t.\n",
    "        u = v\n",
    "        while u != t:\n",
    "            u = succ[u]\n",
    "            path.append(u)\n",
    "        flow_value += augment(path)\n",
    "\n",
    "    return flow_value\n",
    "\n",
    "\n",
    "def edmonds_karp_impl(G, s, t, capacity, residual, cutoff):\n",
    "    \"\"\"Implementation of the Edmonds-Karp algorithm.\"\"\"\n",
    "    if s not in G:\n",
    "        raise nx.NetworkXError(f\"node {str(s)} not in graph\")\n",
    "    if t not in G:\n",
    "        raise nx.NetworkXError(f\"node {str(t)} not in graph\")\n",
    "    if s == t:\n",
    "        raise nx.NetworkXError(\"source and sink are the same node\")\n",
    "\n",
    "    if residual is None:\n",
    "        R = build_residual_network(G, capacity)\n",
    "    else:\n",
    "        R = residual\n",
    "\n",
    "    # Initialize/reset the residual network.\n",
    "    for u in R:\n",
    "        for e in R[u].values():\n",
    "            e[\"flow\"] = 0\n",
    "\n",
    "    if cutoff is None:\n",
    "        cutoff = float(\"inf\")\n",
    "    R.graph[\"flow_value\"] = edmonds_karp_core(R, s, t, cutoff)\n",
    "\n",
    "    return R"
   ]
  },
  {
   "cell_type": "code",
   "execution_count": 13,
   "metadata": {},
   "outputs": [],
   "source": [
    "def edmonds_karp(\n",
    "    G, s, t, capacity=\"capacity\", residual=None, value_only=False, cutoff=None\n",
    "):\n",
    "    \"\"\"Find a maximum single-commodity flow using the Edmonds-Karp algorithm.\n",
    "\n",
    "    This function returns the residual network resulting after computing\n",
    "    the maximum flow. See below for details about the conventions\n",
    "    NetworkX uses for defining residual networks.\n",
    "\n",
    "    This algorithm has a running time of $O(n m^2)$ for $n$ nodes and $m$\n",
    "    edges.\n",
    "\n",
    "\n",
    "    Parameters\n",
    "    ----------\n",
    "    G : NetworkX graph\n",
    "        Edges of the graph are expected to have an attribute called\n",
    "        'capacity'. If this attribute is not present, the edge is\n",
    "        considered to have infinite capacity.\n",
    "\n",
    "    s : node\n",
    "        Source node for the flow.\n",
    "\n",
    "    t : node\n",
    "        Sink node for the flow.\n",
    "\n",
    "    capacity : string\n",
    "        Edges of the graph G are expected to have an attribute capacity\n",
    "        that indicates how much flow the edge can support. If this\n",
    "        attribute is not present, the edge is considered to have\n",
    "        infinite capacity. Default value: 'capacity'.\n",
    "\n",
    "    residual : NetworkX graph\n",
    "        Residual network on which the algorithm is to be executed. If None, a\n",
    "        new residual network is created. Default value: None.\n",
    "\n",
    "    value_only : bool\n",
    "        If True compute only the value of the maximum flow. This parameter\n",
    "        will be ignored by this algorithm because it is not applicable.\n",
    "\n",
    "    cutoff : integer, float\n",
    "        If specified, the algorithm will terminate when the flow value reaches\n",
    "        or exceeds the cutoff. In this case, it may be unable to immediately\n",
    "        determine a minimum cut. Default value: None.\n",
    "\n",
    "    Returns\n",
    "    -------\n",
    "    R : NetworkX DiGraph\n",
    "        Residual network after computing the maximum flow.\n",
    "\n",
    "    Raises\n",
    "    ------\n",
    "    NetworkXError\n",
    "        The algorithm does not support MultiGraph and MultiDiGraph. If\n",
    "        the input graph is an instance of one of these two classes, a\n",
    "        NetworkXError is raised.\n",
    "\n",
    "    NetworkXUnbounded\n",
    "        If the graph has a path of infinite capacity, the value of a\n",
    "        feasible flow on the graph is unbounded above and the function\n",
    "        raises a NetworkXUnbounded.\n",
    "\n",
    "    See also\n",
    "    --------\n",
    "    :meth:`maximum_flow`\n",
    "    :meth:`minimum_cut`\n",
    "    :meth:`preflow_push`\n",
    "    :meth:`shortest_augmenting_path`\n",
    "\n",
    "    Notes\n",
    "    -----\n",
    "    The residual network :samp:`R` from an input graph :samp:`G` has the\n",
    "    same nodes as :samp:`G`. :samp:`R` is a DiGraph that contains a pair\n",
    "    of edges :samp:`(u, v)` and :samp:`(v, u)` iff :samp:`(u, v)` is not a\n",
    "    self-loop, and at least one of :samp:`(u, v)` and :samp:`(v, u)` exists\n",
    "    in :samp:`G`.\n",
    "\n",
    "    For each edge :samp:`(u, v)` in :samp:`R`, :samp:`R[u][v]['capacity']`\n",
    "    is equal to the capacity of :samp:`(u, v)` in :samp:`G` if it exists\n",
    "    in :samp:`G` or zero otherwise. If the capacity is infinite,\n",
    "    :samp:`R[u][v]['capacity']` will have a high arbitrary finite value\n",
    "    that does not affect the solution of the problem. This value is stored in\n",
    "    :samp:`R.graph['inf']`. For each edge :samp:`(u, v)` in :samp:`R`,\n",
    "    :samp:`R[u][v]['flow']` represents the flow function of :samp:`(u, v)` and\n",
    "    satisfies :samp:`R[u][v]['flow'] == -R[v][u]['flow']`.\n",
    "\n",
    "    The flow value, defined as the total flow into :samp:`t`, the sink, is\n",
    "    stored in :samp:`R.graph['flow_value']`. If :samp:`cutoff` is not\n",
    "    specified, reachability to :samp:`t` using only edges :samp:`(u, v)` such\n",
    "    that :samp:`R[u][v]['flow'] < R[u][v]['capacity']` induces a minimum\n",
    "    :samp:`s`-:samp:`t` cut.\n",
    "\n",
    "    Examples\n",
    "    --------\n",
    "    >>> from networkx.algorithms.flow import edmonds_karp\n",
    "\n",
    "    The functions that implement flow algorithms and output a residual\n",
    "    network, such as this one, are not imported to the base NetworkX\n",
    "    namespace, so you have to explicitly import them from the flow package.\n",
    "\n",
    "    >>> G = nx.DiGraph()\n",
    "    >>> G.add_edge(\"x\", \"a\", capacity=3.0)\n",
    "    >>> G.add_edge(\"x\", \"b\", capacity=1.0)\n",
    "    >>> G.add_edge(\"a\", \"c\", capacity=3.0)\n",
    "    >>> G.add_edge(\"b\", \"c\", capacity=5.0)\n",
    "    >>> G.add_edge(\"b\", \"d\", capacity=4.0)\n",
    "    >>> G.add_edge(\"d\", \"e\", capacity=2.0)\n",
    "    >>> G.add_edge(\"c\", \"y\", capacity=2.0)\n",
    "    >>> G.add_edge(\"e\", \"y\", capacity=3.0)\n",
    "    >>> R = edmonds_karp(G, \"x\", \"y\")\n",
    "    >>> flow_value = nx.maximum_flow_value(G, \"x\", \"y\")\n",
    "    >>> flow_value\n",
    "    3.0\n",
    "    >>> flow_value == R.graph[\"flow_value\"]\n",
    "    True\n",
    "\n",
    "    \"\"\"\n",
    "    R = edmonds_karp_impl(G, s, t, capacity, residual, cutoff)\n",
    "    R.graph[\"algorithm\"] = \"edmonds_karp\"\n",
    "    return R"
   ]
  },
  {
   "cell_type": "code",
   "execution_count": 14,
   "metadata": {},
   "outputs": [],
   "source": [
    "# def multilayered_graph(G,*subset_sizes):\n",
    "#     extents = nx.utils.pairwise(itertools.accumulate((0,) + subset_sizes))\n",
    "#     layers = [range(start, end) for start, end in extents]\n",
    "#     # G = nx.from_numpy_matrix(full_addr.values)\n",
    "#     for i, layer in enumerate(layers):\n",
    "#         G.add_nodes_from(layer, layer=i)\n",
    "#     return G\n",
    "\n",
    "# nodes_label = {}\n",
    "# for i in range(full_addr_am.shape[0]):\n",
    "#     nodes_label[i] = i+1\n",
    "\n",
    "# subset_sizes = [3,9,2]\n",
    "\n",
    "# G = multilayered_graph(nx.from_numpy_matrix(full_addr_am),*subset_sizes)\n",
    "# G = nx.relabel_nodes(G, nodes_label)\n",
    "# # color = [subset_color[data[\"layer\"]] for v, data in G.nodes(data=True)]\n",
    "# pos = nx.multipartite_layout(G, subset_key=\"layer\")\n",
    "# plt.figure(figsize=(5,10))\n",
    "# nx.draw(G, pos, with_labels=True)\n",
    "# plt.axis(\"equal\")\n",
    "# plt.title('Full Addr')\n",
    "# plt.show()"
   ]
  },
  {
   "cell_type": "code",
   "execution_count": 15,
   "metadata": {},
   "outputs": [],
   "source": [
    "# # Opening JSON file\n",
    "# with gzip.open('RosettaStone-GraphData-2023-09-22/superblue1/superblue1.json.gz','rb') as f:\n",
    "#     design = json.loads(f.read().decode('utf-8'))\n",
    "\n",
    "# design"
   ]
  },
  {
   "cell_type": "code",
   "execution_count": 16,
   "metadata": {},
   "outputs": [
    {
     "data": {
      "text/plain": [
       "[{'name': 'nand',\n",
       "  'id': 0,\n",
       "  'width': 2000,\n",
       "  'height': 3000,\n",
       "  'terms': [{'name': 'a', 'id': 0, 'dir': 0, 'xloc': 666, 'yloc': 0},\n",
       "   {'name': 'b', 'id': 1, 'dir': 0, 'xloc': 1333, 'yloc': 0},\n",
       "   {'name': 'out', 'id': 3, 'dir': 1, 'xloc': 1000, 'yloc': 3000}]},\n",
       " {'name': 'and',\n",
       "  'id': 1,\n",
       "  'width': 4000,\n",
       "  'height': 3500,\n",
       "  'terms': [{'name': 'a', 'id': 4, 'dir': 0, 'xloc': 1333, 'yloc': 0},\n",
       "   {'name': 'b', 'id': 5, 'dir': 0, 'xloc': 2666, 'yloc': 0},\n",
       "   {'name': 'out', 'id': 6, 'dir': 1, 'xloc': 2000, 'yloc': 3500}]},\n",
       " {'name': 'or',\n",
       "  'id': 2,\n",
       "  'width': 3750,\n",
       "  'height': 3750,\n",
       "  'terms': [{'name': 'a', 'id': 7, 'dir': 0, 'xloc': 1250, 'yloc': 0},\n",
       "   {'name': 'b', 'id': 8, 'dir': 0, 'xloc': 2500, 'yloc': 0},\n",
       "   {'name': 'out', 'id': 9, 'dir': 1, 'xloc': 1875, 'yloc': 3750}]},\n",
       " {'name': 'xor',\n",
       "  'id': 3,\n",
       "  'width': 8000,\n",
       "  'height': 12000,\n",
       "  'terms': [{'name': 'a', 'id': 10, 'dir': 0, 'xloc': 2666, 'yloc': 0},\n",
       "   {'name': 'b', 'id': 11, 'dir': 0, 'xloc': 5333, 'yloc': 0},\n",
       "   {'name': 'out', 'id': 12, 'dir': 1, 'xloc': 4000, 'yloc': 12000}]},\n",
       " {'name': 'inv',\n",
       "  'id': 4,\n",
       "  'width': 2200,\n",
       "  'height': 3100,\n",
       "  'terms': [{'name': 'a', 'id': 13, 'dir': 0, 'xloc': 733, 'yloc': 0},\n",
       "   {'name': 'out', 'id': 14, 'dir': 1, 'xloc': 1100, 'yloc': 3100}]},\n",
       " {'name': 'OUTPUT',\n",
       "  'id': 5,\n",
       "  'width': 12000,\n",
       "  'height': 5000,\n",
       "  'terms': [{'name': 'out', 'id': 13, 'dir': 1, 'xloc': 6000, 'yloc': 5000}]},\n",
       " {'name': 'INPUT_a',\n",
       "  'id': 6,\n",
       "  'width': 12000,\n",
       "  'height': 5000,\n",
       "  'terms': [{'name': 'a', 'id': 13, 'dir': 0, 'xloc': 4000, 'yloc': 0}]},\n",
       " {'name': 'INPUT_b',\n",
       "  'id': 7,\n",
       "  'width': 12000,\n",
       "  'height': 5000,\n",
       "  'terms': [{'name': 'b', 'id': 13, 'dir': 0, 'xloc': 8000, 'yloc': 0}]},\n",
       " {'name': 'INPUT_carry',\n",
       "  'id': 8,\n",
       "  'width': 12000,\n",
       "  'height': 5000,\n",
       "  'terms': [{'name': 'c', 'id': 13, 'dir': 1, 'xloc': 6000, 'yloc': 5000}]},\n",
       " {'name': 'INPUT',\n",
       "  'id': 9,\n",
       "  'width': 1200,\n",
       "  'height': 800,\n",
       "  'terms': [{'name': 'a0', 'id': 14, 'dir': 1, 'xloc': 400, 'yloc': 800},\n",
       "   {'name': 'a1', 'id': 14, 'dir': 1, 'xloc': 800, 'yloc': 800}]}]"
      ]
     },
     "execution_count": 16,
     "metadata": {},
     "output_type": "execute_result"
    }
   ],
   "source": [
    "# Opening JSON file\n",
    "f = open('small_circuit_data/cells.json')\n",
    " \n",
    "# returns JSON object as \n",
    "# a dictionary\n",
    "cells_data = json.load(f)\n",
    "cells_data"
   ]
  },
  {
   "cell_type": "code",
   "execution_count": 17,
   "metadata": {},
   "outputs": [
    {
     "data": {
      "text/plain": [
       "{'instances': [{'name': 'INPUT_a',\n",
       "   'id': 0,\n",
       "   'xloc': -1,\n",
       "   'yloc': -1,\n",
       "   'cell': 6,\n",
       "   'orient': 3},\n",
       "  {'name': 'INPUT_b', 'id': 1, 'xloc': -1, 'yloc': -1, 'cell': 7, 'orient': 2},\n",
       "  {'name': 'INPUT_carry',\n",
       "   'id': 2,\n",
       "   'xloc': -1,\n",
       "   'yloc': -1,\n",
       "   'cell': 8,\n",
       "   'orient': 1},\n",
       "  {'name': 'OUTPUT', 'id': 3, 'xloc': -1, 'yloc': -1, 'cell': 5, 'orient': 2},\n",
       "  {'name': 'OUTPUT', 'id': 4, 'xloc': -1, 'yloc': -1, 'cell': 5, 'orient': 1},\n",
       "  {'name': 'nand', 'id': 5, 'xloc': -1, 'yloc': -1, 'cell': 0, 'orient': 1},\n",
       "  {'name': 'nand', 'id': 6, 'xloc': -1, 'yloc': -1, 'cell': 0, 'orient': 6},\n",
       "  {'name': 'nand', 'id': 7, 'xloc': -1, 'yloc': -1, 'cell': 0, 'orient': 4},\n",
       "  {'name': 'nand', 'id': 8, 'xloc': -1, 'yloc': -1, 'cell': 0, 'orient': 0},\n",
       "  {'name': 'nand', 'id': 9, 'xloc': -1, 'yloc': -1, 'cell': 0, 'orient': 0},\n",
       "  {'name': 'nand', 'id': 10, 'xloc': -1, 'yloc': -1, 'cell': 0, 'orient': 4},\n",
       "  {'name': 'nand', 'id': 11, 'xloc': -1, 'yloc': -1, 'cell': 0, 'orient': 4},\n",
       "  {'name': 'nand', 'id': 12, 'xloc': -1, 'yloc': -1, 'cell': 0, 'orient': 2},\n",
       "  {'name': 'nand', 'id': 13, 'xloc': -1, 'yloc': -1, 'cell': 0, 'orient': 0}],\n",
       " 'nets': [{'name': 'net_0', 'id': 0},\n",
       "  {'name': 'net_1', 'id': 1},\n",
       "  {'name': 'net_2', 'id': 2},\n",
       "  {'name': 'net_3', 'id': 3},\n",
       "  {'name': 'net_4', 'id': 4},\n",
       "  {'name': 'net_5', 'id': 5},\n",
       "  {'name': 'net_6', 'id': 6},\n",
       "  {'name': 'net_7', 'id': 7},\n",
       "  {'name': 'net_8', 'id': 8},\n",
       "  {'name': 'net_9', 'id': 9},\n",
       "  {'name': 'net_10', 'id': 10},\n",
       "  {'name': 'net_11', 'id': 11},\n",
       "  {'name': 'net_12', 'id': 12}]}"
      ]
     },
     "execution_count": 17,
     "metadata": {},
     "output_type": "execute_result"
    }
   ],
   "source": [
    "# Opening JSON file\n",
    "f = open('small_circuit_data/full_addr.json')\n",
    " \n",
    "# returns JSON object as \n",
    "# a dictionary\n",
    "full_addr_data = json.load(f)\n",
    "instances = full_addr_data['instances']\n",
    "nets = full_addr_data['nets']\n",
    "full_addr_data"
   ]
  },
  {
   "cell_type": "code",
   "execution_count": 18,
   "metadata": {},
   "outputs": [],
   "source": [
    "# num_nets = len(full_addr_data['nets'])\n",
    "# num_inst = len(full_addr_data['instances'])\n",
    "# tmp = np.zeros((num_inst,num_nets))\n",
    "# for i in range(num_nets):\n",
    "#     for j in range(num_inst):\n",
    "#         print(tmp)\n",
    "#         tmp[j][i] = cells_data[full_addr_data['instances'][j]['cell']]['terms'][i-1]['id']\n",
    "\n"
   ]
  },
  {
   "cell_type": "code",
   "execution_count": 19,
   "metadata": {},
   "outputs": [],
   "source": [
    "# cells_data[full_addr_data['instances'][1]['cell']]['terms'][0]"
   ]
  },
  {
   "cell_type": "code",
   "execution_count": 20,
   "metadata": {},
   "outputs": [],
   "source": [
    "# full_addr_im[1][1]"
   ]
  },
  {
   "cell_type": "code",
   "execution_count": 21,
   "metadata": {},
   "outputs": [],
   "source": [
    "# full_addr_im"
   ]
  },
  {
   "cell_type": "code",
   "execution_count": null,
   "metadata": {},
   "outputs": [],
   "source": []
  }
 ],
 "metadata": {
  "kernelspec": {
   "display_name": "base",
   "language": "python",
   "name": "python3"
  },
  "language_info": {
   "codemirror_mode": {
    "name": "ipython",
    "version": 3
   },
   "file_extension": ".py",
   "mimetype": "text/x-python",
   "name": "python",
   "nbconvert_exporter": "python",
   "pygments_lexer": "ipython3",
   "version": "3.9.7"
  },
  "orig_nbformat": 4
 },
 "nbformat": 4,
 "nbformat_minor": 2
}
