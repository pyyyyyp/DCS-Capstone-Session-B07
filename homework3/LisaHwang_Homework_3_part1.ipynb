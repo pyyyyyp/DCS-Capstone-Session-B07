{
 "cells": [
  {
   "cell_type": "markdown",
   "metadata": {},
   "source": [
    "## 1.1"
   ]
  },
  {
   "cell_type": "markdown",
   "metadata": {},
   "source": [
    "[0 1/2 1/2 0\n",
    "1/2 0 1/2 0\n",
    "1/3 1/3 0 1/3\n",
    "0 0 1 0]"
   ]
  },
  {
   "cell_type": "markdown",
   "metadata": {},
   "source": [
    "## 1.2"
   ]
  },
  {
   "cell_type": "code",
   "execution_count": 1,
   "metadata": {},
   "outputs": [],
   "source": [
    "import numpy as np\n",
    "\n",
    "P = np.array([[0, 1/2, 1/2, 0],\n",
    "              [1/2, 0, 1/2, 0],\n",
    "              [1/3, 1/3, 0, 1/3],\n",
    "              [0, 0, 1, 0]])\n",
    "\n",
    "eigenvalues, eigenvectors = np.linalg.eig(P)"
   ]
  },
  {
   "cell_type": "code",
   "execution_count": 2,
   "metadata": {},
   "outputs": [
    {
     "name": "stdout",
     "output_type": "stream",
     "text": [
      "[[0.25]\n",
      " [0.25]\n",
      " [0.25]\n",
      " [0.25]]\n"
     ]
    }
   ],
   "source": [
    "eigenvector_for_1 = eigenvectors[:, np.isclose(eigenvalues, 1)]  # Locate the eigenvector for eigenvalue 1\n",
    "normalized_eigenvector = eigenvector_for_1 / np.sum(eigenvector_for_1)  # Normalize the eigenvector\n",
    "\n",
    "# Print the normalized eigenvector\n",
    "print(normalized_eigenvector)"
   ]
  },
  {
   "cell_type": "markdown",
   "metadata": {},
   "source": [
    "## 2"
   ]
  },
  {
   "cell_type": "markdown",
   "metadata": {},
   "source": [
    "Transition matrix is the inverse of the degree matrix D and the adjacency matrix A"
   ]
  },
  {
   "cell_type": "markdown",
   "metadata": {},
   "source": [
    "P = (M)^-1A"
   ]
  },
  {
   "cell_type": "markdown",
   "metadata": {},
   "source": []
  }
 ],
 "metadata": {
  "interpreter": {
   "hash": "690cf5439abac397a7a092cd64e6e605b431e3292baa175258c5e15794f18b99"
  },
  "kernelspec": {
   "display_name": "Python 3.8.12 ('dsc80')",
   "language": "python",
   "name": "python3"
  },
  "language_info": {
   "codemirror_mode": {
    "name": "ipython",
    "version": 3
   },
   "file_extension": ".py",
   "mimetype": "text/x-python",
   "name": "python",
   "nbconvert_exporter": "python",
   "pygments_lexer": "ipython3",
   "version": "3.8.12"
  },
  "orig_nbformat": 4
 },
 "nbformat": 4,
 "nbformat_minor": 2
}
