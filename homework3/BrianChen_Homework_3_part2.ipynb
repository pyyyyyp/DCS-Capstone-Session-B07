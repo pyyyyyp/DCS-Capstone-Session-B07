{
 "cells": [
  {
   "cell_type": "markdown",
   "metadata": {
    "id": "kPt5q27L5557"
   },
   "source": [
    "## node2vec"
   ]
  },
  {
   "cell_type": "markdown",
   "metadata": {
    "id": "p0-YhEpP_Ds-"
   },
   "source": [
    "### Setup"
   ]
  },
  {
   "cell_type": "markdown",
   "metadata": {
    "id": "82kmj9fIVlq0"
   },
   "source": [
    "First of all, we install and import necessary libraries such as the node2vec.\n",
    "\n",
    "If you are curious to learn how to implement fast random walks on graphs, I recommend you to [read the blog post](https://urldefense.com/v3/__https://www.singlelunch.com/2019/08/01/700x-faster-node2vec-models-fastest-random-walks-on-a-graph/__;!!Mih3wA!B2WV_JE4yDq_EwsDj5TjJL-RAJwdlomcx5r291eot8VZTV1ryfsZWij9RMk_DiaWeTN7Y510rs6gaNnwc0W004I$ ) which explains some of the design choices behind this library."
   ]
  },
  {
   "cell_type": "code",
   "execution_count": 1,
   "metadata": {
    "id": "QiIPtudrGlTf",
    "vscode": {
     "languageId": "python"
    }
   },
   "outputs": [],
   "source": [
    "from node2vec import Node2Vec\n",
    "import networkx as nx"
   ]
  },
  {
   "cell_type": "markdown",
   "metadata": {
    "id": "qwtlO4_m_LbQ"
   },
   "source": [
    "Lastly, let's import some of the common libraries needed for our task."
   ]
  },
  {
   "cell_type": "code",
   "execution_count": 2,
   "metadata": {
    "id": "twk-K-jilWK7",
    "vscode": {
     "languageId": "python"
    }
   },
   "outputs": [],
   "source": [
    "import pandas as pd\n",
    "import numpy as np\n",
    "import matplotlib.pyplot as plt\n",
    "%matplotlib inline"
   ]
  },
  {
   "cell_type": "markdown",
   "metadata": {
    "id": "kAYRX2PMm0L6"
   },
   "source": [
    "### Example"
   ]
  },
  {
   "cell_type": "code",
   "execution_count": 3,
   "metadata": {},
   "outputs": [
    {
     "data": {
      "text/plain": [
       "\"Name: Zachary's Karate Club\\nType: Graph\\nNumber of nodes: 34\\nNumber of edges: 78\\nAverage degree:   4.5882\""
      ]
     },
     "execution_count": 3,
     "metadata": {},
     "output_type": "execute_result"
    }
   ],
   "source": [
    "# Load the Zachary's Karate Club as a NetworkX Graph object\n",
    "KCG = nx.karate_club_graph()\n",
    "nx.info(KCG)"
   ]
  },
  {
   "cell_type": "code",
   "execution_count": 4,
   "metadata": {
    "id": "2PsVt5f2CsmP",
    "vscode": {
     "languageId": "python"
    }
   },
   "outputs": [
    {
     "data": {
      "application/vnd.jupyter.widget-view+json": {
       "model_id": "28c805ac3a274d84b261412dc3466cc6",
       "version_major": 2,
       "version_minor": 0
      },
      "text/plain": [
       "Computing transition probabilities:   0%|          | 0/34 [00:00<?, ?it/s]"
      ]
     },
     "metadata": {},
     "output_type": "display_data"
    }
   ],
   "source": [
    "# Fit embedding model to the Karate Club graph\n",
    "node2vec = Node2Vec(KCG, dimensions=128, walk_length=40, num_walks=100, workers=2)\n",
    "n2v = node2vec.fit(window=10, min_count=1)"
   ]
  },
  {
   "cell_type": "markdown",
   "metadata": {},
   "source": [
    "### Your Task"
   ]
  },
  {
   "cell_type": "markdown",
   "metadata": {},
   "source": [
    "Create a small wrapper class which will expose only the few hyperparameters you will need to tune the Node2Vec"
   ]
  },
  {
   "cell_type": "code",
   "execution_count": 5,
   "metadata": {},
   "outputs": [],
   "source": [
    "# YOUR CODE HERE\n",
    "\n",
    "class node2vecWrapper:\n",
    "    def __init__(self, graph, d, p=1, q=1):\n",
    "        self.node2vecObject = Node2Vec(graph, dimensions=d, walk_length=40, num_walks=100, workers=8, p=p, q=q)\n",
    "    def fit(self):\n",
    "        n2v = self.node2vecObject.fit(window=10, min_count=1)\n",
    "        return n2v"
   ]
  },
  {
   "cell_type": "markdown",
   "metadata": {},
   "source": [
    "Construct a pandas dataframe with the 2D embeddings from node2vec, plus the club name that each node belongs to after the split."
   ]
  },
  {
   "cell_type": "code",
   "execution_count": 6,
   "metadata": {
    "id": "ZEjzhwEiC1HD",
    "vscode": {
     "languageId": "python"
    }
   },
   "outputs": [
    {
     "data": {
      "application/vnd.jupyter.widget-view+json": {
       "model_id": "bf97434fb99d463f967425430a3497c9",
       "version_major": 2,
       "version_minor": 0
      },
      "text/plain": [
       "Computing transition probabilities:   0%|          | 0/34 [00:00<?, ?it/s]"
      ]
     },
     "metadata": {},
     "output_type": "display_data"
    },
    {
     "data": {
      "text/html": [
       "<div>\n",
       "<style scoped>\n",
       "    .dataframe tbody tr th:only-of-type {\n",
       "        vertical-align: middle;\n",
       "    }\n",
       "\n",
       "    .dataframe tbody tr th {\n",
       "        vertical-align: top;\n",
       "    }\n",
       "\n",
       "    .dataframe thead th {\n",
       "        text-align: right;\n",
       "    }\n",
       "</style>\n",
       "<table border=\"1\" class=\"dataframe\">\n",
       "  <thead>\n",
       "    <tr style=\"text-align: right;\">\n",
       "      <th></th>\n",
       "      <th>x</th>\n",
       "      <th>y</th>\n",
       "      <th>club</th>\n",
       "    </tr>\n",
       "  </thead>\n",
       "  <tbody>\n",
       "    <tr>\n",
       "      <th>0</th>\n",
       "      <td>-0.783424</td>\n",
       "      <td>0.695735</td>\n",
       "      <td>Mr. Hi</td>\n",
       "    </tr>\n",
       "    <tr>\n",
       "      <th>1</th>\n",
       "      <td>-0.807787</td>\n",
       "      <td>0.411011</td>\n",
       "      <td>Mr. Hi</td>\n",
       "    </tr>\n",
       "    <tr>\n",
       "      <th>2</th>\n",
       "      <td>-0.844743</td>\n",
       "      <td>0.111714</td>\n",
       "      <td>Mr. Hi</td>\n",
       "    </tr>\n",
       "    <tr>\n",
       "      <th>3</th>\n",
       "      <td>-0.786651</td>\n",
       "      <td>0.485567</td>\n",
       "      <td>Mr. Hi</td>\n",
       "    </tr>\n",
       "    <tr>\n",
       "      <th>4</th>\n",
       "      <td>-0.781667</td>\n",
       "      <td>1.181429</td>\n",
       "      <td>Mr. Hi</td>\n",
       "    </tr>\n",
       "    <tr>\n",
       "      <th>5</th>\n",
       "      <td>-0.775917</td>\n",
       "      <td>1.280196</td>\n",
       "      <td>Mr. Hi</td>\n",
       "    </tr>\n",
       "    <tr>\n",
       "      <th>6</th>\n",
       "      <td>-0.760954</td>\n",
       "      <td>1.233366</td>\n",
       "      <td>Mr. Hi</td>\n",
       "    </tr>\n",
       "    <tr>\n",
       "      <th>7</th>\n",
       "      <td>-0.785962</td>\n",
       "      <td>0.494649</td>\n",
       "      <td>Mr. Hi</td>\n",
       "    </tr>\n",
       "    <tr>\n",
       "      <th>8</th>\n",
       "      <td>-0.857294</td>\n",
       "      <td>0.022068</td>\n",
       "      <td>Mr. Hi</td>\n",
       "    </tr>\n",
       "    <tr>\n",
       "      <th>9</th>\n",
       "      <td>-0.874736</td>\n",
       "      <td>-0.101987</td>\n",
       "      <td>Officer</td>\n",
       "    </tr>\n",
       "    <tr>\n",
       "      <th>10</th>\n",
       "      <td>-0.776065</td>\n",
       "      <td>1.129832</td>\n",
       "      <td>Mr. Hi</td>\n",
       "    </tr>\n",
       "    <tr>\n",
       "      <th>11</th>\n",
       "      <td>-0.777882</td>\n",
       "      <td>0.803346</td>\n",
       "      <td>Mr. Hi</td>\n",
       "    </tr>\n",
       "    <tr>\n",
       "      <th>12</th>\n",
       "      <td>-0.761430</td>\n",
       "      <td>0.683373</td>\n",
       "      <td>Mr. Hi</td>\n",
       "    </tr>\n",
       "    <tr>\n",
       "      <th>13</th>\n",
       "      <td>-0.802464</td>\n",
       "      <td>0.331512</td>\n",
       "      <td>Mr. Hi</td>\n",
       "    </tr>\n",
       "    <tr>\n",
       "      <th>14</th>\n",
       "      <td>-0.937935</td>\n",
       "      <td>-0.351068</td>\n",
       "      <td>Officer</td>\n",
       "    </tr>\n",
       "    <tr>\n",
       "      <th>15</th>\n",
       "      <td>-0.945860</td>\n",
       "      <td>-0.365632</td>\n",
       "      <td>Officer</td>\n",
       "    </tr>\n",
       "    <tr>\n",
       "      <th>16</th>\n",
       "      <td>-0.782574</td>\n",
       "      <td>1.407789</td>\n",
       "      <td>Mr. Hi</td>\n",
       "    </tr>\n",
       "    <tr>\n",
       "      <th>17</th>\n",
       "      <td>-0.768138</td>\n",
       "      <td>0.683399</td>\n",
       "      <td>Mr. Hi</td>\n",
       "    </tr>\n",
       "    <tr>\n",
       "      <th>18</th>\n",
       "      <td>-0.937215</td>\n",
       "      <td>-0.336136</td>\n",
       "      <td>Officer</td>\n",
       "    </tr>\n",
       "    <tr>\n",
       "      <th>19</th>\n",
       "      <td>-0.811402</td>\n",
       "      <td>0.332948</td>\n",
       "      <td>Mr. Hi</td>\n",
       "    </tr>\n",
       "    <tr>\n",
       "      <th>20</th>\n",
       "      <td>-0.934930</td>\n",
       "      <td>-0.324355</td>\n",
       "      <td>Officer</td>\n",
       "    </tr>\n",
       "    <tr>\n",
       "      <th>21</th>\n",
       "      <td>-0.776229</td>\n",
       "      <td>0.578843</td>\n",
       "      <td>Mr. Hi</td>\n",
       "    </tr>\n",
       "    <tr>\n",
       "      <th>22</th>\n",
       "      <td>-0.969322</td>\n",
       "      <td>-0.441275</td>\n",
       "      <td>Officer</td>\n",
       "    </tr>\n",
       "    <tr>\n",
       "      <th>23</th>\n",
       "      <td>-1.012299</td>\n",
       "      <td>-0.610128</td>\n",
       "      <td>Officer</td>\n",
       "    </tr>\n",
       "    <tr>\n",
       "      <th>24</th>\n",
       "      <td>-0.950613</td>\n",
       "      <td>-0.399493</td>\n",
       "      <td>Officer</td>\n",
       "    </tr>\n",
       "    <tr>\n",
       "      <th>25</th>\n",
       "      <td>-1.030523</td>\n",
       "      <td>-0.650211</td>\n",
       "      <td>Officer</td>\n",
       "    </tr>\n",
       "    <tr>\n",
       "      <th>26</th>\n",
       "      <td>-0.997764</td>\n",
       "      <td>-0.556351</td>\n",
       "      <td>Officer</td>\n",
       "    </tr>\n",
       "    <tr>\n",
       "      <th>27</th>\n",
       "      <td>-0.933946</td>\n",
       "      <td>-0.289195</td>\n",
       "      <td>Officer</td>\n",
       "    </tr>\n",
       "    <tr>\n",
       "      <th>28</th>\n",
       "      <td>-0.900038</td>\n",
       "      <td>-0.163738</td>\n",
       "      <td>Officer</td>\n",
       "    </tr>\n",
       "    <tr>\n",
       "      <th>29</th>\n",
       "      <td>-1.020722</td>\n",
       "      <td>-0.593600</td>\n",
       "      <td>Officer</td>\n",
       "    </tr>\n",
       "    <tr>\n",
       "      <th>30</th>\n",
       "      <td>-0.882940</td>\n",
       "      <td>-0.076732</td>\n",
       "      <td>Officer</td>\n",
       "    </tr>\n",
       "    <tr>\n",
       "      <th>31</th>\n",
       "      <td>-0.918698</td>\n",
       "      <td>-0.259456</td>\n",
       "      <td>Officer</td>\n",
       "    </tr>\n",
       "    <tr>\n",
       "      <th>32</th>\n",
       "      <td>-0.944259</td>\n",
       "      <td>-0.315215</td>\n",
       "      <td>Officer</td>\n",
       "    </tr>\n",
       "    <tr>\n",
       "      <th>33</th>\n",
       "      <td>-0.948668</td>\n",
       "      <td>-0.361825</td>\n",
       "      <td>Officer</td>\n",
       "    </tr>\n",
       "  </tbody>\n",
       "</table>\n",
       "</div>"
      ],
      "text/plain": [
       "           x         y     club\n",
       "0  -0.783424  0.695735   Mr. Hi\n",
       "1  -0.807787  0.411011   Mr. Hi\n",
       "2  -0.844743  0.111714   Mr. Hi\n",
       "3  -0.786651  0.485567   Mr. Hi\n",
       "4  -0.781667  1.181429   Mr. Hi\n",
       "5  -0.775917  1.280196   Mr. Hi\n",
       "6  -0.760954  1.233366   Mr. Hi\n",
       "7  -0.785962  0.494649   Mr. Hi\n",
       "8  -0.857294  0.022068   Mr. Hi\n",
       "9  -0.874736 -0.101987  Officer\n",
       "10 -0.776065  1.129832   Mr. Hi\n",
       "11 -0.777882  0.803346   Mr. Hi\n",
       "12 -0.761430  0.683373   Mr. Hi\n",
       "13 -0.802464  0.331512   Mr. Hi\n",
       "14 -0.937935 -0.351068  Officer\n",
       "15 -0.945860 -0.365632  Officer\n",
       "16 -0.782574  1.407789   Mr. Hi\n",
       "17 -0.768138  0.683399   Mr. Hi\n",
       "18 -0.937215 -0.336136  Officer\n",
       "19 -0.811402  0.332948   Mr. Hi\n",
       "20 -0.934930 -0.324355  Officer\n",
       "21 -0.776229  0.578843   Mr. Hi\n",
       "22 -0.969322 -0.441275  Officer\n",
       "23 -1.012299 -0.610128  Officer\n",
       "24 -0.950613 -0.399493  Officer\n",
       "25 -1.030523 -0.650211  Officer\n",
       "26 -0.997764 -0.556351  Officer\n",
       "27 -0.933946 -0.289195  Officer\n",
       "28 -0.900038 -0.163738  Officer\n",
       "29 -1.020722 -0.593600  Officer\n",
       "30 -0.882940 -0.076732  Officer\n",
       "31 -0.918698 -0.259456  Officer\n",
       "32 -0.944259 -0.315215  Officer\n",
       "33 -0.948668 -0.361825  Officer"
      ]
     },
     "execution_count": 6,
     "metadata": {},
     "output_type": "execute_result"
    }
   ],
   "source": [
    "# YOUR CODE HERE\n",
    "\n",
    "#node2vec = Node2Vec(KCG, dimensions=2, walk_length=40, num_walks=100, workers=2)\n",
    "#n2v = node2vec.fit(window=10, min_count=1)\n",
    "n2v = node2vecWrapper(KCG, 2).fit()\n",
    "#embeddings = n2v.wv.vectors\n",
    "\n",
    "embeddings = np.array([n2v.wv[str(node)] for node in range(len(KCG))])\n",
    "\n",
    "df = pd.DataFrame(embeddings, columns=['x', 'y'])\n",
    "\n",
    "#KCG.nodes(data=True)\n",
    "\n",
    "club_dict = nx.get_node_attributes(KCG, 'club')\n",
    "clubs = []\n",
    "for key, value in club_dict.items():\n",
    "    clubs.append(value)\n",
    "    \n",
    "#clubs\n",
    "\n",
    "df['club'] = clubs\n",
    "df"
   ]
  },
  {
   "cell_type": "markdown",
   "metadata": {},
   "source": [
    "Nodes who stayed with the Mr. Hi will be plotted in red, while nodes who moved with the Officer will be plotted in blue"
   ]
  },
  {
   "cell_type": "code",
   "execution_count": 7,
   "metadata": {
    "id": "fJBTilMGLInb",
    "vscode": {
     "languageId": "python"
    }
   },
   "outputs": [
    {
     "data": {
      "image/png": "[encoded data removed]",
      "text/plain": [
       "<Figure size 432x288 with 1 Axes>"
      ]
     },
     "metadata": {
      "needs_background": "light"
     },
     "output_type": "display_data"
    }
   ],
   "source": [
    "# YOUR CODE HERE\n",
    "#ax = df.plt.scatter(x='x',\n",
    "#                      y='y', color = \"club\")\n",
    "\n",
    "hi = df[df['club'] == 'Mr. Hi']\n",
    "officer = df[df['club'] == 'Officer']\n",
    "\n",
    "\n",
    "plt.scatter(hi.x, hi.y, c='red')\n",
    "plt.scatter(officer.x, officer.y, c='blue')\n",
    "\n",
    "\n",
    "plt.show()"
   ]
  },
  {
   "cell_type": "markdown",
   "metadata": {
    "id": "e6vmpmj6Ylph"
   },
   "source": [
    "If your example trained correctly, you should notice a clear separation between the blue and red nodes.  Solely from the graph structure, node2vec could predict how the Zachary's Karate Club split!\n",
    "\n",
    "Tune the hyperparameters ```p``` and ```q```, and notice how they affect the resulting embeddings."
   ]
  },
  {
   "cell_type": "markdown",
   "metadata": {
    "id": "x15OQeyys1xd"
   },
   "source": [
    "Now you will study the behavior of node2vec on [barbell graphs](https://urldefense.com/v3/__https://en.wikipedia.org/wiki/Barbell_graph).*5Cn__;JQ!!Mih3wA!B2WV_JE4yDq_EwsDj5TjJL-RAJwdlomcx5r291eot8VZTV1ryfsZWij9RMk_DiaWeTN7Y510rs6gaNnwExmD03w$ \n",
    "Below you can see a toy example of a barbell graph generated with NetworkX."
   ]
  },
  {
   "cell_type": "code",
   "execution_count": 8,
   "metadata": {
    "id": "xUYxs4E8aHgG",
    "vscode": {
     "languageId": "python"
    }
   },
   "outputs": [
    {
     "data": {
      "image/png": "[encoded data removed]",
      "text/plain": [
       "<Figure size 432x288 with 1 Axes>"
      ]
     },
     "metadata": {},
     "output_type": "display_data"
    }
   ],
   "source": [
    "toy_barbell = nx.barbell_graph(7, 0)\n",
    "nx.draw_kamada_kawai(toy_barbell)"
   ]
  },
  {
   "cell_type": "markdown",
   "metadata": {
    "id": "G7K3-57FyD8D"
   },
   "source": [
    "\n",
    "\n",
    "\n",
    "Generate a larger barbell graph, where each complete graph has exactly 1000 nodes, and the path length between the complete graphs is equal to 1 (i.e., all the nodes in the barbell graph belong to either one of the two complete graphs, and the connecting path does not have any internal node).\n",
    "\n",
    "Then, learn node2vec embeddings on this graph, setting ```p = 1, q = 1``` and ```d = 10```."
   ]
  },
  {
   "cell_type": "code",
   "execution_count": null,
   "metadata": {
    "id": "k_rmp-SvaIOt",
    "vscode": {
     "languageId": "python"
    }
   },
   "outputs": [
    {
     "data": {
      "application/vnd.jupyter.widget-view+json": {
       "model_id": "0bfc379ef3f1494b9c87db2ab557f175",
       "version_major": 2,
       "version_minor": 0
      },
      "text/plain": [
       "Computing transition probabilities:   0%|          | 0/2001 [00:00<?, ?it/s]"
      ]
     },
     "metadata": {},
     "output_type": "display_data"
    },
    {
     "name": "stderr",
     "output_type": "stream",
     "text": [
      "/Users/brianchen/opt/anaconda3/lib/python3.8/site-packages/joblib/externals/loky/process_executor.py:752: UserWarning: A worker stopped while some jobs were given to the executor. This can be caused by a too short worker timeout or by a memory leak.\n",
      "  warnings.warn(\n"
     ]
    }
   ],
   "source": [
    "# YOUR CODE HERE\n",
    "onek_barbell = nx.barbell_graph(1000, 1)\n",
    "n2v = node2vecWrapper(onek_barbell, 10).fit()"
   ]
  },
  {
   "cell_type": "markdown",
   "metadata": {
    "id": "fyxZBVwhzLQe"
   },
   "source": [
    "Write a function that takes as input a node id ```n``` in the graph (e.g., ```5```) and returns a list containing the cosine similarity between the node2vec vector of the input node ```n``` and all the nodes in the given barbell graph (including the similarity with ```n``` itself)."
   ]
  },
  {
   "cell_type": "code",
   "execution_count": 14,
   "metadata": {
    "id": "aq7advtkjXSp",
    "vscode": {
     "languageId": "python"
    }
   },
   "outputs": [],
   "source": [
    "# YOUR CODE HERE\n",
    "def cosine_similarities(n):\n",
    "    focus_node = n2v.wv[str(n)]\n",
    "    similarities = []\n",
    "    for node in range(len(onek_barbell)):\n",
    "        other_node = n2v.wv[str(node)]\n",
    "        similarity = np.dot(focus_node, other_node)/(norm(focus_node)*norm(other_node))\n",
    "        similarities.append(similarity)\n",
    "    return similarities"
   ]
  },
  {
   "cell_type": "markdown",
   "metadata": {
    "id": "zw1oNDDD2dZO"
   },
   "source": [
    "Generate another barbell graph, this time adding a path of length 51 between the two complete graphs. To find out how, refer to the NetworkX documentation: [https://urldefense.com/v3/__https://networkx.github.io/documentation/stable/reference/generated/networkx.generators.classic.barbell_graph.html*networkx.generators.classic.barbell_graph*(https:/*networkx.github.io/documentation/stable/reference/generated/networkx.generators.classic.barbell_graph.html*networkx.generators.classic.barbell_graph)*5Cn__;I10vIyU!!Mih3wA!B2WV_JE4yDq_EwsDj5TjJL-RAJwdlomcx5r291eot8VZTV1ryfsZWij9RMk_DiaWeTN7Y510rs6gaNnwuMKMPO4$ \n",
    "Learn the node2vec embeddings for the nodes of this new graph, using the same hyperparameters as before."
   ]
  },
  {
   "cell_type": "code",
   "execution_count": null,
   "metadata": {
    "id": "OlPg6k6z65Gk",
    "vscode": {
     "languageId": "python"
    }
   },
   "outputs": [],
   "source": [
    "# YOUR CODE HERE\n",
    "onek_barbell_fiftyone = nx.barbell_graph(1000, 51)\n",
    "n2v = node2vecWrapper(onek_barbell, 10).fit()"
   ]
  }
 ],
 "metadata": {
  "kernelspec": {
   "display_name": "Python 3",
   "language": "python",
   "name": "python3"
  },
  "language_info": {
   "codemirror_mode": {
    "name": "ipython",
    "version": 3
   },
   "file_extension": ".py",
   "mimetype": "text/x-python",
   "name": "python",
   "nbconvert_exporter": "python",
   "pygments_lexer": "ipython3",
   "version": "3.8.5"
  }
 },
 "nbformat": 4,
 "nbformat_minor": 1
}
