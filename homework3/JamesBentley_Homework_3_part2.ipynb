{
 "cells": [
  {
   "cell_type": "markdown",
   "metadata": {
    "id": "kPt5q27L5557"
   },
   "source": [
    "## node2vec"
   ]
  },
  {
   "cell_type": "markdown",
   "metadata": {
    "id": "p0-YhEpP_Ds-"
   },
   "source": [
    "### Setup"
   ]
  },
  {
   "cell_type": "markdown",
   "metadata": {
    "id": "82kmj9fIVlq0"
   },
   "source": [
    "First of all, we install and import necessary libraries such as the node2vec.\n",
    "\n",
    "If you are curious to learn how to implement fast random walks on graphs, I recommend you to [read the blog post](https://urldefense.com/v3/__https://www.singlelunch.com/2019/08/01/700x-faster-node2vec-models-fastest-random-walks-on-a-graph/__;!!Mih3wA!B5yQ0EMVO83h9sfY4d2FF1j_B1ZwkLTm7iWbrV6Rwo_zpnNcmXTltIQ_gFgLlLF-ImNu-FAKdSEANLJemVG5X9s$ ) which explains some of the design choices behind this library."
   ]
  },
  {
   "cell_type": "code",
   "execution_count": 1,
   "metadata": {
    "id": "QiIPtudrGlTf",
    "vscode": {
     "languageId": "python"
    }
   },
   "outputs": [],
   "source": [
    "from node2vec import Node2Vec\n",
    "import networkx as nx"
   ]
  },
  {
   "cell_type": "markdown",
   "metadata": {
    "id": "qwtlO4_m_LbQ"
   },
   "source": [
    "Lastly, let's import some of the common libraries needed for our task."
   ]
  },
  {
   "cell_type": "code",
   "execution_count": 2,
   "metadata": {
    "id": "twk-K-jilWK7",
    "vscode": {
     "languageId": "python"
    }
   },
   "outputs": [],
   "source": [
    "import pandas as pd\n",
    "import numpy as np\n",
    "import matplotlib.pyplot as plt\n",
    "%matplotlib inline"
   ]
  },
  {
   "cell_type": "markdown",
   "metadata": {
    "id": "kAYRX2PMm0L6"
   },
   "source": [
    "### Example"
   ]
  },
  {
   "cell_type": "code",
   "execution_count": 3,
   "metadata": {},
   "outputs": [
    {
     "name": "stderr",
     "output_type": "stream",
     "text": [
      "C:\\Users\\Jimmy\\AppData\\Local\\Temp\\ipykernel_3904\\282083699.py:3: DeprecationWarning: info is deprecated and will be removed in version 3.0.\n",
      "\n",
      "  nx.info(KCG)\n"
     ]
    },
    {
     "data": {
      "text/plain": [
       "'Graph named \"Zachary\\'s Karate Club\" with 34 nodes and 78 edges'"
      ]
     },
     "execution_count": 3,
     "metadata": {},
     "output_type": "execute_result"
    }
   ],
   "source": [
    "# Load the Zachary's Karate Club as a NetworkX Graph object\n",
    "KCG = nx.karate_club_graph()\n",
    "nx.info(KCG)"
   ]
  },
  {
   "cell_type": "code",
   "execution_count": 4,
   "metadata": {
    "id": "2PsVt5f2CsmP",
    "vscode": {
     "languageId": "python"
    }
   },
   "outputs": [
    {
     "data": {
      "application/vnd.jupyter.widget-view+json": {
       "model_id": "fa874b77e7034fe7aebf20ecc00a5f01",
       "version_major": 2,
       "version_minor": 0
      },
      "text/plain": [
       "Computing transition probabilities:   0%|          | 0/34 [00:00<?, ?it/s]"
      ]
     },
     "metadata": {},
     "output_type": "display_data"
    }
   ],
   "source": [
    "# Fit embedding model to the Karate Club graph\n",
    "node2vec = Node2Vec(KCG, dimensions=128, walk_length=40, num_walks=100, workers=2)\n",
    "n2v = node2vec.fit(window=10, min_count=1)"
   ]
  },
  {
   "cell_type": "markdown",
   "metadata": {},
   "source": [
    "### Your Task"
   ]
  },
  {
   "cell_type": "markdown",
   "metadata": {},
   "source": [
    "Create a small wrapper class which will expose only the few hyperparameters you will need to tune the Node2Vec"
   ]
  },
  {
   "cell_type": "code",
   "execution_count": 5,
   "metadata": {},
   "outputs": [],
   "source": [
    "# YOUR CODE HERE\n",
    "class Node2Vec_Simplified():\n",
    "    def __init__(self, G, dimensions, walk_length, num_walks, workers): \n",
    "        self.G = G\n",
    "        self.dimensions = dimensions\n",
    "        self.walk_length = walk_length\n",
    "        self.num_walks = num_walks\n",
    "        self.workers = workers\n",
    "    \n",
    "    def fit(self, window, min_count):\n",
    "        node2vec = Node2Vec(self.G, dimensions=self.dimensions, walk_length=self.walk_length, num_walks=self.num_walks, workers=self.workers)\n",
    "        n2v = node2vec.fit(window=window, min_count=min_count)\n",
    "        return n2v"
   ]
  },
  {
   "cell_type": "code",
   "execution_count": 6,
   "metadata": {},
   "outputs": [
    {
     "data": {
      "application/vnd.jupyter.widget-view+json": {
       "model_id": "cdb5423aef354fc599da20193dfa643e",
       "version_major": 2,
       "version_minor": 0
      },
      "text/plain": [
       "Computing transition probabilities:   0%|          | 0/34 [00:00<?, ?it/s]"
      ]
     },
     "metadata": {},
     "output_type": "display_data"
    }
   ],
   "source": [
    "my_node2vec = Node2Vec_Simplified(KCG, dimensions=2, walk_length=40, num_walks=100, workers=2)\n",
    "my_n2v = my_node2vec.fit(window=10, min_count=1)"
   ]
  },
  {
   "cell_type": "markdown",
   "metadata": {},
   "source": [
    "Construct a pandas dataframe with the 2D embeddings from node2vec, plus the club name that each node belongs to after the split."
   ]
  },
  {
   "cell_type": "code",
   "execution_count": 7,
   "metadata": {},
   "outputs": [],
   "source": [
    "clubs = [KCG.nodes[node]['club'] for node in KCG.nodes]"
   ]
  },
  {
   "cell_type": "code",
   "execution_count": 8,
   "metadata": {
    "id": "ZEjzhwEiC1HD",
    "vscode": {
     "languageId": "python"
    }
   },
   "outputs": [],
   "source": [
    "# YOUR CODE HERE\n",
    "embeddings = [my_n2v.wv[str(node)] for node in KCG.nodes]\n",
    "\n",
    "embeddings = [[xy[0], xy[1], club] for xy, club in zip(embeddings, clubs)]\n",
    "df = pd.DataFrame(embeddings, columns=['x', 'y', 'club'])"
   ]
  },
  {
   "cell_type": "markdown",
   "metadata": {},
   "source": [
    "Nodes who stayed with the Mr. Hi will be plotted in red, while nodes who moved with the Officer will be plotted in blue"
   ]
  },
  {
   "cell_type": "code",
   "execution_count": 9,
   "metadata": {
    "id": "fJBTilMGLInb",
    "vscode": {
     "languageId": "python"
    }
   },
   "outputs": [
    {
     "data": {
      "image/png": "[encoded data removed]",
      "text/plain": [
       "<Figure size 432x288 with 1 Axes>"
      ]
     },
     "metadata": {
      "needs_background": "light"
     },
     "output_type": "display_data"
    }
   ],
   "source": [
    "# YOUR CODE HERE\n",
    "cmap = {'Mr. Hi': 'Red', 'Officer': 'Blue'}\n",
    "colors = df['club'].map(cmap)\n",
    "scatter = plt.scatter(x=df['x'], y=df['y'], c=colors)"
   ]
  },
  {
   "cell_type": "markdown",
   "metadata": {
    "id": "e6vmpmj6Ylph"
   },
   "source": [
    "If your example trained correctly, you should notice a clear separation between the blue and red nodes.  Solely from the graph structure, node2vec could predict how the Zachary's Karate Club split!\n",
    "\n",
    "Tune the hyperparameters ```p``` and ```q```, and notice how they affect the resulting embeddings."
   ]
  },
  {
   "cell_type": "markdown",
   "metadata": {
    "id": "x15OQeyys1xd"
   },
   "source": [
    "Now you will study the behavior of node2vec on [barbell graphs](https://urldefense.com/v3/__https://en.wikipedia.org/wiki/Barbell_graph).*5Cn__;JQ!!Mih3wA!B5yQ0EMVO83h9sfY4d2FF1j_B1ZwkLTm7iWbrV6Rwo_zpnNcmXTltIQ_gFgLlLF-ImNu-FAKdSEANLJeQaXHpm4$ \n",
    "Below you can see a toy example of a barbell graph generated with NetworkX."
   ]
  },
  {
   "cell_type": "code",
   "execution_count": 10,
   "metadata": {
    "id": "xUYxs4E8aHgG",
    "vscode": {
     "languageId": "python"
    }
   },
   "outputs": [
    {
     "data": {
      "image/png": "[encoded data removed]",
      "text/plain": [
       "<Figure size 432x288 with 1 Axes>"
      ]
     },
     "metadata": {},
     "output_type": "display_data"
    }
   ],
   "source": [
    "toy_barbell = nx.barbell_graph(7, 0)\n",
    "nx.draw_kamada_kawai(toy_barbell)"
   ]
  },
  {
   "cell_type": "markdown",
   "metadata": {
    "id": "G7K3-57FyD8D"
   },
   "source": [
    "\n",
    "\n",
    "\n",
    "Generate a larger barbell graph, where each complete graph has exactly 1000 nodes, and the path length between the complete graphs is equal to 1 (i.e., all the nodes in the barbell graph belong to either one of the two complete graphs, and the connecting path does not have any internal node).\n",
    "\n",
    "Then, learn node2vec embeddings on this graph, setting ```p = 1, q = 1``` and ```d = 10```."
   ]
  },
  {
   "cell_type": "code",
   "execution_count": 11,
   "metadata": {
    "id": "k_rmp-SvaIOt",
    "vscode": {
     "languageId": "python"
    }
   },
   "outputs": [
    {
     "data": {
      "application/vnd.jupyter.widget-view+json": {
       "model_id": "63c375178f744452b8fd7b5a5c6928b4",
       "version_major": 2,
       "version_minor": 0
      },
      "text/plain": [
       "Computing transition probabilities:   0%|          | 0/500 [00:00<?, ?it/s]"
      ]
     },
     "metadata": {},
     "output_type": "display_data"
    }
   ],
   "source": [
    "# YOUR CODE HERE\n",
    "# 250 on each complete graph, entire graph has 500 nodes\n",
    "large_barbell = nx.barbell_graph(250, 0)\n",
    "n2v = Node2Vec_Simplified(large_barbell, dimensions=10, walk_length=1, num_walks=1, workers=2)\n",
    "n2v_fitted = n2v.fit(window=10, min_count=1)"
   ]
  },
  {
   "cell_type": "markdown",
   "metadata": {
    "id": "fyxZBVwhzLQe"
   },
   "source": [
    "Write a function that takes as input a node id ```n``` in the graph (e.g., ```5```) and returns a list containing the cosine similarity between the node2vec vector of the input node ```n``` and all the nodes in the given barbell graph (including the similarity with ```n``` itself)."
   ]
  },
  {
   "cell_type": "code",
   "execution_count": 12,
   "metadata": {
    "id": "aq7advtkjXSp",
    "vscode": {
     "languageId": "python"
    }
   },
   "outputs": [],
   "source": [
    "# YOUR CODE HERE\n",
    "def cosine_sim(n):\n",
    "    out = []\n",
    "    input_node = n2v_fitted.wv[str(n)]\n",
    "    for node in large_barbell.nodes:\n",
    "        vec = n2v_fitted.wv[str(node)]\n",
    "        out.append(input_node.dot(vec) / (np.linalg.norm(input_node) * np.linalg.norm(vec)))\n",
    "    return out"
   ]
  },
  {
   "cell_type": "code",
   "execution_count": 13,
   "metadata": {},
   "outputs": [
    {
     "data": {
      "text/plain": [
       "[-0.17579457,\n",
       " 0.40291193,\n",
       " -0.3618329,\n",
       " -0.25968125,\n",
       " -0.0392071,\n",
       " 0.99999994,\n",
       " 0.11540449,\n",
       " -0.0925399,\n",
       " 0.8358799,\n",
       " 0.440113,\n",
       " 0.52186877,\n",
       " -0.0057969023,\n",
       " -0.37430182,\n",
       " 0.25116193,\n",
       " -0.30881596,\n",
       " 0.38232043,\n",
       " -0.12553324,\n",
       " 0.02851435,\n",
       " 0.37995246,\n",
       " -0.26121813,\n",
       " 0.34369326,\n",
       " 0.6340726,\n",
       " -0.26972598,\n",
       " -0.094626755,\n",
       " -0.45558596,\n",
       " 0.39944637,\n",
       " 0.25274837,\n",
       " -0.5561336,\n",
       " 0.43935305,\n",
       " -0.34345752,\n",
       " -0.5202008,\n",
       " 0.028775271,\n",
       " 0.14148887,\n",
       " -0.16229683,\n",
       " -0.07265549,\n",
       " -0.22631982,\n",
       " 0.2667983,\n",
       " -0.27486202,\n",
       " -0.07394755,\n",
       " -0.0024120084,\n",
       " -0.55683917,\n",
       " -0.3096141,\n",
       " 0.16413862,\n",
       " -0.08026227,\n",
       " 0.22447716,\n",
       " 0.007522732,\n",
       " 0.12822957,\n",
       " -0.15031174,\n",
       " -3.694485e-05,\n",
       " -0.20186938,\n",
       " 0.036840476,\n",
       " 0.61149067,\n",
       " 0.016507413,\n",
       " -0.33407378,\n",
       " 0.2849042,\n",
       " -0.118420005,\n",
       " -0.15524542,\n",
       " -0.010927287,\n",
       " -0.37929136,\n",
       " 0.49845394,\n",
       " 0.15785034,\n",
       " 0.35842076,\n",
       " 0.112920985,\n",
       " 0.52614856,\n",
       " 0.20219493,\n",
       " 0.6453478,\n",
       " 0.09371706,\n",
       " -0.446547,\n",
       " 0.2833947,\n",
       " 0.76475054,\n",
       " 0.18821608,\n",
       " -0.5462913,\n",
       " -0.37556723,\n",
       " 0.16285823,\n",
       " -0.2698099,\n",
       " -0.0409363,\n",
       " -0.3814331,\n",
       " -0.046081834,\n",
       " 0.04857485,\n",
       " -0.30193177,\n",
       " 0.12940592,\n",
       " 0.39335498,\n",
       " 0.0064009097,\n",
       " 0.39795673,\n",
       " 0.19558765,\n",
       " -0.5236324,\n",
       " -0.41389853,\n",
       " -0.25722194,\n",
       " -0.62961596,\n",
       " -0.22740763,\n",
       " 0.64272076,\n",
       " -0.30957013,\n",
       " 0.27735093,\n",
       " -0.46089262,\n",
       " 0.054872982,\n",
       " 0.18870723,\n",
       " 0.32579687,\n",
       " 0.2792905,\n",
       " -0.17082176,\n",
       " -0.20267233,\n",
       " -0.68326,\n",
       " -0.09971782,\n",
       " -0.016218938,\n",
       " 0.16179389,\n",
       " 0.5059685,\n",
       " 0.70191926,\n",
       " 0.1721332,\n",
       " -0.6700956,\n",
       " 0.37993416,\n",
       " 0.5320931,\n",
       " 0.33863324,\n",
       " -0.07669325,\n",
       " -0.022638107,\n",
       " 0.07012236,\n",
       " -0.19285226,\n",
       " 0.44691843,\n",
       " 0.25745246,\n",
       " 0.31670684,\n",
       " 0.31071144,\n",
       " -0.012570297,\n",
       " 0.17748103,\n",
       " 0.10930427,\n",
       " 0.48772636,\n",
       " 0.1456201,\n",
       " 0.08991163,\n",
       " 0.25693116,\n",
       " -0.7201814,\n",
       " 0.49266514,\n",
       " 0.12496872,\n",
       " -0.06991093,\n",
       " 0.07705853,\n",
       " 0.49686706,\n",
       " 0.17114545,\n",
       " 0.21885897,\n",
       " 0.20529217,\n",
       " -0.21642095,\n",
       " -0.26926342,\n",
       " 0.1892955,\n",
       " -0.15952404,\n",
       " 0.48788732,\n",
       " -0.38714778,\n",
       " 0.5503631,\n",
       " -0.14769255,\n",
       " -0.0055225925,\n",
       " -0.16214712,\n",
       " 0.0878792,\n",
       " -0.29023477,\n",
       " 0.10734353,\n",
       " -0.28087175,\n",
       " -0.18627182,\n",
       " -0.10477024,\n",
       " -0.07627631,\n",
       " -0.13306129,\n",
       " -0.29066285,\n",
       " -0.16594337,\n",
       " 0.10842717,\n",
       " -0.42470512,\n",
       " 0.3684517,\n",
       " 0.28953722,\n",
       " 0.648358,\n",
       " -0.2808029,\n",
       " 0.24390201,\n",
       " 0.11559535,\n",
       " 0.6392191,\n",
       " 0.19461851,\n",
       " -0.6205704,\n",
       " -0.1061916,\n",
       " -0.115194626,\n",
       " -0.24514069,\n",
       " -0.39767972,\n",
       " 0.27277353,\n",
       " -0.22097117,\n",
       " 0.17425075,\n",
       " -0.08065355,\n",
       " 0.1464973,\n",
       " -0.13983066,\n",
       " -0.111665815,\n",
       " 0.4149942,\n",
       " 0.5216557,\n",
       " -0.3831494,\n",
       " -0.48126826,\n",
       " -0.47585118,\n",
       " -0.119605005,\n",
       " -0.044120345,\n",
       " 0.17385289,\n",
       " 0.062181573,\n",
       " 0.5952252,\n",
       " -0.20314327,\n",
       " -0.0357645,\n",
       " 0.34803164,\n",
       " -0.38213447,\n",
       " -0.036710814,\n",
       " 0.040200204,\n",
       " -0.3191403,\n",
       " 0.41765705,\n",
       " -0.2633279,\n",
       " 0.41504836,\n",
       " 0.23893625,\n",
       " 0.40366808,\n",
       " 0.08014288,\n",
       " -0.13633998,\n",
       " -0.3259161,\n",
       " 0.36272344,\n",
       " 0.22452058,\n",
       " -0.073110506,\n",
       " -0.2582763,\n",
       " -0.14368057,\n",
       " -0.30561316,\n",
       " 0.5210534,\n",
       " 0.034829143,\n",
       " -0.17524299,\n",
       " 0.52309567,\n",
       " -0.07356767,\n",
       " -0.2860023,\n",
       " -0.042276826,\n",
       " -0.4243734,\n",
       " -0.27787644,\n",
       " 0.18807964,\n",
       " -0.12934402,\n",
       " -0.43692496,\n",
       " 0.3346807,\n",
       " 0.32465947,\n",
       " -0.05818971,\n",
       " -0.70808846,\n",
       " -0.6591205,\n",
       " -0.5941201,\n",
       " 0.22356111,\n",
       " 0.30540025,\n",
       " 0.104129635,\n",
       " 0.32049978,\n",
       " 0.07993906,\n",
       " -0.4398992,\n",
       " -0.31867018,\n",
       " -0.69444007,\n",
       " -0.21010898,\n",
       " 0.381869,\n",
       " 0.05069903,\n",
       " -0.70406914,\n",
       " 0.21774945,\n",
       " -0.19209789,\n",
       " 0.32614893,\n",
       " -0.5207483,\n",
       " -0.0690812,\n",
       " -0.18306053,\n",
       " 0.26418427,\n",
       " -0.3623339,\n",
       " 0.13528542,\n",
       " -0.2258264,\n",
       " -0.32798296,\n",
       " 0.13871159,\n",
       " -0.07126206,\n",
       " -0.24053921,\n",
       " -0.032522947,\n",
       " 0.3242886,\n",
       " 0.020167982,\n",
       " 0.11526577,\n",
       " 0.3899042,\n",
       " -0.17014469,\n",
       " 0.6477803,\n",
       " 0.26918834,\n",
       " -0.23426025,\n",
       " -0.21457557,\n",
       " 0.2027078,\n",
       " 0.081694886,\n",
       " 0.3893367,\n",
       " -0.24238466,\n",
       " 0.43170175,\n",
       " 0.18352944,\n",
       " 0.25824875,\n",
       " -0.03212052,\n",
       " 0.3933107,\n",
       " 0.21263944,\n",
       " -0.08544342,\n",
       " -0.48486632,\n",
       " 0.43509856,\n",
       " -0.2923956,\n",
       " -0.22622982,\n",
       " 0.4063269,\n",
       " 0.11199552,\n",
       " -0.22219367,\n",
       " -0.32751155,\n",
       " 0.15819734,\n",
       " 0.1824003,\n",
       " -0.07131924,\n",
       " -0.035381787,\n",
       " 0.07634332,\n",
       " 0.24243256,\n",
       " -0.10078101,\n",
       " -0.08851784,\n",
       " -0.45414,\n",
       " -0.30002284,\n",
       " -0.3493777,\n",
       " -0.018738404,\n",
       " -0.18277606,\n",
       " -0.24292694,\n",
       " -0.0080795875,\n",
       " 0.20494701,\n",
       " 0.3793938,\n",
       " -0.01953136,\n",
       " -0.2510968,\n",
       " -0.29799548,\n",
       " -0.19037595,\n",
       " -0.62741977,\n",
       " 0.062377598,\n",
       " 0.18867691,\n",
       " 0.122823365,\n",
       " 0.60791945,\n",
       " 0.298344,\n",
       " -0.5016785,\n",
       " -0.013103618,\n",
       " -0.27495962,\n",
       " 0.13791034,\n",
       " -0.5584761,\n",
       " -0.013090285,\n",
       " 0.29839557,\n",
       " -0.043915693,\n",
       " 0.19922471,\n",
       " -0.03613597,\n",
       " 0.031642597,\n",
       " 0.042695057,\n",
       " 0.26691484,\n",
       " -0.36602637,\n",
       " -0.1766494,\n",
       " -0.32601044,\n",
       " -0.17047495,\n",
       " -0.27544138,\n",
       " -0.0766255,\n",
       " -0.18049698,\n",
       " -0.069092296,\n",
       " -0.37794104,\n",
       " 0.48770747,\n",
       " -0.26951587,\n",
       " 0.5836924,\n",
       " 0.61981004,\n",
       " 0.11910254,\n",
       " 0.008350769,\n",
       " 0.1523778,\n",
       " -0.1636664,\n",
       " 0.124763206,\n",
       " -0.14450891,\n",
       " 0.041060396,\n",
       " 0.3082106,\n",
       " -0.37083027,\n",
       " -0.31592125,\n",
       " 0.11637189,\n",
       " 0.14512153,\n",
       " 0.0255956,\n",
       " 0.18893336,\n",
       " -0.13876896,\n",
       " -0.23090969,\n",
       " 0.19330041,\n",
       " -0.6597327,\n",
       " 0.40254575,\n",
       " -0.24708506,\n",
       " 0.24405508,\n",
       " -0.23140039,\n",
       " 0.13426565,\n",
       " -0.4954607,\n",
       " -0.367659,\n",
       " -0.16744092,\n",
       " 0.32704982,\n",
       " -0.34679994,\n",
       " -0.0970019,\n",
       " 0.13103093,\n",
       " 0.35845274,\n",
       " 0.21281788,\n",
       " 0.24228363,\n",
       " -0.41775572,\n",
       " 0.3697398,\n",
       " -0.05470582,\n",
       " 0.78893185,\n",
       " -0.5296404,\n",
       " 0.15971927,\n",
       " -0.038611174,\n",
       " -0.029432476,\n",
       " 0.12190444,\n",
       " -0.15342276,\n",
       " -0.02099519,\n",
       " 0.3268105,\n",
       " 0.4084031,\n",
       " 0.023155935,\n",
       " 0.2413658,\n",
       " 0.16373517,\n",
       " -0.004133903,\n",
       " 0.20007905,\n",
       " -0.46440715,\n",
       " 0.043886993,\n",
       " 0.71189576,\n",
       " -0.2264808,\n",
       " -0.069989555,\n",
       " 0.1694556,\n",
       " 0.33986855,\n",
       " -0.11143888,\n",
       " -0.7850794,\n",
       " 0.7199333,\n",
       " 0.07881562,\n",
       " 0.07016269,\n",
       " 0.12471982,\n",
       " -0.18724695,\n",
       " 0.4597276,\n",
       " 0.5036294,\n",
       " 0.034725953,\n",
       " -0.14781974,\n",
       " -0.021029217,\n",
       " -0.18274994,\n",
       " -0.25405452,\n",
       " 0.04313147,\n",
       " -0.25681487,\n",
       " 0.4118296,\n",
       " -0.36165082,\n",
       " 0.32052046,\n",
       " -0.07381628,\n",
       " 0.45159894,\n",
       " 0.2151485,\n",
       " 0.2498767,\n",
       " 0.10049893,\n",
       " 0.07646883,\n",
       " 0.10927042,\n",
       " 0.18518175,\n",
       " 0.40963194,\n",
       " -0.12403966,\n",
       " -0.2660062,\n",
       " -0.38462454,\n",
       " 0.45732045,\n",
       " -0.0042025913,\n",
       " 0.29308233,\n",
       " 0.12480329,\n",
       " 0.29442784,\n",
       " -0.21469246,\n",
       " -0.22819708,\n",
       " 0.2630355,\n",
       " -0.24997741,\n",
       " -0.6889049,\n",
       " 0.07588133,\n",
       " 0.035821,\n",
       " -0.03965948,\n",
       " -0.27880692,\n",
       " -0.434527,\n",
       " -0.17233233,\n",
       " 0.6604591,\n",
       " -0.4443827,\n",
       " -0.3481006,\n",
       " -0.40908366,\n",
       " 0.27434915,\n",
       " 0.05580737,\n",
       " -0.4640231,\n",
       " 0.009020791,\n",
       " 0.4257944,\n",
       " 0.00029554454,\n",
       " -0.19887361,\n",
       " 0.45444503,\n",
       " 0.15489057,\n",
       " -0.35089785,\n",
       " -0.20590504,\n",
       " -0.73328644,\n",
       " -0.12175962,\n",
       " -0.30021593,\n",
       " 0.028910877,\n",
       " 0.22921284,\n",
       " 0.21837786,\n",
       " -0.5998843,\n",
       " -0.49558273,\n",
       " -0.38471574,\n",
       " 0.08290468,\n",
       " 0.022185694,\n",
       " -0.14922853,\n",
       " 0.39004254,\n",
       " -0.10538014,\n",
       " 0.28795347,\n",
       " -0.2598814,\n",
       " 0.067957364,\n",
       " -0.6808307,\n",
       " -0.39845714,\n",
       " 0.19740522,\n",
       " 0.20256354,\n",
       " -0.05597459,\n",
       " -0.30684328,\n",
       " -0.19575587,\n",
       " -0.16813704,\n",
       " 0.12953083,\n",
       " 0.056028396,\n",
       " -0.48642138,\n",
       " -0.3197647,\n",
       " 0.26067498,\n",
       " 0.28067836,\n",
       " 0.037048113,\n",
       " -0.041830342,\n",
       " -0.008688369,\n",
       " -0.37802,\n",
       " -0.12418904,\n",
       " 0.5298109,\n",
       " 0.19977055,\n",
       " -0.14714278,\n",
       " -0.14358765,\n",
       " 0.086995214,\n",
       " 0.57312226,\n",
       " -0.5481295,\n",
       " -0.34217823,\n",
       " -0.052782208,\n",
       " -0.05701419]"
      ]
     },
     "execution_count": 13,
     "metadata": {},
     "output_type": "execute_result"
    }
   ],
   "source": [
    "cosine_sim(5)"
   ]
  },
  {
   "cell_type": "markdown",
   "metadata": {
    "id": "zw1oNDDD2dZO"
   },
   "source": [
    "Generate another barbell graph, this time adding a path of length 51 between the two complete graphs. To find out how, refer to the NetworkX documentation: [https://urldefense.com/v3/__https://networkx.github.io/documentation/stable/reference/generated/networkx.generators.classic.barbell_graph.html*networkx.generators.classic.barbell_graph*(https:/*networkx.github.io/documentation/stable/reference/generated/networkx.generators.classic.barbell_graph.html*networkx.generators.classic.barbell_graph)*5Cn__;I10vIyU!!Mih3wA!B5yQ0EMVO83h9sfY4d2FF1j_B1ZwkLTm7iWbrV6Rwo_zpnNcmXTltIQ_gFgLlLF-ImNu-FAKdSEANLJesP2lBoA$ \n",
    "Learn the node2vec embeddings for the nodes of this new graph, using the same hyperparameters as before."
   ]
  },
  {
   "cell_type": "code",
   "execution_count": 14,
   "metadata": {
    "id": "OlPg6k6z65Gk",
    "vscode": {
     "languageId": "python"
    }
   },
   "outputs": [
    {
     "data": {
      "application/vnd.jupyter.widget-view+json": {
       "model_id": "b6a77f16ce9e4be5b9e3db5ee01b29f3",
       "version_major": 2,
       "version_minor": 0
      },
      "text/plain": [
       "Computing transition probabilities:   0%|          | 0/550 [00:00<?, ?it/s]"
      ]
     },
     "metadata": {},
     "output_type": "display_data"
    }
   ],
   "source": [
    "# YOUR CODE HERE\n",
    "# path of length 50, 50 nodes in between, 51 edges\n",
    "pathed_barbell = nx.barbell_graph(250, 50)\n",
    "n2v_pathed = Node2Vec_Simplified(pathed_barbell, dimensions=10, walk_length=1, num_walks=1, workers=2)\n",
    "n2v_fitted_pathed = n2v_pathed.fit(window=10, min_count=1)"
   ]
  },
  {
   "cell_type": "code",
   "execution_count": 23,
   "metadata": {},
   "outputs": [
    {
     "data": {
      "text/plain": [
       "array([[ 0.03548221,  0.07308824, -0.03286429,  0.0575874 , -0.0941269 ,\n",
       "         0.08842599,  0.03753363,  0.05311135,  0.04648409,  0.04566954],\n",
       "       [-0.08956999, -0.00735199,  0.08152507,  0.0769043 , -0.07206116,\n",
       "        -0.03666831,  0.03118552, -0.09570722,  0.01476439,  0.06524466],\n",
       "       [ 0.06173587,  0.03074292,  0.08549236, -0.03515792, -0.08894833,\n",
       "         0.01333219, -0.08987468,  0.06042774,  0.08442573,  0.00502051],\n",
       "       [ 0.09805566,  0.07366648, -0.07460725, -0.01899958,  0.04252038,\n",
       "         0.07059605, -0.03663687, -0.06973082,  0.04724835, -0.09038607],\n",
       "       [ 0.05746419, -0.08763061, -0.04517144, -0.08140161,  0.00045956,\n",
       "         0.09263633,  0.05973306,  0.05067308,  0.05061062, -0.03242917]],\n",
       "      dtype=float32)"
      ]
     },
     "execution_count": 23,
     "metadata": {},
     "output_type": "execute_result"
    }
   ],
   "source": [
    "n2v_fitted_pathed.wv[[str(i) for i in range(5)]]"
   ]
  },
  {
   "cell_type": "code",
   "execution_count": null,
   "metadata": {},
   "outputs": [],
   "source": []
  }
 ],
 "metadata": {
  "kernelspec": {
   "display_name": "Python 3 (ipykernel)",
   "language": "python",
   "name": "python3"
  },
  "language_info": {
   "codemirror_mode": {
    "name": "ipython",
    "version": 3
   },
   "file_extension": ".py",
   "mimetype": "text/x-python",
   "name": "python",
   "nbconvert_exporter": "python",
   "pygments_lexer": "ipython3",
   "version": "3.9.12"
  }
 },
 "nbformat": 4,
 "nbformat_minor": 1
}
